{
 "cells": [
  {
   "cell_type": "code",
   "execution_count": 2,
   "metadata": {},
   "outputs": [],
   "source": [
    "%load_ext autoreload\n",
    "%autoreload 2\n",
    "import sys\n",
    "sys.path.insert(0, \"../src/\")\n",
    "sys.path.insert(0, \"../../../src/\")\n",
    "sys.path.insert(0, \"../../../projects/skimpy_bench/src/\")\n",
    "sys.path.insert(0, \"../../../projects/skimpy_blox/\")"
   ]
  },
  {
   "cell_type": "code",
   "execution_count": 3,
   "metadata": {},
   "outputs": [],
   "source": [
    "import random\n",
    "import numpy as np\n",
    "import skimpy\n",
    "import skimpy_3d\n",
    "from skimpy_blox import minecraft, colors\n",
    "from skimpy import functional as F\n",
    "import ipywebrtc\n",
    "\n",
    "SHOW_RUNS_MODE = True"
   ]
  },
  {
   "cell_type": "code",
   "execution_count": 4,
   "metadata": {},
   "outputs": [],
   "source": [
    "def show_runs(t, runs_value=2):\n",
    "    q = t.reshape(len(t))\n",
    "    ret = skimpy.Tensor(len(t), val=q.to(bool).to(int)._tensor.array())\n",
    "    run_points = runs_value * (\n",
    "        (\n",
    "            (q[:(len(q) - 1)] == q[1:])\n",
    "        )\n",
    "        & (q[1:] != 0)\n",
    "    ).to(int)\n",
    "\n",
    "    ret[1:] = ret[1:].max(run_points)\n",
    "    ret[0:(len(ret) - 1)] = ret[0:(len(ret) - 1)].max(runs_value * (ret[1:] == 2).to(int))\n",
    "    return ret.reshape(t.shape)\n",
    "    "
   ]
  },
  {
   "cell_type": "code",
   "execution_count": 5,
   "metadata": {},
   "outputs": [
    {
     "name": "stdout",
     "output_type": "stream",
     "text": [
      "CPU times: user 598 ms, sys: 61.7 ms, total: 660 ms\n",
      "Wall time: 660 ms\n"
     ]
    }
   ],
   "source": [
    "%%time\n",
    "# level = minecraft.SkimpyMinecraftLevel.load(\"../data/sample_minecraft_world.pickle.gz\")\n",
    "level = minecraft.SkimpyMinecraftLevel.load(\"../data/Hogwarts1.0.pickle.gz\")"
   ]
  },
  {
   "cell_type": "code",
   "execution_count": 6,
   "metadata": {},
   "outputs": [
    {
     "name": "stdout",
     "output_type": "stream",
     "text": [
      "CPU times: user 25.5 s, sys: 1.99 s, total: 27.5 s\n",
      "Wall time: 3.14 s\n"
     ]
    }
   ],
   "source": [
    "%%time\n",
    "t = level.megatensor()\n",
    "# t = level.chunk_list[0].tensor\n",
    "if SHOW_RUNS_MODE:\n",
    "    t = show_runs(t)"
   ]
  },
  {
   "cell_type": "code",
   "execution_count": 7,
   "metadata": {},
   "outputs": [
    {
     "name": "stdout",
     "output_type": "stream",
     "text": [
      "0=>669083423\n",
      "1=>461406\n",
      "2=>12291715\n",
      "3=>0\n",
      "4=>0\n",
      "5=>0\n",
      "6=>0\n",
      "7=>0\n",
      "8=>0\n",
      "9=>0\n",
      "10=>0\n",
      "11=>0\n",
      "12=>0\n",
      "13=>0\n",
      "14=>0\n",
      "15=>0\n",
      "16=>0\n",
      "17=>0\n",
      "18=>0\n",
      "19=>0\n"
     ]
    }
   ],
   "source": [
    "for i in range(20):\n",
    "    print(f\"{i}=>{F.sum((t == i).to(int))}\")"
   ]
  },
  {
   "cell_type": "code",
   "execution_count": 8,
   "metadata": {},
   "outputs": [],
   "source": [
    "config = skimpy_3d.VoxelConfig()\n",
    "config[0] = skimpy_3d.EmptyVoxel()\n",
    "if SHOW_RUNS_MODE:\n",
    "    config[1] = skimpy_3d.ColorVoxel(255, 255, 255)\n",
    "    config[2] = skimpy_3d.ColorVoxel(255, 105, 180)\n",
    "else:    \n",
    "    for i in range(1, 256):\n",
    "        r, g, b = colors.color_for_id(i)\n",
    "        config[i] = skimpy_3d.ColorVoxel(r, g, b)"
   ]
  },
  {
   "cell_type": "code",
   "execution_count": 9,
   "metadata": {},
   "outputs": [
    {
     "name": "stdout",
     "output_type": "stream",
     "text": [
      "CPU times: user 6.28 s, sys: 581 ms, total: 6.87 s\n",
      "Wall time: 1.73 s\n"
     ]
    }
   ],
   "source": [
    "%%time\n",
    "mesh = skimpy_3d.generate_mesh(config, t._tensor)"
   ]
  },
  {
   "cell_type": "code",
   "execution_count": 17,
   "metadata": {},
   "outputs": [
    {
     "data": {
      "text/plain": [
       "342291312"
      ]
     },
     "execution_count": 17,
     "metadata": {},
     "output_type": "execute_result"
    }
   ],
   "source": []
  },
  {
   "cell_type": "code",
   "execution_count": 27,
   "metadata": {},
   "outputs": [
    {
     "data": {
      "text/plain": [
       "29.843810116358068"
      ]
     },
     "execution_count": 27,
     "metadata": {},
     "output_type": "execute_result"
    }
   ],
   "source": [
    "(len(mesh.triangles) * 4  + len(mesh.positions) * 4) / (level.num_runs() * 2 * 4) "
   ]
  },
  {
   "cell_type": "code",
   "execution_count": 10,
   "metadata": {},
   "outputs": [],
   "source": [
    "from pythreejs import *\n",
    "import numpy as np\n",
    "from IPython.display import display"
   ]
  },
  {
   "cell_type": "code",
   "execution_count": 11,
   "metadata": {},
   "outputs": [
    {
     "name": "stdout",
     "output_type": "stream",
     "text": [
      "CPU times: user 15.1 s, sys: 1.81 s, total: 16.9 s\n",
      "Wall time: 16.5 s\n"
     ]
    }
   ],
   "source": [
    "%%time \n",
    "\n",
    "geometry = BufferGeometry(\n",
    "    attributes={\n",
    "        \"position\": BufferAttribute(\n",
    "            np.array(mesh.positions, dtype='float32').reshape(-1, 3),\n",
    "            normalized=False,\n",
    "        ),\n",
    "        \"normal\": BufferAttribute(\n",
    "            np.array(mesh.normals, dtype='float32').reshape(-1, 3),\n",
    "            normalized=False,\n",
    "        ),\n",
    "        \"color\": BufferAttribute(\n",
    "            np.array(mesh.colors, dtype='uint8').reshape(-1, 4)\n",
    "        ),\n",
    "        \"index\": BufferAttribute(\n",
    "            np.array(mesh.triangles, dtype='uint32'),\n",
    "            normalized=False,\n",
    "        ),\n",
    "    },\n",
    ")"
   ]
  },
  {
   "cell_type": "code",
   "execution_count": 12,
   "metadata": {},
   "outputs": [],
   "source": [
    "js_mesh = Mesh(\n",
    "    geometry=geometry,\n",
    "    material=MeshLambertMaterial(vertexColors=\"VertexColors\"),\n",
    "    position=[0, 0, 0],\n",
    ")"
   ]
  },
  {
   "cell_type": "code",
   "execution_count": 13,
   "metadata": {},
   "outputs": [
    {
     "data": {
      "text/plain": [
       "'\\ncamera_pos = level.xyz_to_skimpy_col(level.dense_dimensions())\\ncamera = PerspectiveCamera(position=camera_pos, lookAt=(0,0,0), fov=20)\\nup = [0, 0, 0]\\nup[level.column_order[1]] = 1\\ncamera.up = tuple(up)\\n'"
      ]
     },
     "execution_count": 13,
     "metadata": {},
     "output_type": "execute_result"
    }
   ],
   "source": [
    "\"\"\"\n",
    "camera_pos = level.xyz_to_skimpy_col(level.dense_dimensions())\n",
    "camera = PerspectiveCamera(position=camera_pos, lookAt=(0,0,0), fov=20)\n",
    "up = [0, 0, 0]\n",
    "up[level.column_order[1]] = 1\n",
    "camera.up = tuple(up)\n",
    "\"\"\""
   ]
  },
  {
   "cell_type": "code",
   "execution_count": 14,
   "metadata": {},
   "outputs": [
    {
     "ename": "NameError",
     "evalue": "name 'camera' is not defined",
     "output_type": "error",
     "traceback": [
      "\u001b[0;31m---------------------------------------------------------------------------\u001b[0m",
      "\u001b[0;31mNameError\u001b[0m                                 Traceback (most recent call last)",
      "\u001b[0;32m<ipython-input-14-b49268b691af>\u001b[0m in \u001b[0;36m<module>\u001b[0;34m\u001b[0m\n\u001b[1;32m      5\u001b[0m \u001b[0;31m#normals_helper = VertexNormalsHelper(js_mesh, size=0.5, color=\"#ffcc00\")\u001b[0m\u001b[0;34m\u001b[0m\u001b[0;34m\u001b[0m\u001b[0;34m\u001b[0m\u001b[0m\n\u001b[1;32m      6\u001b[0m \u001b[0;34m\u001b[0m\u001b[0m\n\u001b[0;32m----> 7\u001b[0;31m \u001b[0mscene\u001b[0m \u001b[0;34m=\u001b[0m \u001b[0mScene\u001b[0m\u001b[0;34m(\u001b[0m\u001b[0mchildren\u001b[0m\u001b[0;34m=\u001b[0m\u001b[0;34m[\u001b[0m\u001b[0mjs_mesh\u001b[0m\u001b[0;34m,\u001b[0m \u001b[0mcamera\u001b[0m\u001b[0;34m,\u001b[0m \u001b[0mpoint_light\u001b[0m\u001b[0;34m,\u001b[0m \u001b[0mglobal_light\u001b[0m\u001b[0;34m]\u001b[0m\u001b[0;34m)\u001b[0m\u001b[0;34m\u001b[0m\u001b[0;34m\u001b[0m\u001b[0m\n\u001b[0m",
      "\u001b[0;31mNameError\u001b[0m: name 'camera' is not defined"
     ]
    }
   ],
   "source": [
    "light_position = level.xyz_to_skimpy_col(tuple(e / 2 for e in level.dense_dimensions()))\n",
    "point_light = PointLight(color='#ffffff', position=light_position)\n",
    "global_light = AmbientLight(color='#333333')\n",
    "\n",
    "#normals_helper = VertexNormalsHelper(js_mesh, size=0.5, color=\"#ffcc00\")\n",
    "\n",
    "scene = Scene(children=[js_mesh, camera, point_light, global_light])"
   ]
  },
  {
   "cell_type": "code",
   "execution_count": null,
   "metadata": {},
   "outputs": [],
   "source": [
    "camera.position"
   ]
  },
  {
   "cell_type": "code",
   "execution_count": null,
   "metadata": {},
   "outputs": [],
   "source": [
    "camera.lookAt"
   ]
  },
  {
   "cell_type": "code",
   "execution_count": null,
   "metadata": {},
   "outputs": [],
   "source": [
    "stream = ipywebrtc.WidgetStream(widget=renderer, max_fps=30)"
   ]
  },
  {
   "cell_type": "code",
   "execution_count": null,
   "metadata": {},
   "outputs": [],
   "source": [
    "recorder = ipywebrtc.ImageRecorder(filename='snapshot', format='png', stream=stream)"
   ]
  },
  {
   "cell_type": "raw",
   "metadata": {},
   "source": []
  },
  {
   "cell_type": "code",
   "execution_count": null,
   "metadata": {},
   "outputs": [],
   "source": [
    "recorder.save(\"/home/tdimson/Downloads/render.png\")"
   ]
  },
  {
   "cell_type": "code",
   "execution_count": null,
   "metadata": {},
   "outputs": [],
   "source": [
    "renderer = Renderer(\n",
    "    camera=camera, \n",
    "    background=\"#b0b0b0\", \n",
    "    background_opacity=1,\n",
    "    scene=scene,\n",
    "    controls=[OrbitControls(controlling=camera)],\n",
    "    width=984,\n",
    "    height=984,\n",
    ")\n",
    "\n",
    "display(renderer)"
   ]
  }
 ],
 "metadata": {
  "kernelspec": {
   "display_name": "Python 3",
   "language": "python",
   "name": "python3"
  },
  "language_info": {
   "codemirror_mode": {
    "name": "ipython",
    "version": 3
   },
   "file_extension": ".py",
   "mimetype": "text/x-python",
   "name": "python",
   "nbconvert_exporter": "python",
   "pygments_lexer": "ipython3",
   "version": "3.7.6"
  }
 },
 "nbformat": 4,
 "nbformat_minor": 4
}
