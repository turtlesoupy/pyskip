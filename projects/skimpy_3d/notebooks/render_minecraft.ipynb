{
 "cells": [
  {
   "cell_type": "code",
   "execution_count": null,
   "metadata": {},
   "outputs": [],
   "source": [
    "%load_ext autoreload\n",
    "%autoreload 2\n",
    "import sys\n",
    "sys.path.insert(0, \"../src/\")"
   ]
  },
  {
   "cell_type": "code",
   "execution_count": 1,
   "metadata": {},
   "outputs": [],
   "source": [
    "import random\n",
    "import numpy as np\n",
    "import skimpy\n",
    "import skimpy_3d\n",
    "from skimpy_blox import minecraft\n",
    "from skimpy import functional as F"
   ]
  },
  {
   "cell_type": "code",
   "execution_count": 2,
   "metadata": {},
   "outputs": [],
   "source": [
    "level = minecraft.SkimpyMinecraftLevel.load(\"../data/vanillaburp.pickle.gz\")"
   ]
  },
  {
   "cell_type": "code",
   "execution_count": 3,
   "metadata": {},
   "outputs": [],
   "source": [
    "t = level.megatensor()"
   ]
  },
  {
   "cell_type": "code",
   "execution_count": 4,
   "metadata": {},
   "outputs": [
    {
     "name": "stdout",
     "output_type": "stream",
     "text": [
      "0=>22615704\n",
      "1=>12336\n",
      "2=>6168\n",
      "3=>74016\n",
      "4=>0\n",
      "5=>0\n",
      "6=>0\n",
      "7=>0\n",
      "8=>0\n",
      "9=>0\n",
      "10=>0\n",
      "11=>0\n",
      "12=>0\n",
      "13=>0\n",
      "14=>0\n",
      "15=>0\n",
      "16=>0\n",
      "17=>0\n",
      "18=>0\n",
      "19=>0\n"
     ]
    }
   ],
   "source": [
    "for i in range(20):\n",
    "    print(f\"{i}=>{F.sum((t == i).to(int))}\")"
   ]
  },
  {
   "cell_type": "code",
   "execution_count": null,
   "metadata": {},
   "outputs": [],
   "source": []
  },
  {
   "cell_type": "code",
   "execution_count": 5,
   "metadata": {},
   "outputs": [],
   "source": [
    "config = skimpy_3d.VoxelConfig()\n",
    "config[0] = skimpy_3d.EmptyVoxel()\n",
    "for i in range(1, 13):\n",
    "    config[i] = skimpy_3d.ColorVoxel(\n",
    "        random.randint(0, 255),\n",
    "        random.randint(0, 255),\n",
    "        random.randint(0, 255),\n",
    "    )"
   ]
  },
  {
   "cell_type": "code",
   "execution_count": 6,
   "metadata": {},
   "outputs": [
    {
     "name": "stdout",
     "output_type": "stream",
     "text": [
      "Wall time: 46.5 ms\n"
     ]
    }
   ],
   "source": [
    "%%time\n",
    "mesh = skimpy_3d.generate_mesh(config, t._tensor)"
   ]
  },
  {
   "cell_type": "code",
   "execution_count": 7,
   "metadata": {},
   "outputs": [
    {
     "data": {
      "text/plain": [
       "112536"
      ]
     },
     "execution_count": 7,
     "metadata": {},
     "output_type": "execute_result"
    }
   ],
   "source": [
    "len(mesh.triangles)"
   ]
  },
  {
   "cell_type": "code",
   "execution_count": 8,
   "metadata": {},
   "outputs": [],
   "source": [
    "from pythreejs import *\n",
    "import numpy as np\n",
    "from IPython.display import display"
   ]
  },
  {
   "cell_type": "code",
   "execution_count": 9,
   "metadata": {},
   "outputs": [],
   "source": [
    "geometry = BufferGeometry(\n",
    "    attributes={\n",
    "        \"position\": BufferAttribute(\n",
    "            np.array(mesh.positions, dtype='float32').reshape(-1, 3),\n",
    "            normalized=False,\n",
    "        ),\n",
    "        \"index\": BufferAttribute(\n",
    "            np.array(mesh.triangles, dtype='uint32'),\n",
    "            normalized=False,\n",
    "        ),\n",
    "        \"color\": BufferAttribute(\n",
    "            np.array(mesh.colors, dtype='float32').reshape(-1, 3) / 255.0,\n",
    "        ),\n",
    "    },\n",
    ")"
   ]
  },
  {
   "cell_type": "code",
   "execution_count": 10,
   "metadata": {},
   "outputs": [],
   "source": [
    "geometry.exec_three_obj_method(\"computeVertexNormals\")"
   ]
  },
  {
   "cell_type": "code",
   "execution_count": 11,
   "metadata": {},
   "outputs": [],
   "source": [
    "js_mesh = Mesh(\n",
    "    geometry=geometry,\n",
    "    material=MeshLambertMaterial(vertexColors=\"VertexColors\"),\n",
    "    position=[0, 0, 0],\n",
    ")"
   ]
  },
  {
   "cell_type": "code",
   "execution_count": 12,
   "metadata": {},
   "outputs": [],
   "source": [
    "camera = PerspectiveCamera(position=[300, 50, 1200], fov=20)\n",
    "\n",
    "point_light = PointLight(color='#ffffff', position=[5, 5, 0])\n",
    "global_light = AmbientLight(color='#333333')\n",
    "\n",
    "#normals_helper = VertexNormalsHelper(js_mesh, size=0.5, color=\"#ffcc00\")\n",
    "\n",
    "scene = Scene(children=[js_mesh, camera, point_light, global_light])"
   ]
  },
  {
   "cell_type": "code",
   "execution_count": 13,
   "metadata": {},
   "outputs": [
    {
     "data": {
      "application/vnd.jupyter.widget-view+json": {
       "model_id": "55bdbe2f8adf41d58021284c2b1fe87d",
       "version_major": 2,
       "version_minor": 0
      },
      "text/plain": [
       "Renderer(background='white', camera=PerspectiveCamera(fov=20.0, position=(300.0, 50.0, 1200.0), quaternion=(0.…"
      ]
     },
     "metadata": {},
     "output_type": "display_data"
    }
   ],
   "source": [
    "renderer = Renderer(\n",
    "    camera=camera, \n",
    "    background=\"white\", \n",
    "    background_opacity=1,\n",
    "    scene=scene,\n",
    "    controls=[OrbitControls(controlling=camera)],\n",
    "    width=984,\n",
    "    height=984,\n",
    ")\n",
    "\n",
    "display(renderer)"
   ]
  },
  {
   "cell_type": "code",
   "execution_count": null,
   "metadata": {},
   "outputs": [],
   "source": []
  }
 ],
 "metadata": {
  "kernelspec": {
   "display_name": "Python 3",
   "language": "python",
   "name": "python3"
  },
  "language_info": {
   "codemirror_mode": {
    "name": "ipython",
    "version": 3
   },
   "file_extension": ".py",
   "mimetype": "text/x-python",
   "name": "python",
   "nbconvert_exporter": "python",
   "pygments_lexer": "ipython3",
   "version": "3.7.0"
  }
 },
 "nbformat": 4,
 "nbformat_minor": 4
}
