{
 "cells": [
  {
   "cell_type": "code",
   "execution_count": 1,
   "metadata": {},
   "outputs": [],
   "source": [
    "%load_ext autoreload\n",
    "%autoreload 2\n",
    "import sys\n",
    "sys.path.insert(0, \"../src/\")\n",
    "sys.path.insert(0, \"../../../src/\")\n",
    "sys.path.insert(0, \"../../../projects/skimpy_bench/src/\")\n",
    "sys.path.insert(0, \"../../../projects/skimpy_blox/\")"
   ]
  },
  {
   "cell_type": "code",
   "execution_count": 2,
   "metadata": {},
   "outputs": [],
   "source": [
    "import random\n",
    "import numpy as np\n",
    "import skimpy\n",
    "import skimpy_3d\n",
    "from skimpy_blox import minecraft, colors\n",
    "from skimpy import functional as F"
   ]
  },
  {
   "cell_type": "code",
   "execution_count": 3,
   "metadata": {},
   "outputs": [
    {
     "name": "stdout",
     "output_type": "stream",
     "text": [
      "Wall time: 1.91 s\n"
     ]
    }
   ],
   "source": [
    "%%time\n",
    "level = minecraft.SkimpyMinecraftLevel.load(\"../data/sample_minecraft_world.pickle.gz\")"
   ]
  },
  {
   "cell_type": "code",
   "execution_count": 4,
   "metadata": {},
   "outputs": [
    {
     "name": "stdout",
     "output_type": "stream",
     "text": [
      "Wall time: 0 ns\n"
     ]
    }
   ],
   "source": [
    "%%time\n",
    "#t = level.megatensor()\n",
    "t = level.chunk_list[0].tensor"
   ]
  },
  {
   "cell_type": "code",
   "execution_count": 5,
   "metadata": {},
   "outputs": [
    {
     "name": "stdout",
     "output_type": "stream",
     "text": [
      "0=>4145\n",
      "1=>14171\n",
      "2=>250\n",
      "3=>1091\n",
      "4=>0\n",
      "5=>0\n",
      "6=>0\n",
      "7=>256\n",
      "8=>0\n",
      "9=>20\n",
      "10=>0\n",
      "11=>62\n",
      "12=>24\n",
      "13=>60\n",
      "14=>6\n",
      "15=>95\n",
      "16=>169\n",
      "17=>0\n",
      "18=>0\n",
      "19=>0\n"
     ]
    }
   ],
   "source": [
    "for i in range(20):\n",
    "    print(f\"{i}=>{F.sum((t == i).to(int))}\")"
   ]
  },
  {
   "cell_type": "code",
   "execution_count": 6,
   "metadata": {},
   "outputs": [],
   "source": [
    "config = skimpy_3d.VoxelConfig()\n",
    "config[0] = skimpy_3d.EmptyVoxel()\n",
    "for i in range(1, 256):\n",
    "    r, g, b = colors.color_for_id(i)\n",
    "    config[i] = skimpy_3d.ColorVoxel(r, g, b)"
   ]
  },
  {
   "cell_type": "code",
   "execution_count": 7,
   "metadata": {},
   "outputs": [
    {
     "name": "stdout",
     "output_type": "stream",
     "text": [
      "Wall time: 20 ms\n"
     ]
    }
   ],
   "source": [
    "%%time\n",
    "mesh = skimpy_3d.generate_mesh(config, t._tensor)"
   ]
  },
  {
   "cell_type": "code",
   "execution_count": 8,
   "metadata": {},
   "outputs": [],
   "source": [
    "from pythreejs import *\n",
    "import numpy as np\n",
    "from IPython.display import display"
   ]
  },
  {
   "cell_type": "code",
   "execution_count": 9,
   "metadata": {},
   "outputs": [
    {
     "name": "stdout",
     "output_type": "stream",
     "text": [
      "Wall time: 44 ms\n"
     ]
    }
   ],
   "source": [
    "%%time \n",
    "\n",
    "geometry = BufferGeometry(\n",
    "    attributes={\n",
    "        \"position\": BufferAttribute(\n",
    "            np.array(mesh.positions, dtype='float32').reshape(-1, 3),\n",
    "            normalized=False,\n",
    "        ),\n",
    "        \"normal\": BufferAttribute(\n",
    "            np.array(mesh.normals, dtype='float32').reshape(-1, 3),\n",
    "            normalized=False,\n",
    "        ),\n",
    "        \"color\": BufferAttribute(\n",
    "            np.array(mesh.colors, dtype='uint8').reshape(-1, 4)\n",
    "        ),\n",
    "        \"index\": BufferAttribute(\n",
    "            np.array(mesh.triangles, dtype='uint32'),\n",
    "            normalized=False,\n",
    "        ),\n",
    "    },\n",
    ")"
   ]
  },
  {
   "cell_type": "code",
   "execution_count": 10,
   "metadata": {},
   "outputs": [],
   "source": [
    "js_mesh = Mesh(\n",
    "    geometry=geometry,\n",
    "    material=MeshLambertMaterial(vertexColors=\"VertexColors\"),\n",
    "    position=[0, 0, 0],\n",
    ")"
   ]
  },
  {
   "cell_type": "code",
   "execution_count": 11,
   "metadata": {},
   "outputs": [
    {
     "data": {
      "application/vnd.jupyter.widget-view+json": {
       "model_id": "f6748df779e04d04844090e32dcd705f",
       "version_major": 2,
       "version_minor": 0
      },
      "text/plain": [
       "Preview(child=Mesh(geometry=BufferGeometry(attributes={'position': <BufferAttribute shape=(20080, 3), dtype=fl…"
      ]
     },
     "metadata": {},
     "output_type": "display_data"
    }
   ],
   "source": [
    "js_mesh"
   ]
  },
  {
   "cell_type": "code",
   "execution_count": null,
   "metadata": {},
   "outputs": [],
   "source": [
    "camera_pos = level.xyz_to_skimpy_col(level.dense_dimensions())\n",
    "camera_pos = (10, 10, 10)\n",
    "camera = PerspectiveCamera(position=camera_pos, lookAt=(0,0,0), fov=20)\n",
    "up = [0, 0, 0]\n",
    "up[level.column_order[1]] = 1\n",
    "camera.up = tuple(up)"
   ]
  },
  {
   "cell_type": "code",
   "execution_count": null,
   "metadata": {},
   "outputs": [],
   "source": [
    "light_position = level.xyz_to_skimpy_col(tuple(e / 2 for e in level.dense_dimensions()))\n",
    "point_light = PointLight(color='#ffffff', position=light_position)\n",
    "global_light = AmbientLight(color='#333333')\n",
    "\n",
    "#normals_helper = VertexNormalsHelper(js_mesh, size=0.5, color=\"#ffcc00\")\n",
    "\n",
    "scene = Scene(children=[js_mesh, camera, point_light, global_light])"
   ]
  },
  {
   "cell_type": "code",
   "execution_count": null,
   "metadata": {
    "scrolled": false
   },
   "outputs": [],
   "source": [
    "renderer = Renderer(\n",
    "    camera=camera, \n",
    "    background=\"white\", \n",
    "    background_opacity=1,\n",
    "    scene=scene,\n",
    "    controls=[OrbitControls(controlling=camera)],\n",
    "    width=984,\n",
    "    height=984,\n",
    ")\n",
    "\n",
    "display(renderer)"
   ]
  }
 ],
 "metadata": {
  "kernelspec": {
   "display_name": "Python 3",
   "language": "python",
   "name": "python3"
  },
  "language_info": {
   "codemirror_mode": {
    "name": "ipython",
    "version": 3
   },
   "file_extension": ".py",
   "mimetype": "text/x-python",
   "name": "python",
   "nbconvert_exporter": "python",
   "pygments_lexer": "ipython3",
   "version": "3.7.0"
  }
 },
 "nbformat": 4,
 "nbformat_minor": 4
}
