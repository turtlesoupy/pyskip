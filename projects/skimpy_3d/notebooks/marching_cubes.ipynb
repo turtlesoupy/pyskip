{
 "cells": [
  {
   "cell_type": "code",
   "execution_count": 80,
   "metadata": {},
   "outputs": [
    {
     "name": "stdout",
     "output_type": "stream",
     "text": [
      "The autoreload extension is already loaded. To reload it, use:\n",
      "  %reload_ext autoreload\n"
     ]
    }
   ],
   "source": [
    "%load_ext autoreload\n",
    "%autoreload 2\n",
    "import sys\n",
    "sys.path.insert(0, \"../src/\")\n",
    "sys.path.insert(0, \"../../../src/\")\n",
    "sys.path.insert(0, \"../../../projects/skimpy_bench/src/\")\n",
    "sys.path.insert(0, \"../../../projects/skimpy_blox/\")"
   ]
  },
  {
   "cell_type": "code",
   "execution_count": 81,
   "metadata": {},
   "outputs": [],
   "source": [
    "import skimpy\n",
    "import skimpy.functional as F\n",
    "import skimpy_3d"
   ]
  },
  {
   "cell_type": "code",
   "execution_count": 164,
   "metadata": {},
   "outputs": [],
   "source": [
    "def blur(tensor):\n",
    "    G_x = (1 / 64.0) * skimpy.Tensor.from_list([[[1, 6, 15, 20, 15, 6, 1]]]).to(float)\n",
    "    G_y = (1 / 64.0) * skimpy.Tensor.from_list([[[1], [6], [15], [20], [15], [6], [1]]]).to(float)\n",
    "    G_z = (1 / 64.0) * skimpy.Tensor.from_list([[[1]], [[6]], [[15]], [[20]], [[15]], [[6]], [[1]]]).to(float)\n",
    "    tensor = F.conv_3d(tensor, G_x, padding=(3, 0, 0), fill=0.0)\n",
    "    tensor = F.conv_3d(tensor, G_y, padding=(0, 3, 0), fill=0.0)  \n",
    "    tensor = F.conv_3d(tensor, G_z, padding=(0, 0, 3), fill=0.0)\n",
    "    return tensor"
   ]
  },
  {
   "cell_type": "code",
   "execution_count": 165,
   "metadata": {},
   "outputs": [],
   "source": [
    "t = skimpy.Tensor(shape=(256, 256, 256), val=0, dtype=float)"
   ]
  },
  {
   "cell_type": "code",
   "execution_count": 166,
   "metadata": {},
   "outputs": [],
   "source": [
    "t[64:192, 64:192, 64:192] = 1\n",
    "t[5:120, 70:210, :] = 0\n",
    "t[86:130, 80:120, 86:170] = 1"
   ]
  },
  {
   "cell_type": "code",
   "execution_count": 167,
   "metadata": {},
   "outputs": [
    {
     "name": "stdout",
     "output_type": "stream",
     "text": [
      "Wall time: 1.67 s\n"
     ]
    }
   ],
   "source": [
    "%%time\n",
    "for i in range(5):\n",
    "    t = blur(t)"
   ]
  },
  {
   "cell_type": "code",
   "execution_count": 168,
   "metadata": {},
   "outputs": [],
   "source": [
    "config = skimpy_3d.VoxelConfig()\n",
    "config[0] = skimpy_3d.EmptyVoxel()\n",
    "config[1] = skimpy_3d.ColorVoxel(0, 200, 200)"
   ]
  },
  {
   "cell_type": "code",
   "execution_count": 169,
   "metadata": {},
   "outputs": [
    {
     "name": "stdout",
     "output_type": "stream",
     "text": [
      "Wall time: 478 ms\n"
     ]
    }
   ],
   "source": [
    "%%time\n",
    "mesh = skimpy_3d.generate_mesh(config, (t > 0.5).to(int)._tensor)"
   ]
  },
  {
   "cell_type": "code",
   "execution_count": 170,
   "metadata": {},
   "outputs": [],
   "source": [
    "from pythreejs import *\n",
    "import numpy as np\n",
    "from IPython.display import display"
   ]
  },
  {
   "cell_type": "code",
   "execution_count": 171,
   "metadata": {},
   "outputs": [],
   "source": [
    "js_mesh = Mesh(\n",
    "    geometry=BufferGeometry(\n",
    "        attributes={\n",
    "            \"position\": BufferAttribute(\n",
    "                np.array(mesh.positions, dtype='float32').reshape(-1, 3),\n",
    "                normalized=False,\n",
    "            ),\n",
    "            \"normal\": BufferAttribute(\n",
    "                np.array(mesh.normals, dtype='float32').reshape(-1, 3),\n",
    "                normalized=False,\n",
    "            ),\n",
    "            \"color\": BufferAttribute(\n",
    "                np.array(mesh.colors, dtype='uint8').reshape(-1, 4)\n",
    "            ),\n",
    "            \"index\": BufferAttribute(\n",
    "                np.array(mesh.triangles, dtype='uint32'),\n",
    "                normalized=False,\n",
    "            ),\n",
    "        },\n",
    "    ),\n",
    "    material=MeshLambertMaterial(vertexColors=\"VertexColors\"),\n",
    "    position=[0, 0, 0],\n",
    ")"
   ]
  },
  {
   "cell_type": "code",
   "execution_count": 172,
   "metadata": {},
   "outputs": [
    {
     "data": {
      "application/vnd.jupyter.widget-view+json": {
       "model_id": "8b1672a9fe274fd5b64d049cb0054625",
       "version_major": 2,
       "version_minor": 0
      },
      "text/plain": [
       "Preview(child=Mesh(geometry=BufferGeometry(attributes={'position': <BufferAttribute shape=(369760, 3), dtype=f…"
      ]
     },
     "metadata": {},
     "output_type": "display_data"
    }
   ],
   "source": [
    "js_mesh"
   ]
  },
  {
   "cell_type": "code",
   "execution_count": 173,
   "metadata": {},
   "outputs": [
    {
     "name": "stdout",
     "output_type": "stream",
     "text": [
      "Wall time: 48 ms\n"
     ]
    }
   ],
   "source": [
    "%%time\n",
    "for i in range(2):\n",
    "    t = sum([\n",
    "        0.125 * t[0::2, 0::2, 0::2],\n",
    "        0.125 * t[1::2, 0::2, 0::2],\n",
    "        0.125 * t[0::2, 1::2, 0::2],\n",
    "        0.125 * t[1::2, 1::2, 0::2],\n",
    "        0.125 * t[0::2, 0::2, 1::2],\n",
    "        0.125 * t[1::2, 0::2, 1::2],\n",
    "        0.125 * t[0::2, 1::2, 1::2],\n",
    "        0.125 * t[1::2, 1::2, 1::2],\n",
    "    ])"
   ]
  },
  {
   "cell_type": "code",
   "execution_count": 174,
   "metadata": {},
   "outputs": [],
   "source": [
    "avg_kernel = skimpy.Tensor.from_list([[[1, 1], [1, 1]], [[1, 1], [1, 1]]]).to(float) / 8\n",
    "density_lattice = F.conv_3d(\n",
    "    t,\n",
    "    avg_kernel,\n",
    "    padding=1,\n",
    ")"
   ]
  },
  {
   "cell_type": "code",
   "execution_count": 175,
   "metadata": {},
   "outputs": [
    {
     "name": "stdout",
     "output_type": "stream",
     "text": [
      "Wall time: 12 ms\n"
     ]
    }
   ],
   "source": [
    "%%time\n",
    "mesh = skimpy_3d.marching_cubes(density_lattice._tensor, 0.5)"
   ]
  },
  {
   "cell_type": "code",
   "execution_count": 176,
   "metadata": {},
   "outputs": [],
   "source": [
    "geometry = BufferGeometry(\n",
    "        attributes={\n",
    "            \"position\": BufferAttribute(\n",
    "                np.array(mesh.positions, dtype='float32').reshape(-1, 3),\n",
    "                normalized=False,\n",
    "            ),\n",
    "            \"index\": BufferAttribute(\n",
    "                np.array(mesh.triangles, dtype='uint32'),\n",
    "                normalized=False,\n",
    "            ),\n",
    "        },\n",
    "    )\n",
    "\n",
    "geometry.exec_three_obj_method(\"computeVertexNormals\")"
   ]
  },
  {
   "cell_type": "code",
   "execution_count": 185,
   "metadata": {},
   "outputs": [],
   "source": [
    "js_mesh = Mesh(\n",
    "    geometry=geometry,\n",
    "    material=MeshLambertMaterial(color=\"blue\"),\n",
    "    position=[0, 0, 0],\n",
    ")"
   ]
  },
  {
   "cell_type": "code",
   "execution_count": 190,
   "metadata": {},
   "outputs": [
    {
     "data": {
      "application/vnd.jupyter.widget-view+json": {
       "model_id": "66880bdcb03f4d51ab8e7b348916a195",
       "version_major": 2,
       "version_minor": 0
      },
      "text/plain": [
       "Preview(child=Mesh(geometry=BufferGeometry(attributes={'position': <BufferAttribute shape=(5416, 3), dtype=flo…"
      ]
     },
     "metadata": {},
     "output_type": "display_data"
    }
   ],
   "source": [
    "js_mesh"
   ]
  },
  {
   "cell_type": "code",
   "execution_count": 179,
   "metadata": {},
   "outputs": [],
   "source": [
    "wf_geometry = WireframeGeometry(geometry)"
   ]
  },
  {
   "cell_type": "code",
   "execution_count": 180,
   "metadata": {},
   "outputs": [],
   "source": [
    "js_lines = LineSegments(\n",
    "    geometry=wf_geometry,\n",
    "    material=LineBasicMaterial(color=\"green\"),\n",
    "    position=[0, 0, 0],\n",
    ")"
   ]
  },
  {
   "cell_type": "code",
   "execution_count": 181,
   "metadata": {},
   "outputs": [
    {
     "data": {
      "application/vnd.jupyter.widget-view+json": {
       "model_id": "2dde1d628acc4b54b13c166adc899f9b",
       "version_major": 2,
       "version_minor": 0
      },
      "text/plain": [
       "Preview(child=LineSegments(geometry=WireframeGeometry(geometry=BufferGeometry(attributes={'position': <BufferA…"
      ]
     },
     "metadata": {},
     "output_type": "display_data"
    }
   ],
   "source": [
    "js_lines"
   ]
  },
  {
   "cell_type": "code",
   "execution_count": 191,
   "metadata": {},
   "outputs": [],
   "source": [
    "camera = PerspectiveCamera(position=(64, 64, 64), lookAt=(0,0,0), fov=20)\n",
    "scene = Scene(children=[js_mesh, camera])"
   ]
  },
  {
   "cell_type": "code",
   "execution_count": 194,
   "metadata": {},
   "outputs": [
    {
     "data": {
      "application/vnd.jupyter.widget-view+json": {
       "model_id": "fdc8dd85da7d42d495805f6dc38a5f4d",
       "version_major": 2,
       "version_minor": 0
      },
      "text/plain": [
       "Renderer(background='white', camera=PerspectiveCamera(fov=20.0, position=(-38.941229764299436, 225.03555780363…"
      ]
     },
     "metadata": {},
     "output_type": "display_data"
    }
   ],
   "source": [
    "renderer = Renderer(\n",
    "    camera=camera, \n",
    "    background=\"white\", \n",
    "    background_opacity=1,\n",
    "    scene=scene,\n",
    "    controls=[OrbitControls(controlling=camera)],\n",
    "    width=984,\n",
    "    height=984,\n",
    ")\n",
    "\n",
    "display(renderer)"
   ]
  },
  {
   "cell_type": "code",
   "execution_count": null,
   "metadata": {},
   "outputs": [],
   "source": []
  }
 ],
 "metadata": {
  "kernelspec": {
   "display_name": "Python 3",
   "language": "python",
   "name": "python3"
  },
  "language_info": {
   "codemirror_mode": {
    "name": "ipython",
    "version": 3
   },
   "file_extension": ".py",
   "mimetype": "text/x-python",
   "name": "python",
   "nbconvert_exporter": "python",
   "pygments_lexer": "ipython3",
   "version": "3.7.0"
  }
 },
 "nbformat": 4,
 "nbformat_minor": 4
}
