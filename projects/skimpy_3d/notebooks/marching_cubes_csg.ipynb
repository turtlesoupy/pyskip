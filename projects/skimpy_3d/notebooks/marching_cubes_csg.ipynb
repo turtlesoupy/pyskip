{
 "cells": [
  {
   "cell_type": "code",
   "execution_count": 7,
   "metadata": {},
   "outputs": [
    {
     "name": "stdout",
     "output_type": "stream",
     "text": [
      "The autoreload extension is already loaded. To reload it, use:\n",
      "  %reload_ext autoreload\n"
     ]
    }
   ],
   "source": [
    "%load_ext autoreload\n",
    "%autoreload 2\n",
    "import sys\n",
    "sys.path.insert(0, \"../src/\")\n",
    "sys.path.insert(0, \"../../../src/\")\n",
    "sys.path.insert(0, \"../../../projects/skimpy_bench/src/\")\n",
    "sys.path.insert(0, \"../../../projects/skimpy_blox/\")"
   ]
  },
  {
   "cell_type": "code",
   "execution_count": 8,
   "metadata": {},
   "outputs": [],
   "source": [
    "import skimpy\n",
    "import skimpy.functional as F\n",
    "import skimpy_3d\n",
    "import skimpy.config as skimpy_config\n",
    "from pythreejs import *\n",
    "import numpy as np\n",
    "from IPython.display import display"
   ]
  },
  {
   "cell_type": "code",
   "execution_count": 9,
   "metadata": {},
   "outputs": [],
   "source": [
    "def blur(tensor):\n",
    "    G_x = (1 / 64.0) * skimpy.Tensor.from_list([[[1, 6, 15, 20, 15, 6, 1]]]).to(float)\n",
    "    G_y = (1 / 64.0) * skimpy.Tensor.from_list([[[1], [6], [15], [20], [15], [6], [1]]]).to(float)\n",
    "    G_z = (1 / 64.0) * skimpy.Tensor.from_list([[[1]], [[6]], [[15]], [[20]], [[15]], [[6]], [[1]]]).to(float)\n",
    "    tensor = F.conv_3d(tensor, G_x, padding=(3, 0, 0), fill=0.0)\n",
    "    tensor = F.conv_3d(tensor, G_y, padding=(0, 3, 0), fill=0.0)  \n",
    "    tensor = F.conv_3d(tensor, G_z, padding=(0, 0, 3), fill=0.0)\n",
    "    return tensor"
   ]
  },
  {
   "cell_type": "code",
   "execution_count": 10,
   "metadata": {},
   "outputs": [],
   "source": [
    "def render(tensor):\n",
    "    config = skimpy_3d.VoxelConfig()\n",
    "    config[0] = skimpy_3d.EmptyVoxel()\n",
    "    config[1] = skimpy_3d.ColorVoxel(0, 200, 200)\n",
    "    mesh = skimpy_3d.generate_mesh(config, tensor._tensor)\n",
    "    js_mesh = Mesh(\n",
    "        geometry=BufferGeometry(\n",
    "            attributes={\n",
    "                \"position\": BufferAttribute(\n",
    "                    np.array(mesh.positions, dtype='float32').reshape(-1, 3),\n",
    "                    normalized=False,\n",
    "                ),\n",
    "                \"normal\": BufferAttribute(\n",
    "                    np.array(mesh.normals, dtype='float32').reshape(-1, 3),\n",
    "                    normalized=False,\n",
    "                ),\n",
    "                \"color\": BufferAttribute(\n",
    "                    np.array(mesh.colors, dtype='uint8').reshape(-1, 4)\n",
    "                ),\n",
    "                \"index\": BufferAttribute(\n",
    "                    np.array(mesh.triangles, dtype='uint32'),\n",
    "                    normalized=False,\n",
    "                ),\n",
    "            },\n",
    "        ),\n",
    "        material=MeshLambertMaterial(vertexColors=\"VertexColors\"),\n",
    "        position=[0, 0, 0],\n",
    "    )\n",
    "    return js_mesh\n",
    "\n",
    "def render_marching_cubes(tensor):\n",
    "    mesh = skimpy_3d.marching_cubes(tensor._tensor, 0.5)\n",
    "    geometry = BufferGeometry(\n",
    "        attributes={\n",
    "            \"position\": BufferAttribute(\n",
    "                np.array(mesh.positions, dtype='float32').reshape(-1, 3),\n",
    "                normalized=False,\n",
    "            ),\n",
    "            \"index\": BufferAttribute(\n",
    "                np.array(mesh.triangles, dtype='uint32'),\n",
    "                normalized=False,\n",
    "            ),\n",
    "        },\n",
    "    )\n",
    "\n",
    "    geometry.exec_three_obj_method(\"computeVertexNormals\")\n",
    "    js_mesh = Mesh(\n",
    "        geometry=geometry,\n",
    "        material=MeshLambertMaterial(color=\"#00c8c8\"),\n",
    "        position=[0, 0, 0],\n",
    "    )\n",
    "    return js_mesh"
   ]
  },
  {
   "cell_type": "code",
   "execution_count": 11,
   "metadata": {},
   "outputs": [],
   "source": [
    "import skimpy.config as pyskip_config\n",
    "import skimpy as pyskip"
   ]
  },
  {
   "cell_type": "code",
   "execution_count": 12,
   "metadata": {},
   "outputs": [
    {
     "name": "stdout",
     "output_type": "stream",
     "text": [
      "Compression: 70x\n"
     ]
    },
    {
     "data": {
      "application/vnd.jupyter.widget-view+json": {
       "model_id": "de4f95f2a7dd4dbc8ca318b55af18fc5",
       "version_major": 2,
       "version_minor": 0
      },
      "text/plain": [
       "Preview(child=Mesh(geometry=BufferGeometry(attributes={'position': <BufferAttribute shape=(2713600, 3), dtype=…"
      ]
     },
     "metadata": {},
     "output_type": "display_data"
    }
   ],
   "source": [
    "with pyskip_config.lazy_evaluation_scope():\n",
    "    big_cube = pyskip.Tensor(shape=(200, 200, 200), val=0, dtype=int)\n",
    "    big_rect = pyskip.Tensor(shape=(50, 50, 200), val=0, dtype=int)\n",
    "    big_cube[:, :, :] = 1\n",
    "    big_rect[:, :, :] = 1\n",
    "\n",
    "    big_cube[30:80, 120:170, : ] -= big_rect\n",
    "    big_cube[120:170, 120:170, : ] -= big_rect\n",
    "    \n",
    "    big_cube[50:100, 40:90, : ] -= big_rect\n",
    "    big_cube[100:150, 40:90, : ] -= big_rect\n",
    "    \n",
    "    big_cube[50:100, 50:80:4, : ] += big_rect[::, 10:40:4, :]\n",
    "    big_cube[100:150, 50:80:4, : ] += big_rect[::, 10:40:4, :]\n",
    "    \n",
    "    \n",
    "print(\"Compression: %.0fx\" % ((200 ** 3) / (2 * big_cube.rle_length())))\n",
    "render(big_cube)"
   ]
  },
  {
   "cell_type": "code",
   "execution_count": 13,
   "metadata": {},
   "outputs": [
    {
     "name": "stdout",
     "output_type": "stream",
     "text": [
      "Compression: 2x\n"
     ]
    },
    {
     "data": {
      "application/vnd.jupyter.widget-view+json": {
       "model_id": "25e5719b71864b0ba2b1b7f0f4800530",
       "version_major": 2,
       "version_minor": 0
      },
      "text/plain": [
       "Preview(child=Mesh(geometry=BufferGeometry(attributes={'position': <BufferAttribute shape=(365700, 3), dtype=f…"
      ]
     },
     "metadata": {},
     "output_type": "display_data"
    }
   ],
   "source": [
    "with pyskip_config.lazy_evaluation_scope():\n",
    "    big_cube = pyskip.Tensor(shape=(200, 200, 200), val=0, dtype=int)\n",
    "    big_rect = pyskip.Tensor(shape=(50, 50, 200), val=0, dtype=int)\n",
    "    big_cube[:, :, :] = 1\n",
    "    big_rect[:, :, :] = 1\n",
    "\n",
    "    big_cube[30:80, 120:170, : ] -= big_rect\n",
    "    big_cube[120:170, 120:170, : ] -= big_rect\n",
    "    \n",
    "    big_cube[50:100, 40:90, : ] -= big_rect\n",
    "    big_cube[100:150, 40:90, : ] -= big_rect\n",
    "    \n",
    "    big_cube[50:100, 50:80:4, : ] += big_rect[::, 10:40:4, :]\n",
    "    big_cube[100:150, 50:80:4, : ] += big_rect[::, 10:40:4, :]\n",
    "    \n",
    "    \n",
    "\n",
    "box_blur_kernel = pyskip.Tensor((10,10,10), val=1 / (10 **3), dtype=float)\n",
    "big_cube = skimpy.convolve.pad_3d_tensor(big_cube.to(float), 10, 0)\n",
    "blurry_cube = skimpy.convolve.conv_3d(big_cube, box_blur_kernel)\n",
    "    \n",
    "print(\"Compression: %.0fx\" % ((200 ** 3) / (2 * blurry_cube.rle_length())))\n",
    "render_marching_cubes(blurry_cube)"
   ]
  },
  {
   "cell_type": "code",
   "execution_count": 14,
   "metadata": {},
   "outputs": [
    {
     "name": "stdout",
     "output_type": "stream",
     "text": [
      "Compression: 2x\n"
     ]
    },
    {
     "data": {
      "application/vnd.jupyter.widget-view+json": {
       "model_id": "5c4a9fe2f0924242b481fb3f7b0685dc",
       "version_major": 2,
       "version_minor": 0
      },
      "text/plain": [
       "Preview(child=Mesh(geometry=BufferGeometry(attributes={'position': <BufferAttribute shape=(365700, 3), dtype=f…"
      ]
     },
     "metadata": {},
     "output_type": "display_data"
    }
   ],
   "source": [
    "print(\"Compression: %.0fx\" % ((200 ** 3) / (2 * blurry_cube.rle_length())))\n",
    "render_marching_cubes(blurry_cube)"
   ]
  },
  {
   "cell_type": "code",
   "execution_count": 15,
   "metadata": {},
   "outputs": [
    {
     "name": "stdout",
     "output_type": "stream",
     "text": [
      "Compression: 29x\n"
     ]
    },
    {
     "ename": "TypeError",
     "evalue": "generate_mesh(): incompatible function arguments. The following argument types are supported:\n    1. (arg0: _skimpy_3d_cpp_ext.VoxelConfig, arg1: _skimpy_cpp_ext.Tensor3i) -> _skimpy_3d_cpp_ext.VoxelMesh\n\nInvoked with: <_skimpy_3d_cpp_ext.VoxelConfig object at 0x7f1d8c1c9fb0>, Tensor<3, f>([0.0, 0.0, 0.0, 0.0, ..., 0.0])",
     "output_type": "error",
     "traceback": [
      "\u001b[0;31m---------------------------------------------------------------------------\u001b[0m",
      "\u001b[0;31mTypeError\u001b[0m                                 Traceback (most recent call last)",
      "\u001b[0;32m<ipython-input-15-6e8c6445a49c>\u001b[0m in \u001b[0;36m<module>\u001b[0;34m\u001b[0m\n\u001b[1;32m      1\u001b[0m \u001b[0mprint\u001b[0m\u001b[0;34m(\u001b[0m\u001b[0;34m\"Compression: %.0fx\"\u001b[0m \u001b[0;34m%\u001b[0m \u001b[0;34m(\u001b[0m\u001b[0;34m(\u001b[0m\u001b[0;36m200\u001b[0m \u001b[0;34m**\u001b[0m \u001b[0;36m3\u001b[0m\u001b[0;34m)\u001b[0m \u001b[0;34m/\u001b[0m \u001b[0;34m(\u001b[0m\u001b[0;36m2\u001b[0m \u001b[0;34m*\u001b[0m \u001b[0mbig_cube\u001b[0m\u001b[0;34m.\u001b[0m\u001b[0mrle_length\u001b[0m\u001b[0;34m(\u001b[0m\u001b[0;34m)\u001b[0m\u001b[0;34m)\u001b[0m\u001b[0;34m)\u001b[0m\u001b[0;34m)\u001b[0m\u001b[0;34m\u001b[0m\u001b[0;34m\u001b[0m\u001b[0m\n\u001b[0;32m----> 2\u001b[0;31m \u001b[0mrender\u001b[0m\u001b[0;34m(\u001b[0m\u001b[0mbig_cube\u001b[0m\u001b[0;34m)\u001b[0m\u001b[0;34m\u001b[0m\u001b[0;34m\u001b[0m\u001b[0m\n\u001b[0m",
      "\u001b[0;32m<ipython-input-10-951701e4d808>\u001b[0m in \u001b[0;36mrender\u001b[0;34m(tensor)\u001b[0m\n\u001b[1;32m      3\u001b[0m     \u001b[0mconfig\u001b[0m\u001b[0;34m[\u001b[0m\u001b[0;36m0\u001b[0m\u001b[0;34m]\u001b[0m \u001b[0;34m=\u001b[0m \u001b[0mskimpy_3d\u001b[0m\u001b[0;34m.\u001b[0m\u001b[0mEmptyVoxel\u001b[0m\u001b[0;34m(\u001b[0m\u001b[0;34m)\u001b[0m\u001b[0;34m\u001b[0m\u001b[0;34m\u001b[0m\u001b[0m\n\u001b[1;32m      4\u001b[0m     \u001b[0mconfig\u001b[0m\u001b[0;34m[\u001b[0m\u001b[0;36m1\u001b[0m\u001b[0;34m]\u001b[0m \u001b[0;34m=\u001b[0m \u001b[0mskimpy_3d\u001b[0m\u001b[0;34m.\u001b[0m\u001b[0mColorVoxel\u001b[0m\u001b[0;34m(\u001b[0m\u001b[0;36m0\u001b[0m\u001b[0;34m,\u001b[0m \u001b[0;36m200\u001b[0m\u001b[0;34m,\u001b[0m \u001b[0;36m200\u001b[0m\u001b[0;34m)\u001b[0m\u001b[0;34m\u001b[0m\u001b[0;34m\u001b[0m\u001b[0m\n\u001b[0;32m----> 5\u001b[0;31m     \u001b[0mmesh\u001b[0m \u001b[0;34m=\u001b[0m \u001b[0mskimpy_3d\u001b[0m\u001b[0;34m.\u001b[0m\u001b[0mgenerate_mesh\u001b[0m\u001b[0;34m(\u001b[0m\u001b[0mconfig\u001b[0m\u001b[0;34m,\u001b[0m \u001b[0mtensor\u001b[0m\u001b[0;34m.\u001b[0m\u001b[0m_tensor\u001b[0m\u001b[0;34m)\u001b[0m\u001b[0;34m\u001b[0m\u001b[0;34m\u001b[0m\u001b[0m\n\u001b[0m\u001b[1;32m      6\u001b[0m     js_mesh = Mesh(\n\u001b[1;32m      7\u001b[0m         geometry=BufferGeometry(\n",
      "\u001b[0;31mTypeError\u001b[0m: generate_mesh(): incompatible function arguments. The following argument types are supported:\n    1. (arg0: _skimpy_3d_cpp_ext.VoxelConfig, arg1: _skimpy_cpp_ext.Tensor3i) -> _skimpy_3d_cpp_ext.VoxelMesh\n\nInvoked with: <_skimpy_3d_cpp_ext.VoxelConfig object at 0x7f1d8c1c9fb0>, Tensor<3, f>([0.0, 0.0, 0.0, 0.0, ..., 0.0])"
     ]
    }
   ],
   "source": [
    "print(\"Compression: %.0fx\" % ((200 ** 3) / (2 * big_cube.rle_length())))\n",
    "render(big_cube)"
   ]
  },
  {
   "cell_type": "code",
   "execution_count": null,
   "metadata": {},
   "outputs": [],
   "source": [
    "config = skimpy_3d.VoxelConfig()\n",
    "config[0] = skimpy_3d.EmptyVoxel()\n",
    "config[1] = skimpy_3d.ColorVoxel(0, 200, 200)"
   ]
  },
  {
   "cell_type": "code",
   "execution_count": null,
   "metadata": {},
   "outputs": [],
   "source": [
    "%%time\n",
    "mesh = skimpy_3d.generate_mesh(config, (t > 0.5).to(int)._tensor)"
   ]
  },
  {
   "cell_type": "code",
   "execution_count": null,
   "metadata": {},
   "outputs": [],
   "source": [
    "from pythreejs import *\n",
    "import numpy as np\n",
    "from IPython.display import display"
   ]
  },
  {
   "cell_type": "code",
   "execution_count": null,
   "metadata": {},
   "outputs": [],
   "source": [
    "js_mesh = Mesh(\n",
    "    geometry=BufferGeometry(\n",
    "        attributes={\n",
    "            \"position\": BufferAttribute(\n",
    "                np.array(mesh.positions, dtype='float32').reshape(-1, 3),\n",
    "                normalized=False,\n",
    "            ),\n",
    "            \"normal\": BufferAttribute(\n",
    "                np.array(mesh.normals, dtype='float32').reshape(-1, 3),\n",
    "                normalized=False,\n",
    "            ),\n",
    "            \"color\": BufferAttribute(\n",
    "                np.array(mesh.colors, dtype='uint8').reshape(-1, 4)\n",
    "            ),\n",
    "            \"index\": BufferAttribute(\n",
    "                np.array(mesh.triangles, dtype='uint32'),\n",
    "                normalized=False,\n",
    "            ),\n",
    "        },\n",
    "    ),\n",
    "    material=MeshLambertMaterial(vertexColors=\"VertexColors\"),\n",
    "    position=[0, 0, 0],\n",
    ")"
   ]
  },
  {
   "cell_type": "code",
   "execution_count": null,
   "metadata": {},
   "outputs": [],
   "source": [
    "js_mesh"
   ]
  },
  {
   "cell_type": "code",
   "execution_count": null,
   "metadata": {},
   "outputs": [],
   "source": [
    "%%time\n",
    "for i in range(2):\n",
    "    t = sum([\n",
    "        0.125 * t[0::2, 0::2, 0::2],\n",
    "        0.125 * t[1::2, 0::2, 0::2],\n",
    "        0.125 * t[0::2, 1::2, 0::2],\n",
    "        0.125 * t[1::2, 1::2, 0::2],\n",
    "        0.125 * t[0::2, 0::2, 1::2],\n",
    "        0.125 * t[1::2, 0::2, 1::2],\n",
    "        0.125 * t[0::2, 1::2, 1::2],\n",
    "        0.125 * t[1::2, 1::2, 1::2],\n",
    "    ])"
   ]
  },
  {
   "cell_type": "code",
   "execution_count": null,
   "metadata": {},
   "outputs": [],
   "source": [
    "avg_kernel = skimpy.Tensor.from_list([[[1, 1], [1, 1]], [[1, 1], [1, 1]]]).to(float) / 8\n",
    "density_lattice = F.conv_3d(\n",
    "    t,\n",
    "    avg_kernel,\n",
    "    padding=1,\n",
    ")"
   ]
  },
  {
   "cell_type": "code",
   "execution_count": null,
   "metadata": {},
   "outputs": [],
   "source": [
    "%%time\n",
    "mesh = skimpy_3d.marching_cubes(density_lattice._tensor, 0.5)"
   ]
  },
  {
   "cell_type": "code",
   "execution_count": null,
   "metadata": {},
   "outputs": [],
   "source": [
    "geometry = BufferGeometry(\n",
    "        attributes={\n",
    "            \"position\": BufferAttribute(\n",
    "                np.array(mesh.positions, dtype='float32').reshape(-1, 3),\n",
    "                normalized=False,\n",
    "            ),\n",
    "            \"index\": BufferAttribute(\n",
    "                np.array(mesh.triangles, dtype='uint32'),\n",
    "                normalized=False,\n",
    "            ),\n",
    "        },\n",
    "    )\n",
    "\n",
    "geometry.exec_three_obj_method(\"computeVertexNormals\")"
   ]
  },
  {
   "cell_type": "code",
   "execution_count": null,
   "metadata": {},
   "outputs": [],
   "source": [
    "js_mesh = Mesh(\n",
    "    geometry=geometry,\n",
    "    material=MeshLambertMaterial(color=\"blue\"),\n",
    "    position=[0, 0, 0],\n",
    ")"
   ]
  },
  {
   "cell_type": "code",
   "execution_count": null,
   "metadata": {},
   "outputs": [],
   "source": [
    "js_mesh"
   ]
  },
  {
   "cell_type": "code",
   "execution_count": null,
   "metadata": {},
   "outputs": [],
   "source": [
    "wf_geometry = WireframeGeometry(geometry)"
   ]
  },
  {
   "cell_type": "code",
   "execution_count": null,
   "metadata": {},
   "outputs": [],
   "source": [
    "js_lines = LineSegments(\n",
    "    geometry=wf_geometry,\n",
    "    material=LineBasicMaterial(color=\"green\"),\n",
    "    position=[0, 0, 0],\n",
    ")"
   ]
  },
  {
   "cell_type": "code",
   "execution_count": null,
   "metadata": {},
   "outputs": [],
   "source": [
    "js_lines"
   ]
  },
  {
   "cell_type": "code",
   "execution_count": null,
   "metadata": {},
   "outputs": [],
   "source": [
    "camera = PerspectiveCamera(position=(64, 64, 64), lookAt=(0,0,0), fov=20)\n",
    "scene = Scene(children=[js_mesh, camera])"
   ]
  },
  {
   "cell_type": "code",
   "execution_count": null,
   "metadata": {},
   "outputs": [],
   "source": [
    "renderer = Renderer(\n",
    "    camera=camera, \n",
    "    background=\"white\", \n",
    "    background_opacity=1,\n",
    "    scene=scene,\n",
    "    controls=[OrbitControls(controlling=camera)],\n",
    "    width=984,\n",
    "    height=984,\n",
    ")\n",
    "\n",
    "display(renderer)"
   ]
  },
  {
   "cell_type": "code",
   "execution_count": null,
   "metadata": {},
   "outputs": [],
   "source": []
  }
 ],
 "metadata": {
  "kernelspec": {
   "display_name": "Python (skimpy)",
   "language": "python",
   "name": "skimpy"
  },
  "language_info": {
   "codemirror_mode": {
    "name": "ipython",
    "version": 3
   },
   "file_extension": ".py",
   "mimetype": "text/x-python",
   "name": "python",
   "nbconvert_exporter": "python",
   "pygments_lexer": "ipython3",
   "version": "3.7.6"
  }
 },
 "nbformat": 4,
 "nbformat_minor": 4
}
