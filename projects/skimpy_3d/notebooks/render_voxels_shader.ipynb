{
 "cells": [
  {
   "cell_type": "code",
   "execution_count": null,
   "metadata": {},
   "outputs": [],
   "source": [
    "%load_ext autoreload\n",
    "%autoreload 2\n",
    "import sys\n",
    "sys.path.insert(0, \"../src/\")"
   ]
  },
  {
   "cell_type": "code",
   "execution_count": null,
   "metadata": {},
   "outputs": [],
   "source": [
    "import skimpy\n",
    "import skimpy_3d"
   ]
  },
  {
   "cell_type": "code",
   "execution_count": null,
   "metadata": {},
   "outputs": [],
   "source": [
    "t = skimpy.Tensor((3, 3, 3), 0)\n",
    "t[0, 1, 1] = 1\n",
    "t[1, 1, 1] = 1"
   ]
  },
  {
   "cell_type": "code",
   "execution_count": null,
   "metadata": {},
   "outputs": [],
   "source": [
    "config = skimpy_3d.VoxelConfig()\n",
    "config[0] = skimpy_3d.EmptyVoxel()\n",
    "config[1] = skimpy_3d.ColorVoxel(255, 0, 0)"
   ]
  },
  {
   "cell_type": "code",
   "execution_count": null,
   "metadata": {},
   "outputs": [],
   "source": [
    "mesh = skimpy_3d.generate_mesh(config, t._tensor)"
   ]
  },
  {
   "cell_type": "code",
   "execution_count": null,
   "metadata": {},
   "outputs": [],
   "source": [
    "from pythreejs import *\n",
    "import numpy as np\n",
    "from IPython.display import display"
   ]
  },
  {
   "cell_type": "code",
   "execution_count": null,
   "metadata": {},
   "outputs": [],
   "source": [
    "geometry = BufferGeometry(\n",
    "    attributes={\n",
    "        \"position\": BufferAttribute(\n",
    "            np.array(mesh.positions, dtype='float32').reshape(-1, 3),\n",
    "            normalized=False,\n",
    "        ),\n",
    "        \"index\": BufferAttribute(\n",
    "            np.array(mesh.triangles, dtype='uint16'),\n",
    "            normalized=False,\n",
    "        ),\n",
    "        \"color\": BufferAttribute(\n",
    "            np.array(mesh.colors, dtype='float32').reshape(-1, 3) / 255.0,\n",
    "        ),\n",
    "    },\n",
    ")"
   ]
  },
  {
   "cell_type": "code",
   "execution_count": null,
   "metadata": {},
   "outputs": [],
   "source": [
    "geometry.exec_three_obj_method(\"computeVertexNormals\")"
   ]
  },
  {
   "cell_type": "code",
   "execution_count": null,
   "metadata": {},
   "outputs": [],
   "source": [
    "material = ShaderMaterial(\n",
    "    uniforms={\n",
    "        \"Ka\": { \"value\": [0.3, 0.3, 0.3] },\n",
    "        \"Kd\": { \"value\": [1.0, 1.0, 1.0] },\n",
    "        \"Ks\": { \"value\": [0.8, 0.8, 0.8] },\n",
    "        \"LightPosition\": { \"value\": [10.0, 0.0, 0.0, 1.0] },\n",
    "        \"Shininess\": { \"value\": 200.0 },\n",
    "    },\n",
    "    vertexShader=\"\"\"\n",
    "        varying vec3 _normal;\n",
    "        varying vec3 _position;\n",
    "        varying vec3 _color;\n",
    "\n",
    "        void main() {\n",
    "            _normal = normalize(normalMatrix * normal);\n",
    "            _position = vec3(modelViewMatrix * vec4(position, 1.0));\n",
    "            _color = color;\n",
    "            gl_Position = projectionMatrix * modelViewMatrix * vec4(position, 1.0);\n",
    "        }\n",
    "    \"\"\",\n",
    "    fragmentShader=\"\"\"\n",
    "        varying vec3 _normal;\n",
    "        varying vec3 _position;\n",
    "        varying vec3 _color;\n",
    "\n",
    "        uniform vec3 Ka;\n",
    "        uniform vec3 Kd;\n",
    "        uniform vec3 Ks;\n",
    "        uniform vec4 LightPosition;\n",
    "        uniform vec3 LightIntensity;\n",
    "        uniform float Shininess;\n",
    "\n",
    "        vec3 phong() {\n",
    "            vec3 n = normalize(_normal);\n",
    "            vec3 s = normalize(vec3(LightPosition) - _position);\n",
    "            vec3 v = normalize(vec3(-_position));\n",
    "            vec3 r = reflect(-s, n);\n",
    "\n",
    "            vec3 ambient = Ka;\n",
    "            vec3 diffuse = Kd * max(dot(s, n), 0.0);\n",
    "            vec3 specular = Ks * pow(max(dot(r, v), 0.0), Shininess);\n",
    "            \n",
    "            vec3 base_color = _color * (ambient + diffuse);\n",
    "            return base_color + specular;\n",
    "        }\n",
    "\n",
    "        void main() {\n",
    "            gl_FragColor = vec4(phong(), 1.0);\n",
    "        }\n",
    "    \"\"\",\n",
    "    vertexColors=\"VertexColors\",\n",
    ")"
   ]
  },
  {
   "cell_type": "code",
   "execution_count": null,
   "metadata": {},
   "outputs": [],
   "source": [
    "js_mesh = Mesh(\n",
    "    geometry=geometry,\n",
    "    material=material,\n",
    "    position=[0, 0, 0],\n",
    ")"
   ]
  },
  {
   "cell_type": "code",
   "execution_count": null,
   "metadata": {},
   "outputs": [],
   "source": [
    "camera = PerspectiveCamera(position=[3.0, 3.0, 3.0], fov=20.0)\n",
    "\n",
    "scene = Scene(children=[js_mesh, camera])"
   ]
  },
  {
   "cell_type": "code",
   "execution_count": null,
   "metadata": {},
   "outputs": [],
   "source": [
    "renderer = Renderer(\n",
    "    camera=camera, \n",
    "    background=\"black\", \n",
    "    background_opacity=1,\n",
    "    scene=scene,\n",
    "    controls=[OrbitControls(controlling=camera)],\n",
    "    width=984,\n",
    "    height=984,\n",
    ")\n",
    "\n",
    "display(renderer)"
   ]
  }
 ],
 "metadata": {
  "kernelspec": {
   "display_name": "Python 3",
   "language": "python",
   "name": "python3"
  },
  "language_info": {
   "codemirror_mode": {
    "name": "ipython",
    "version": 3
   },
   "file_extension": ".py",
   "mimetype": "text/x-python",
   "name": "python",
   "nbconvert_exporter": "python",
   "pygments_lexer": "ipython3",
   "version": "3.7.0"
  }
 },
 "nbformat": 4,
 "nbformat_minor": 4
}
