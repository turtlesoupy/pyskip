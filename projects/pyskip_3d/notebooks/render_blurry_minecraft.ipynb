{
 "cells": [
  {
   "cell_type": "code",
   "execution_count": 244,
   "metadata": {},
   "outputs": [
    {
     "name": "stdout",
     "output_type": "stream",
     "text": [
      "The autoreload extension is already loaded. To reload it, use:\n",
      "  %reload_ext autoreload\n"
     ]
    }
   ],
   "source": [
    "%load_ext autoreload\n",
    "%autoreload 2\n",
    "import sys\n",
    "sys.path.insert(0, \"../src/\")\n",
    "sys.path.insert(0, \"../../../src/\")\n",
    "sys.path.insert(0, \"../../../projects/pyskip_bench/src/\")\n",
    "sys.path.insert(0, \"../../../projects/pyskip_blox/\")"
   ]
  },
  {
   "cell_type": "code",
   "execution_count": 245,
   "metadata": {},
   "outputs": [],
   "source": [
    "import random\n",
    "import numpy as np\n",
    "import pyskip\n",
    "import pyskip_3d\n",
    "import ipywebrtc\n",
    "from pyskip_blox import minecraft, colors\n",
    "from pyskip import functional as F\n",
    "from pythreejs import *\n",
    "from IPython.display import display"
   ]
  },
  {
   "cell_type": "code",
   "execution_count": 246,
   "metadata": {},
   "outputs": [
    {
     "name": "stdout",
     "output_type": "stream",
     "text": [
      "CPU times: user 560 ms, sys: 35 µs, total: 560 ms\n",
      "Wall time: 560 ms\n"
     ]
    }
   ],
   "source": [
    "%%time\n",
    "# level = minecraft.PySkipMinecraftLevel.load(\"../data/sample_minecraft_world.pickle.gz\")\n",
    "level = minecraft.PySkipMinecraftLevel.load(\"../data/Hogwarts1.0.pickle.gz\")"
   ]
  },
  {
   "cell_type": "code",
   "execution_count": 247,
   "metadata": {},
   "outputs": [
    {
     "data": {
      "text/plain": [
       "8.895387248740652"
      ]
     },
     "execution_count": 247,
     "metadata": {},
     "output_type": "execute_result"
    }
   ],
   "source": [
    "level.rle_compression_ratio() / level.sparse_compression_ratio()"
   ]
  },
  {
   "cell_type": "code",
   "execution_count": null,
   "metadata": {},
   "outputs": [],
   "source": []
  },
  {
   "cell_type": "code",
   "execution_count": 258,
   "metadata": {},
   "outputs": [
    {
     "name": "stdout",
     "output_type": "stream",
     "text": [
      "CPU times: user 27.5 s, sys: 481 ms, total: 28 s\n",
      "Wall time: 3.17 s\n"
     ]
    }
   ],
   "source": [
    "%%time\n",
    "t = level.megatensor().min(1).to(float)"
   ]
  },
  {
   "cell_type": "code",
   "execution_count": 259,
   "metadata": {},
   "outputs": [],
   "source": [
    "def blur(tensor):\n",
    "    G_x = (1 / 64.0) * pyskip.Tensor.from_list(\n",
    "        [[[1, 6, 15, 20, 15, 6, 1]]]\n",
    "    ).to(float)\n",
    "    G_y = (1 / 64.0) * pyskip.Tensor.from_list(\n",
    "        [[[1], [6], [15], [20], [15], [6], [1]]]\n",
    "    ).to(float)\n",
    "    G_z = (1 / 64.0) * pyskip.Tensor.from_list(\n",
    "        [[[1]], [[6]], [[15]], [[20]], [[15]], [[6]], [[1]]]\n",
    "    ).to(float)\n",
    "    tensor = F.conv_3d(tensor, G_x, padding=(3, 0, 0), fill=0.0)\n",
    "    tensor = F.conv_3d(tensor, G_y, padding=(0, 3, 0), fill=0.0)  \n",
    "    tensor = F.conv_3d(tensor, G_z, padding=(0, 0, 3), fill=0.0)\n",
    "    return tensor\n",
    "\n",
    "def sharpen(tensor):\n",
    "    kernel = pyskip.Tensor((3,3,3), val=-1)\n",
    "    kernel[1,1,1] = 26\n",
    "    return F.conv_3d(tensor, kernel, padding=(3,3,3), fill=0.0)"
   ]
  },
  {
   "cell_type": "code",
   "execution_count": 260,
   "metadata": {},
   "outputs": [
    {
     "name": "stdout",
     "output_type": "stream",
     "text": [
      "CPU times: user 3 µs, sys: 0 ns, total: 3 µs\n",
      "Wall time: 6.68 µs\n"
     ]
    }
   ],
   "source": [
    "%%time\n",
    "for i in range(0):\n",
    "    t = blur(t)"
   ]
  },
  {
   "cell_type": "code",
   "execution_count": 261,
   "metadata": {},
   "outputs": [
    {
     "name": "stdout",
     "output_type": "stream",
     "text": [
      "CPU times: user 2.23 s, sys: 174 ms, total: 2.41 s\n",
      "Wall time: 216 ms\n"
     ]
    }
   ],
   "source": [
    "%%time\n",
    "avg_kernel = pyskip.Tensor.from_list([[[1, 1], [1, 1]], [[1, 1], [1, 1]]]).to(float) / 8\n",
    "density_lattice = F.conv_3d(\n",
    "    t,\n",
    "    avg_kernel,\n",
    "    padding=1,\n",
    ")"
   ]
  },
  {
   "cell_type": "code",
   "execution_count": 262,
   "metadata": {},
   "outputs": [
    {
     "name": "stdout",
     "output_type": "stream",
     "text": [
      "CPU times: user 6.45 s, sys: 160 ms, total: 6.61 s\n",
      "Wall time: 3.78 s\n"
     ]
    }
   ],
   "source": [
    "%%time\n",
    "mesh = pyskip_3d.marching_cubes(density_lattice._tensor, 0.1)"
   ]
  },
  {
   "cell_type": "code",
   "execution_count": 263,
   "metadata": {},
   "outputs": [],
   "source": [
    "geometry = BufferGeometry(\n",
    "        attributes={\n",
    "            \"position\": BufferAttribute(\n",
    "                np.array(mesh.positions, dtype='float32').reshape(-1, 3),\n",
    "                normalized=False,\n",
    "            ),\n",
    "            \"index\": BufferAttribute(\n",
    "                np.array(mesh.triangles, dtype='uint32'),\n",
    "                normalized=False,\n",
    "            ),\n",
    "        },\n",
    "    )\n",
    "\n",
    "geometry.exec_three_obj_method(\"computeVertexNormals\")"
   ]
  },
  {
   "cell_type": "code",
   "execution_count": 264,
   "metadata": {},
   "outputs": [],
   "source": [
    "js_mesh = Mesh(\n",
    "    geometry=geometry,\n",
    "    material=MeshLambertMaterial(color=\"white\"),\n",
    "    position=[0, 0, 0],\n",
    ")"
   ]
  },
  {
   "cell_type": "code",
   "execution_count": 265,
   "metadata": {},
   "outputs": [
    {
     "data": {
      "application/vnd.jupyter.widget-view+json": {
       "model_id": "81f188b5ca274302a1fde74d611250cf",
       "version_major": 2,
       "version_minor": 0
      },
      "text/plain": [
       "Preview(child=Mesh(geometry=BufferGeometry(attributes={'position': <BufferAttribute shape=(3498908, 3), dtype=…"
      ]
     },
     "metadata": {},
     "output_type": "display_data"
    }
   ],
   "source": [
    "js_mesh"
   ]
  },
  {
   "cell_type": "code",
   "execution_count": 266,
   "metadata": {},
   "outputs": [
    {
     "data": {
      "text/plain": [
       "'\\ncamera_pos = level.xyz_to_pyskip_col(level.dense_dimensions())\\ncamera = PerspectiveCamera(position=camera_pos, lookAt=(0,0,0), fov=20)\\nup = [0, 0, 0]\\nup[level.column_order[1]] = 1\\ncamera.up = tuple(up)\\n'"
      ]
     },
     "execution_count": 266,
     "metadata": {},
     "output_type": "execute_result"
    }
   ],
   "source": [
    "\"\"\"\n",
    "camera_pos = level.xyz_to_pyskip_col(level.dense_dimensions())\n",
    "camera = PerspectiveCamera(position=camera_pos, lookAt=(0,0,0), fov=20)\n",
    "up = [0, 0, 0]\n",
    "up[level.column_order[1]] = 1\n",
    "camera.up = tuple(up)\n",
    "\"\"\""
   ]
  },
  {
   "cell_type": "code",
   "execution_count": 267,
   "metadata": {},
   "outputs": [
    {
     "data": {
      "application/vnd.jupyter.widget-view+json": {
       "model_id": "5edc4dda9dac468b873539e29d9af008",
       "version_major": 2,
       "version_minor": 0
      },
      "text/plain": [
       "Renderer(background='white', camera=PerspectiveCamera(fov=20.0, position=(-579.760096095058, 33.81020282430734…"
      ]
     },
     "metadata": {},
     "output_type": "display_data"
    }
   ],
   "source": [
    "light = PointLight(\n",
    "    color='#ffffff',\n",
    "    position=level.xyz_to_pyskip_col((0, 256,0)), # tuple(e for e in level.dense_dimensions())),\n",
    ")\n",
    "scene = Scene(children=[js_mesh, camera, light], background=\"black\")\n",
    "\n",
    "renderer = Renderer(\n",
    "    camera=camera, \n",
    "    background=\"white\", \n",
    "    background_opacity=1,\n",
    "    scene=scene,\n",
    "    #controls=[OrbitControls(controlling=camera)],\n",
    "    width=600,\n",
    "    height=500,\n",
    ")\n",
    "\n",
    "display(renderer)"
   ]
  },
  {
   "cell_type": "code",
   "execution_count": null,
   "metadata": {},
   "outputs": [],
   "source": []
  }
 ],
 "metadata": {
  "kernelspec": {
   "display_name": "Python 3",
   "language": "python",
   "name": "python3"
  },
  "language_info": {
   "codemirror_mode": {
    "name": "ipython",
    "version": 3
   },
   "file_extension": ".py",
   "mimetype": "text/x-python",
   "name": "python",
   "nbconvert_exporter": "python",
   "pygments_lexer": "ipython3",
   "version": "3.7.6"
  }
 },
 "nbformat": 4,
 "nbformat_minor": 4
}
