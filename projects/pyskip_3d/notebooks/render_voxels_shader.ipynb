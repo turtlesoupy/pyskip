{
 "cells": [
  {
   "cell_type": "code",
   "execution_count": 1,
   "metadata": {},
   "outputs": [],
   "source": [
    "%load_ext autoreload\n",
    "%autoreload 2\n",
    "import sys\n",
    "sys.path.insert(0, \"../src/\")"
   ]
  },
  {
   "cell_type": "code",
   "execution_count": 2,
   "metadata": {},
   "outputs": [],
   "source": [
    "import pyskip\n",
    "import pyskip_3d"
   ]
  },
  {
   "cell_type": "code",
   "execution_count": 32,
   "metadata": {},
   "outputs": [
    {
     "name": "stdout",
     "output_type": "stream",
     "text": [
      "Wall time: 0 ns\n"
     ]
    }
   ],
   "source": [
    "%%time\n",
    "t = pyskip.Tensor((100, 30, 30), 0)\n",
    "t[:, 0, :] = 1\n",
    "t[20:80, 1, 10:20] = 2\n",
    "t[40:50, 2:20, 12:18] = 3"
   ]
  },
  {
   "cell_type": "code",
   "execution_count": 23,
   "metadata": {},
   "outputs": [],
   "source": [
    "config = pyskip_3d.VoxelConfig()\n",
    "config[0] = pyskip_3d.EmptyVoxel()\n",
    "config[1] = pyskip_3d.ColorVoxel(128, 66, 0)\n",
    "config[2] = pyskip_3d.ColorVoxel(0, 50, 150)\n",
    "config[3] = pyskip_3d.ColorVoxel(20, 80, 20)"
   ]
  },
  {
   "cell_type": "code",
   "execution_count": 33,
   "metadata": {},
   "outputs": [
    {
     "name": "stdout",
     "output_type": "stream",
     "text": [
      "Wall time: 5.03 ms\n"
     ]
    }
   ],
   "source": [
    "%%time\n",
    "mesh = pyskip_3d.generate_mesh(config, t._tensor)"
   ]
  },
  {
   "cell_type": "code",
   "execution_count": 34,
   "metadata": {},
   "outputs": [],
   "source": [
    "from pythreejs import *\n",
    "import numpy as np\n",
    "from IPython.display import display"
   ]
  },
  {
   "cell_type": "code",
   "execution_count": 35,
   "metadata": {},
   "outputs": [
    {
     "name": "stdout",
     "output_type": "stream",
     "text": [
      "Wall time: 23 ms\n"
     ]
    }
   ],
   "source": [
    "%%time\n",
    "geometry = BufferGeometry(\n",
    "    attributes={\n",
    "        \"position\": BufferAttribute(\n",
    "            np.array(mesh.positions, dtype='float32').reshape(-1, 3),\n",
    "            normalized=False,\n",
    "        ),\n",
    "        \"index\": BufferAttribute(\n",
    "            np.array(mesh.triangles, dtype='uint16'),\n",
    "            normalized=False,\n",
    "        ),\n",
    "        \"color\": BufferAttribute(\n",
    "            np.array(mesh.colors, dtype='float32').reshape(-1, 3) / 255.0,\n",
    "        ),\n",
    "    },\n",
    ")"
   ]
  },
  {
   "cell_type": "code",
   "execution_count": 36,
   "metadata": {},
   "outputs": [
    {
     "name": "stdout",
     "output_type": "stream",
     "text": [
      "Wall time: 0 ns\n"
     ]
    }
   ],
   "source": [
    "%%time\n",
    "geometry.exec_three_obj_method(\"computeVertexNormals\")"
   ]
  },
  {
   "cell_type": "code",
   "execution_count": 37,
   "metadata": {},
   "outputs": [
    {
     "name": "stdout",
     "output_type": "stream",
     "text": [
      "Wall time: 3 ms\n"
     ]
    }
   ],
   "source": [
    "%%time\n",
    "material = ShaderMaterial(\n",
    "    uniforms={\n",
    "        \"Ka\": { \"value\": [0.3, 0.3, 0.3] },\n",
    "        \"Kd\": { \"value\": [1.0, 1.0, 1.0] },\n",
    "        \"Ks\": { \"value\": [0.8, 0.8, 0.8] },\n",
    "        \"LightPosition\": { \"value\": [10.0, 0.0, 0.0, 1.0] },\n",
    "        \"Shininess\": { \"value\": 200.0 },\n",
    "    },\n",
    "    vertexShader=\"\"\"\n",
    "        varying vec3 _normal;\n",
    "        varying vec3 _position;\n",
    "        varying vec3 _color;\n",
    "\n",
    "        void main() {\n",
    "            _normal = normalize(normalMatrix * normal);\n",
    "            _position = vec3(modelViewMatrix * vec4(position, 1.0));\n",
    "            _color = color;\n",
    "            gl_Position = projectionMatrix * modelViewMatrix * vec4(position, 1.0);\n",
    "        }\n",
    "    \"\"\",\n",
    "    fragmentShader=\"\"\"\n",
    "        varying vec3 _normal;\n",
    "        varying vec3 _position;\n",
    "        varying vec3 _color;\n",
    "\n",
    "        uniform vec3 Ka;\n",
    "        uniform vec3 Kd;\n",
    "        uniform vec3 Ks;\n",
    "        uniform vec4 LightPosition;\n",
    "        uniform vec3 LightIntensity;\n",
    "        uniform float Shininess;\n",
    "\n",
    "        vec3 phong() {\n",
    "            vec3 n = normalize(_normal);\n",
    "            vec3 s = normalize(vec3(LightPosition) - _position);\n",
    "            vec3 v = normalize(vec3(-_position));\n",
    "            vec3 r = reflect(-s, n);\n",
    "\n",
    "            vec3 ambient = Ka;\n",
    "            vec3 diffuse = Kd * max(dot(s, n), 0.0);\n",
    "            vec3 specular = Ks * pow(max(dot(r, v), 0.0), Shininess);\n",
    "            \n",
    "            vec3 base_color = _color * (ambient + diffuse);\n",
    "            return base_color + specular;\n",
    "        }\n",
    "\n",
    "        void main() {\n",
    "            gl_FragColor = vec4(phong(), 1.0);\n",
    "        }\n",
    "    \"\"\",\n",
    "    vertexColors=\"VertexColors\",\n",
    ")"
   ]
  },
  {
   "cell_type": "code",
   "execution_count": 38,
   "metadata": {},
   "outputs": [
    {
     "name": "stdout",
     "output_type": "stream",
     "text": [
      "Wall time: 3 ms\n"
     ]
    }
   ],
   "source": [
    "%%time\n",
    "js_mesh = Mesh(\n",
    "    geometry=geometry,\n",
    "    material=material,\n",
    "    position=[0, 0, 0],\n",
    ")"
   ]
  },
  {
   "cell_type": "code",
   "execution_count": 39,
   "metadata": {},
   "outputs": [
    {
     "name": "stdout",
     "output_type": "stream",
     "text": [
      "Wall time: 5 ms\n"
     ]
    }
   ],
   "source": [
    "%%time\n",
    "camera = PerspectiveCamera(position=[3.0, 3.0, 3.0], fov=20.0)\n",
    "\n",
    "scene = Scene(children=[js_mesh, camera])"
   ]
  },
  {
   "cell_type": "code",
   "execution_count": 40,
   "metadata": {},
   "outputs": [
    {
     "data": {
      "application/vnd.jupyter.widget-view+json": {
       "model_id": "fdfa7bbcbfaa497a9240ef801a825c23",
       "version_major": 2,
       "version_minor": 0
      },
      "text/plain": [
       "Renderer(camera=PerspectiveCamera(fov=20.0, position=(3.0, 3.0, 3.0), projectionMatrix=(5.67128181961771, 0.0,…"
      ]
     },
     "metadata": {},
     "output_type": "display_data"
    },
    {
     "name": "stdout",
     "output_type": "stream",
     "text": [
      "Wall time: 9 ms\n"
     ]
    }
   ],
   "source": [
    "renderer = Renderer(\n",
    "    camera=camera, \n",
    "    background=\"black\", \n",
    "    background_opacity=1,\n",
    "    scene=scene,\n",
    "    controls=[OrbitControls(controlling=camera)],\n",
    "    width=984,\n",
    "    height=984,\n",
    ")\n",
    "\n",
    "display(renderer)"
   ]
  },
  {
   "cell_type": "code",
   "execution_count": null,
   "metadata": {},
   "outputs": [],
   "source": []
  }
 ],
 "metadata": {
  "kernelspec": {
   "display_name": "Python 3",
   "language": "python",
   "name": "python3"
  },
  "language_info": {
   "codemirror_mode": {
    "name": "ipython",
    "version": 3
   },
   "file_extension": ".py",
   "mimetype": "text/x-python",
   "name": "python",
   "nbconvert_exporter": "python",
   "pygments_lexer": "ipython3",
   "version": "3.7.6"
  }
 },
 "nbformat": 4,
 "nbformat_minor": 4
}
