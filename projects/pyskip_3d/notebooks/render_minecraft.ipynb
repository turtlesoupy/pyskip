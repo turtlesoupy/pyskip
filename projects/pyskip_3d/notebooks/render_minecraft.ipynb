{
 "cells": [
  {
   "cell_type": "code",
   "execution_count": 115,
   "metadata": {},
   "outputs": [
    {
     "name": "stdout",
     "output_type": "stream",
     "text": [
      "The autoreload extension is already loaded. To reload it, use:\n",
      "  %reload_ext autoreload\n"
     ]
    }
   ],
   "source": [
    "%load_ext autoreload\n",
    "%autoreload 2\n",
    "import sys\n",
    "sys.path.insert(0, \"../src/\")\n",
    "sys.path.insert(0, \"../../../src/\")\n",
    "sys.path.insert(0, \"../../../projects/pyskip_bench/src/\")\n",
    "sys.path.insert(0, \"../../../projects/pyskip_blox/\")"
   ]
  },
  {
   "cell_type": "code",
   "execution_count": 140,
   "metadata": {},
   "outputs": [],
   "source": [
    "import random\n",
    "import numpy as np\n",
    "import pyskip\n",
    "import pyskip_3d\n",
    "from pyskip_blox import minecraft, colors\n",
    "from pyskip import functional as F\n",
    "import ipywebrtc\n",
    "\n",
    "SHOW_RUNS_MODE = False"
   ]
  },
  {
   "cell_type": "code",
   "execution_count": 142,
   "metadata": {},
   "outputs": [],
   "source": [
    "def show_runs(t, runs_value=2):\n",
    "    q = t.reshape(len(t))\n",
    "    ret = pyskip.Tensor(len(t), val=q.to(bool).to(int)._tensor.array())\n",
    "    run_points = runs_value * (\n",
    "        (\n",
    "            (q[:(len(q) - 1)] == q[1:])\n",
    "        )\n",
    "        & (q[1:] != 0)\n",
    "    ).to(int)\n",
    "\n",
    "    ret[1:] = ret[1:].max(run_points)\n",
    "    ret[0:(len(ret) - 1)] = ret[0:(len(ret) - 1)].max(runs_value * (ret[1:] == 2).to(int))\n",
    "    return ret.reshape(t.shape)\n",
    "    "
   ]
  },
  {
   "cell_type": "code",
   "execution_count": 143,
   "metadata": {},
   "outputs": [
    {
     "name": "stdout",
     "output_type": "stream",
     "text": [
      "CPU times: user 596 ms, sys: 0 ns, total: 596 ms\n",
      "Wall time: 596 ms\n"
     ]
    }
   ],
   "source": [
    "%%time\n",
    "# level = minecraft.PySkipMinecraftLevel.load(\"../data/sample_minecraft_world.pickle.gz\")\n",
    "level = minecraft.PySkipMinecraftLevel.load(\"../data/Hogwarts1.0.pickle.gz\")"
   ]
  },
  {
   "cell_type": "code",
   "execution_count": 144,
   "metadata": {},
   "outputs": [
    {
     "name": "stdout",
     "output_type": "stream",
     "text": [
      "CPU times: user 27.6 s, sys: 280 ms, total: 27.9 s\n",
      "Wall time: 3.17 s\n"
     ]
    }
   ],
   "source": [
    "%%time\n",
    "t = level.megatensor()\n",
    "# t = level.chunk_list[0].tensor\n",
    "if SHOW_RUNS_MODE:\n",
    "    t = show_runs(t)"
   ]
  },
  {
   "cell_type": "code",
   "execution_count": 145,
   "metadata": {},
   "outputs": [
    {
     "name": "stdout",
     "output_type": "stream",
     "text": [
      "0=>669083423\n",
      "1=>1070920\n",
      "2=>585086\n",
      "3=>2185407\n",
      "4=>2095\n",
      "5=>26584\n",
      "6=>0\n",
      "7=>861692\n",
      "8=>0\n",
      "9=>7172236\n",
      "10=>0\n",
      "11=>0\n",
      "12=>1429\n",
      "13=>1122\n",
      "14=>0\n",
      "15=>0\n",
      "16=>0\n",
      "17=>28831\n",
      "18=>327296\n",
      "19=>0\n"
     ]
    }
   ],
   "source": [
    "for i in range(20):\n",
    "    print(f\"{i}=>{F.sum((t == i).to(int))}\")"
   ]
  },
  {
   "cell_type": "code",
   "execution_count": 146,
   "metadata": {},
   "outputs": [],
   "source": [
    "config = pyskip_3d.VoxelConfig()\n",
    "config[0] = pyskip_3d.EmptyVoxel()\n",
    "if SHOW_RUNS_MODE:\n",
    "    config[1] = pyskip_3d.ColorVoxel(255, 255, 255)\n",
    "    config[2] = pyskip_3d.ColorVoxel(255, 105, 180)\n",
    "else:    \n",
    "    for i in range(1, 256):\n",
    "        r, g, b = colors.color_for_id(i)\n",
    "        config[i] = pyskip_3d.ColorVoxel(r, g, b)"
   ]
  },
  {
   "cell_type": "code",
   "execution_count": 147,
   "metadata": {},
   "outputs": [
    {
     "name": "stdout",
     "output_type": "stream",
     "text": [
      "CPU times: user 5.13 s, sys: 483 ms, total: 5.61 s\n",
      "Wall time: 1.61 s\n"
     ]
    }
   ],
   "source": [
    "%%time\n",
    "mesh = pyskip_3d.generate_mesh(config, t._tensor)"
   ]
  },
  {
   "cell_type": "code",
   "execution_count": null,
   "metadata": {},
   "outputs": [],
   "source": []
  },
  {
   "cell_type": "code",
   "execution_count": 148,
   "metadata": {},
   "outputs": [
    {
     "data": {
      "text/plain": [
       "29.843810116358068"
      ]
     },
     "execution_count": 148,
     "metadata": {},
     "output_type": "execute_result"
    }
   ],
   "source": [
    "(len(mesh.triangles) * 4  + len(mesh.positions) * 4) / (level.num_runs() * 2 * 4) "
   ]
  },
  {
   "cell_type": "code",
   "execution_count": 149,
   "metadata": {},
   "outputs": [],
   "source": [
    "from pythreejs import *\n",
    "import numpy as np\n",
    "from IPython.display import display"
   ]
  },
  {
   "cell_type": "code",
   "execution_count": 150,
   "metadata": {},
   "outputs": [
    {
     "name": "stdout",
     "output_type": "stream",
     "text": [
      "CPU times: user 14.3 s, sys: 1.93 s, total: 16.2 s\n",
      "Wall time: 15.9 s\n"
     ]
    }
   ],
   "source": [
    "%%time \n",
    "\n",
    "geometry = BufferGeometry(\n",
    "    attributes={\n",
    "        \"position\": BufferAttribute(\n",
    "            np.array(mesh.positions, dtype='float32').reshape(-1, 3),\n",
    "            normalized=False,\n",
    "        ),\n",
    "        \"normal\": BufferAttribute(\n",
    "            np.array(mesh.normals, dtype='float32').reshape(-1, 3),\n",
    "            normalized=False,\n",
    "        ),\n",
    "        \"color\": BufferAttribute(\n",
    "            np.array(mesh.colors, dtype='uint8').reshape(-1, 4)\n",
    "        ),\n",
    "        \"index\": BufferAttribute(\n",
    "            np.array(mesh.triangles, dtype='uint32'),\n",
    "            normalized=False,\n",
    "        ),\n",
    "    },\n",
    ")"
   ]
  },
  {
   "cell_type": "code",
   "execution_count": 151,
   "metadata": {},
   "outputs": [],
   "source": [
    "js_mesh = Mesh(\n",
    "    geometry=geometry,\n",
    "    material=MeshLambertMaterial(vertexColors=\"VertexColors\"),\n",
    "    position=[0, 0, 0],\n",
    ")"
   ]
  },
  {
   "cell_type": "code",
   "execution_count": 152,
   "metadata": {},
   "outputs": [
    {
     "data": {
      "text/plain": [
       "'\\ncamera_pos = level.xyz_to_pyskip_col(level.dense_dimensions())\\ncamera = PerspectiveCamera(position=camera_pos, lookAt=(0,0,0), fov=20)\\nup = [0, 0, 0]\\nup[level.column_order[1]] = 1\\ncamera.up = tuple(up)\\n'"
      ]
     },
     "execution_count": 152,
     "metadata": {},
     "output_type": "execute_result"
    }
   ],
   "source": [
    "\"\"\"\n",
    "camera_pos = level.xyz_to_pyskip_col(level.dense_dimensions())\n",
    "camera = PerspectiveCamera(position=camera_pos, lookAt=(0,0,0), fov=20)\n",
    "up = [0, 0, 0]\n",
    "up[level.column_order[1]] = 1\n",
    "camera.up = tuple(up)\n",
    "\"\"\""
   ]
  },
  {
   "cell_type": "code",
   "execution_count": 153,
   "metadata": {},
   "outputs": [],
   "source": [
    "light_position = level.xyz_to_pyskip_col((0, 256, 0))\n",
    "point_light = PointLight(color='#ffffff', position=light_position)\n",
    "global_light = AmbientLight(color='#333333')\n",
    "\n",
    "#normals_helper = VertexNormalsHelper(js_mesh, size=0.5, color=\"#ffcc00\")\n",
    "\n",
    "scene = Scene(children=[js_mesh, camera, point_light, global_light], background=\"black\")"
   ]
  },
  {
   "cell_type": "code",
   "execution_count": null,
   "metadata": {},
   "outputs": [],
   "source": []
  },
  {
   "cell_type": "code",
   "execution_count": 160,
   "metadata": {},
   "outputs": [
    {
     "data": {
      "application/vnd.jupyter.widget-view+json": {
       "model_id": "b17b40876d284485a2d6da29726a58f8",
       "version_major": 2,
       "version_minor": 0
      },
      "text/plain": [
       "Renderer(background='#b0b0b0', camera=PerspectiveCamera(fov=20.0, position=(-514.5494735177291, 133.4029367061…"
      ]
     },
     "metadata": {},
     "output_type": "display_data"
    }
   ],
   "source": [
    "renderer = Renderer(\n",
    "    camera=camera, \n",
    "    background=\"#b0b0b0\", \n",
    "    background_opacity=1,\n",
    "    scene=scene,\n",
    "   # controls=[OrbitControls(controlling=camera)],\n",
    "    width=600,\n",
    "    height=500,\n",
    ")\n",
    "\n",
    "display(renderer)"
   ]
  },
  {
   "cell_type": "code",
   "execution_count": 155,
   "metadata": {},
   "outputs": [
    {
     "data": {
      "application/vnd.jupyter.widget-view+json": {
       "model_id": "3efe682717e24cc4861ce180f378e511",
       "version_major": 2,
       "version_minor": 0
      },
      "text/plain": [
       "ImageRecorder(filename='snapshot', image=Image(value=b''), stream=WidgetStream(max_fps=30, widget=Renderer(bac…"
      ]
     },
     "metadata": {},
     "output_type": "display_data"
    }
   ],
   "source": [
    "stream = ipywebrtc.WidgetStream(widget=renderer, max_fps=30)\n",
    "recorder = ipywebrtc.ImageRecorder(filename='snapshot', format='png', stream=stream)\n",
    "recorder"
   ]
  }
 ],
 "metadata": {
  "kernelspec": {
   "display_name": "Python 3",
   "language": "python",
   "name": "python3"
  },
  "language_info": {
   "codemirror_mode": {
    "name": "ipython",
    "version": 3
   },
   "file_extension": ".py",
   "mimetype": "text/x-python",
   "name": "python",
   "nbconvert_exporter": "python",
   "pygments_lexer": "ipython3",
   "version": "3.7.6"
  }
 },
 "nbformat": 4,
 "nbformat_minor": 4
}
