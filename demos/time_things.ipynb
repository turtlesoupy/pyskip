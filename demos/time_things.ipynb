{
 "cells": [
  {
   "cell_type": "code",
   "execution_count": 1,
   "metadata": {},
   "outputs": [],
   "source": [
    "import numpy as np"
   ]
  },
  {
   "cell_type": "code",
   "execution_count": 2,
   "metadata": {},
   "outputs": [],
   "source": [
    "x = np.random.random(128 * 1024 * 1024)"
   ]
  },
  {
   "cell_type": "code",
   "execution_count": 3,
   "metadata": {},
   "outputs": [
    {
     "name": "stdout",
     "output_type": "stream",
     "text": [
      "262 ms ± 16.9 ms per loop (mean ± std. dev. of 7 runs, 1 loop each)\n"
     ]
    }
   ],
   "source": [
    "%%timeit\n",
    "\n",
    "y = np.array(x)"
   ]
  },
  {
   "cell_type": "code",
   "execution_count": 4,
   "metadata": {},
   "outputs": [
    {
     "data": {
      "text/plain": [
       "216395.1041835581"
      ]
     },
     "execution_count": 4,
     "metadata": {},
     "output_type": "execute_result"
    }
   ],
   "source": [
    "(96 * 1024 * 1024)**(2.0 / 3)"
   ]
  },
  {
   "cell_type": "code",
   "execution_count": 5,
   "metadata": {},
   "outputs": [],
   "source": [
    "x = np.random.random(128 * 1024 * 1024)\n",
    "y = np.random.random(128 * 1024 * 1024)"
   ]
  },
  {
   "cell_type": "code",
   "execution_count": 6,
   "metadata": {},
   "outputs": [
    {
     "name": "stdout",
     "output_type": "stream",
     "text": [
      "336 ms ± 30.4 ms per loop (mean ± std. dev. of 7 runs, 1 loop each)\n"
     ]
    }
   ],
   "source": [
    "%%timeit\n",
    "\n",
    "z = x * y"
   ]
  },
  {
   "cell_type": "code",
   "execution_count": null,
   "metadata": {},
   "outputs": [],
   "source": [
    "class RangeStore:\n",
    "    \n",
    "    BLOCK_SIZE = 1024 \n",
    "    \n",
    "    def __init__(self, size, fill):\n",
    "        self.size = size\n",
    "        \n",
    "        self.inner = []\n",
    "        self.outer = []\n",
    "        self.blocks = \n",
    "    \n",
    "    def get(self, index):\n",
    "        pass\n",
    "    \n",
    "    def set(self, start, end, value):\n",
    "        pass\n",
    "\n"
   ]
  },
  {
   "cell_type": "code",
   "execution_count": null,
   "metadata": {},
   "outputs": [],
   "source": [
    "class RangeMap:\n",
    "    \n",
    "    def __init__(self, store, start, stop):\n",
    "        self.store = store\n",
    "        self.start = start\n",
    "        self.stop = stop\n",
    "        \n",
    "    def scan(self, index):\n",
    "        pass\n",
    "    \n",
    "    def get(self, index):\n",
    "        pass\n",
    "    \n",
    "    def set(self, index, val):\n",
    "        pass\n",
    "    \n",
    "    def assign(self, other):\n",
    "        # Find block in\n",
    "        pass\n",
    "        \n",
    "    def slice(self, start, stop):\n",
    "        assert 0 <= start + start < start + stop < self.store.size \n",
    "        return RangeMap(self.store, start + start, start + stop)"
   ]
  }
 ],
 "metadata": {
  "kernelspec": {
   "display_name": "Python 3",
   "language": "python",
   "name": "python3"
  },
  "language_info": {
   "codemirror_mode": {
    "name": "ipython",
    "version": 3
   },
   "file_extension": ".py",
   "mimetype": "text/x-python",
   "name": "python",
   "nbconvert_exporter": "python",
   "pygments_lexer": "ipython3",
   "version": "3.7.0"
  }
 },
 "nbformat": 4,
 "nbformat_minor": 4
}
