{
 "cells": [
  {
   "cell_type": "code",
   "execution_count": 1,
   "metadata": {},
   "outputs": [],
   "source": [
    "import functools\n",
    "import seaborn as sns\n",
    "import matplotlib\n",
    "import matplotlib.pyplot as plt\n",
    "import numpy as np\n",
    "import skimpy"
   ]
  },
  {
   "cell_type": "code",
   "execution_count": 3,
   "metadata": {},
   "outputs": [
    {
     "data": {
      "text/plain": [
       "Tensor (dtype=int32, shape=(11, 10, 10)) with values\n",
       "\tz=0\n",
       "\t2,2,2,2,2,2,2,2,...,2,2\n",
       "\t2,2,2,2,2,2,2,2,...,2,2\n",
       "\t2,2,2,2,2,2,2,2,...,2,2\n",
       "\t2,2,2,2,2,2,2,2,...,2,2\n",
       "\t2,2,2,2,2,2,2,2,...,2,2\n",
       "\t2,2,2,2,2,2,2,2,...,2,2\n",
       "\t2,2,2,2,2,2,2,2,...,2,2\n",
       "\t2,2,2,2,2,2,2,2,...,2,2\n",
       "\t...\n",
       "\t2,2,2,2,2,2,2,2,...,2,2\n",
       "\t2,2,2,2,2,2,2,2,...,2,2\n",
       "z=..."
      ]
     },
     "execution_count": 3,
     "metadata": {},
     "output_type": "execute_result"
    }
   ],
   "source": [
    "a = skimpy.Tensor(\n",
    "    100,\n",
    "    1\n",
    ")\n",
    "b = skimpy.Tensor(\n",
    "    (11, 10, 10),\n",
    "    2\n",
    ")\n",
    "b"
   ]
  },
  {
   "cell_type": "code",
   "execution_count": null,
   "metadata": {},
   "outputs": [],
   "source": []
  },
  {
   "cell_type": "code",
   "execution_count": null,
   "metadata": {},
   "outputs": [],
   "source": [
    "np.array([[1,2], [3,4]])"
   ]
  },
  {
   "cell_type": "code",
   "execution_count": null,
   "metadata": {},
   "outputs": [],
   "source": [
    "a *= b\n",
    "a *= b"
   ]
  },
  {
   "cell_type": "code",
   "execution_count": null,
   "metadata": {},
   "outputs": [],
   "source": [
    "a._tensor"
   ]
  },
  {
   "cell_type": "code",
   "execution_count": null,
   "metadata": {},
   "outputs": [],
   "source": [
    "a[1:2, 1:2]._tensor"
   ]
  },
  {
   "cell_type": "code",
   "execution_count": null,
   "metadata": {},
   "outputs": [],
   "source": []
  },
  {
   "cell_type": "code",
   "execution_count": null,
   "metadata": {},
   "outputs": [],
   "source": [
    "_skimpy_cpp_ext.Tensor2i((10, 10), 0).shape()"
   ]
  },
  {
   "cell_type": "code",
   "execution_count": null,
   "metadata": {},
   "outputs": [],
   "source": [
    "dir(_skimpy_cpp_ext)"
   ]
  },
  {
   "cell_type": "code",
   "execution_count": null,
   "metadata": {},
   "outputs": [],
   "source": [
    "import python_skimpy.skimpy_test"
   ]
  },
  {
   "cell_type": "code",
   "execution_count": null,
   "metadata": {},
   "outputs": [],
   "source": [
    "python_skimpy.skimpy_test.test()"
   ]
  },
  {
   "cell_type": "code",
   "execution_count": null,
   "metadata": {},
   "outputs": [],
   "source": [
    "a = skimpy.Tensor2i((3, 3), 1)\n",
    "b = skimpy.Tensor2i((3, 3), 2)"
   ]
  },
  {
   "cell_type": "code",
   "execution_count": null,
   "metadata": {},
   "outputs": [],
   "source": [
    "c = skimpy.Tensor2i((3, 3), a.array() + b.array())"
   ]
  },
  {
   "cell_type": "code",
   "execution_count": null,
   "metadata": {},
   "outputs": [],
   "source": [
    "# Breaks\n",
    "c[2:3, 0:2] = 1\n",
    "c[2, 0:2] = 1"
   ]
  },
  {
   "cell_type": "code",
   "execution_count": null,
   "metadata": {},
   "outputs": [],
   "source": [
    "c[1:3, 0:2] = 1"
   ]
  },
  {
   "cell_type": "code",
   "execution_count": null,
   "metadata": {},
   "outputs": [],
   "source": [
    "four = skimpy.Tensor2i((4, 4), skimpy.from_numpy(np.arange(0, 16)))"
   ]
  },
  {
   "cell_type": "code",
   "execution_count": null,
   "metadata": {},
   "outputs": [],
   "source": [
    "(\n",
    "    four[0::2, 0::2].array() // 4 + \n",
    "    four[1::2, 1::2].array() // 4 + \n",
    "    four[1::2, 0::2].array() // 4 + \n",
    "    four[0::2, 1::2].array() // 4 \n",
    ")"
   ]
  }
 ],
 "metadata": {
  "kernelspec": {
   "display_name": "Python 3",
   "language": "python",
   "name": "python3"
  },
  "language_info": {
   "codemirror_mode": {
    "name": "ipython",
    "version": 3
   },
   "file_extension": ".py",
   "mimetype": "text/x-python",
   "name": "python",
   "nbconvert_exporter": "python",
   "pygments_lexer": "ipython3",
   "version": "3.7.6"
  }
 },
 "nbformat": 4,
 "nbformat_minor": 4
}
