{
 "cells": [
  {
   "cell_type": "code",
   "execution_count": 1,
   "metadata": {},
   "outputs": [],
   "source": [
    "%load_ext autoreload\n",
    "%autoreload 2\n",
    "import sys\n",
    "sys.path.insert(0, \"../src/\")\n",
    "sys.path.insert(0, \"../projects/skimpy_bench/src/\")\n",
    "sys.path.insert(0, \"../projects/skimpy_blox/\")"
   ]
  },
  {
   "cell_type": "code",
   "execution_count": 2,
   "metadata": {},
   "outputs": [],
   "source": [
    "import numpy as np\n",
    "import _skimpy_cpp_ext\n",
    "import _skimpy_bench_cpp_ext\n",
    "from _skimpy_cpp_ext import config as _cpp_skimpy_config\n",
    "from skimpy import config as skimpy_config\n",
    "import skimpy\n",
    "from skimpy_bench import benchmarks\n",
    "from skimpy_blox.minecraft import SkimpyMinecraftLevel\n"
   ]
  },
  {
   "cell_type": "code",
   "execution_count": null,
   "metadata": {},
   "outputs": [],
   "source": [
    "from skimpy import config as skimpy_config\n",
    "with skimpy_config.config_scope():\n",
    "    skimpy_config.set_value(\"accelerated_eval\", False)\n",
    "    # Do some skimpy stuff\n",
    "    \n",
    "with skimpy_config.config_scope():\n",
    "    skimpy_config.set_value(\"accelerated_eval\", True)\n",
    "    # Do some skimpy stuff"
   ]
  },
  {
   "cell_type": "code",
   "execution_count": 5,
   "metadata": {},
   "outputs": [],
   "source": [
    "from skimpy import config as skimpy_config\n",
    "with skimpy_config.config_scope():\n",
    "    skimpy_config.set_value(\"accelerated_eval\", False)\n",
    "    a = "
   ]
  },
  {
   "cell_type": "code",
   "execution_count": 7,
   "metadata": {},
   "outputs": [
    {
     "data": {
      "text/plain": [
       "{'skimpy_accelerated': 233.60844233333333,\n",
       " 'skimpy_lazy': 239.30777366666666,\n",
       " 'skimpy_greedy': 1115.9251933333333,\n",
       " 'skimpy_slow': 199.13406533333333}"
      ]
     },
     "execution_count": 7,
     "metadata": {},
     "output_type": "execute_result"
    }
   ],
   "source": [
    "benchmarks.DenseSkimpyImplementationBenchmark(10  * 1024 * 1024, 30).run()\n"
   ]
  },
  {
   "cell_type": "code",
   "execution_count": 4,
   "metadata": {},
   "outputs": [
    {
     "data": {
      "text/plain": [
       "{'skimpy_accelerated': 262.298201,\n",
       " 'skimpy_lazy': 268.85155066666664,\n",
       " 'skimpy_greedy': 1314.4522566666667,\n",
       " 'skimpy_slow': 211.72774433333333}"
      ]
     },
     "execution_count": 4,
     "metadata": {},
     "output_type": "execute_result"
    }
   ],
   "source": [
    "benchmarks.DenseSkimpyImplementationBenchmark(10  * 1024 * 1024, 30).run()\n"
   ]
  },
  {
   "cell_type": "code",
   "execution_count": null,
   "metadata": {},
   "outputs": [],
   "source": [
    "benchmarks.DenseSkimpyImplementationBenchmark(10  * 1024 * 1024, 30).run()"
   ]
  },
  {
   "cell_type": "code",
   "execution_count": 6,
   "metadata": {},
   "outputs": [
    {
     "data": {
      "text/plain": [
       "{'skimpy_accelerated': 1147.901044,\n",
       " 'skimpy_lazy': 1051.7643633333334,\n",
       " 'skimpy_greedy': 8678.866331333333,\n",
       " 'skimpy_slow': 967.1769403333333}"
      ]
     },
     "execution_count": 6,
     "metadata": {},
     "output_type": "execute_result"
    }
   ],
   "source": [
    "benchmarks.RunLengthSkimpyImplementationBenchmark(\n",
    "    array_length=20 * 1024 * 1024,\n",
    "    num_non_zero=2*1024 * 1024,\n",
    "    run_length=1,\n",
    "    align_inputs=False,\n",
    "    num_inputs=128,\n",
    "    deterministic_run_length=False,\n",
    ").run(repeats=3)"
   ]
  },
  {
   "cell_type": "code",
   "execution_count": 15,
   "metadata": {},
   "outputs": [
    {
     "name": "stdout",
     "output_type": "stream",
     "text": [
      "{'accelerated_eval': True}\n",
      "[11 10 10 15 10 10 10 10 10  0]\n"
     ]
    }
   ],
   "source": [
    "with skimpy_config.config_scope():\n",
    "    _cpp_skimpy_config.set_bool_value(\"accelerated_eval\", True)\n",
    "    print(skimpy_config.get_all_values())\n",
    "    a = skimpy.Tensor((10,), 0)\n",
    "    a[0] = 1\n",
    "    a[3] = 5\n",
    "\n",
    "    b = skimpy.Tensor((10,), 0)\n",
    "    b[0] = 10\n",
    "    b[1:9] = 10\n",
    "    \n",
    "    #print(b.shape)\n",
    "    \n",
    "    \n",
    "    res = (a + b).eval()\n",
    "    print(res.to_string())"
   ]
  },
  {
   "cell_type": "code",
   "execution_count": null,
   "metadata": {},
   "outputs": [],
   "source": []
  },
  {
   "cell_type": "code",
   "execution_count": null,
   "metadata": {},
   "outputs": [],
   "source": [
    "with skimpy_config.lazy_evaluation_scope():\n",
    "    print(skimpy_config.get_all_values())\n",
    "    print(benchmarks.DenseArrayBenchmark( 1000 * 1000, 10).run_skimpy())"
   ]
  },
  {
   "cell_type": "code",
   "execution_count": null,
   "metadata": {},
   "outputs": [],
   "source": [
    "level = SkimpyMinecraftLevel.from_world_infer_order(\"/home/tdimson/Downloads/Vanillaburp's Dinner Party.zip\")"
   ]
  },
  {
   "cell_type": "code",
   "execution_count": null,
   "metadata": {},
   "outputs": [],
   "source": [
    "level.chunk_list[0].tensor.to_numpy().shape"
   ]
  },
  {
   "cell_type": "code",
   "execution_count": null,
   "metadata": {},
   "outputs": [],
   "source": [
    "import torch\n",
    "torch.set_num_threads(20)"
   ]
  },
  {
   "cell_type": "code",
   "execution_count": null,
   "metadata": {},
   "outputs": [],
   "source": [
    "benchmarks.MinecraftConvolutionBenchmark(\n",
    "    level=level,\n",
    "    kernel_width=3,\n",
    "    suite_kwargs={\n",
    "        \"skimpy\": {\n",
    "            \"num_threads\": 2\n",
    "        }\n",
    "    }\n",
    ").run(repeats=3)"
   ]
  },
  {
   "cell_type": "code",
   "execution_count": null,
   "metadata": {},
   "outputs": [],
   "source": [
    "benchmarks.DenseArrayBenchmark(1000 * 1000, 10).run_torch()"
   ]
  },
  {
   "cell_type": "code",
   "execution_count": null,
   "metadata": {},
   "outputs": [],
   "source": [
    "benchmarks.DenseArrayBenchmark.run_against_axis(\n",
    "    \"array_length\", [100, 1000, 10000, 100000, 1000000], \n",
    "    repeats=3, \n",
    "    verbose=False,\n",
    "    num_inputs=8,\n",
    "    suite_kwargs={\n",
    "        \"skimpy\": {\n",
    "            \"num_threads\": 32\n",
    "        }\n",
    "    }\n",
    ")"
   ]
  },
  {
   "cell_type": "code",
   "execution_count": null,
   "metadata": {},
   "outputs": [],
   "source": [
    "benchmarks.DenseArrayBenchmark(4 * 1024 * 1024 * 1024 // 4, 2, suite_kwargs={\"skimpy\": {\"num_threads\": 32}}).run()"
   ]
  },
  {
   "cell_type": "code",
   "execution_count": null,
   "metadata": {},
   "outputs": [],
   "source": [
    "benchmarks.DenseArrayBenchmark(4 * 1024 * 1024 * 1024 // 4, 2).run_skimpy(num_threads=2)"
   ]
  },
  {
   "cell_type": "code",
   "execution_count": null,
   "metadata": {},
   "outputs": [],
   "source": [
    "benchmarks.RunLengthArrayBenchmark(\n",
    "    array_length=1 * 1024 * 1024 * 1024 // 4,\n",
    "    num_non_zero=1024 * 1024, \n",
    "    run_length=100,\n",
    "    align_inputs=False,\n",
    "    num_inputs=2,\n",
    "    deterministic_run_length=False,\n",
    ").run()"
   ]
  },
  {
   "cell_type": "code",
   "execution_count": 18,
   "metadata": {},
   "outputs": [
    {
     "name": "stdout",
     "output_type": "stream",
     "text": [
      "{'accelerated_eval': True}\n",
      "{'skimpy': 478.81714999999997, 'memory': 8.1424, 'torch': 532.8753438}\n"
     ]
    }
   ],
   "source": [
    "with skimpy_config.config_scope():\n",
    "    skimpy_config.set_value(\"accelerated_eval\", True)\n",
    "    print(skimpy_config.get_all_values())\n",
    "    print(benchmarks.Dense3DConvolutionBenchmark(\n",
    "        (256, 256, 256), 3, \n",
    "        suite_kwargs={\n",
    "            \"torch\": {\n",
    "                \"device\": \"cpu\"\n",
    "            },\n",
    "            \"skimpy\": {\n",
    "                \"num_threads\": 32\n",
    "            }\n",
    "        }\n",
    "    ).run(repeats=5))"
   ]
  },
  {
   "cell_type": "code",
   "execution_count": 19,
   "metadata": {},
   "outputs": [
    {
     "name": "stdout",
     "output_type": "stream",
     "text": [
      "{'accelerated_eval': False}\n",
      "{'skimpy': 445.23258159999995, 'memory': 7.67, 'torch': 533.9207988000001}\n"
     ]
    }
   ],
   "source": [
    "with skimpy_config.config_scope():\n",
    "    skimpy_config.set_value(\"accelerated_eval\", False)\n",
    "    print(skimpy_config.get_all_values())\n",
    "    print(benchmarks.Dense3DConvolutionBenchmark(\n",
    "        (256, 256, 256), 3, \n",
    "        suite_kwargs={\n",
    "            \"torch\": {\n",
    "                \"device\": \"cpu\"\n",
    "            },\n",
    "            \"skimpy\": {\n",
    "                \"num_threads\": 32\n",
    "            }\n",
    "        }\n",
    "    ).run(repeats=5))"
   ]
  },
  {
   "cell_type": "code",
   "execution_count": 5,
   "metadata": {},
   "outputs": [
    {
     "name": "stdout",
     "output_type": "stream",
     "text": [
      "{'accelerated_eval': True}\n",
      "{'skimpy': 613.0900296666666, 'memory': 9.234333333333334, 'torch': 542.7629929999999}\n"
     ]
    }
   ],
   "source": [
    "with skimpy_config.config_scope():\n",
    "    skimpy_config.set_value(\"accelerated_eval\", True)\n",
    "    print(skimpy_config.get_all_values())\n",
    "    print(benchmarks.Dense3DConvolutionBenchmark(\n",
    "        (256, 256, 256), 3, \n",
    "        suite_kwargs={\n",
    "            \"torch\": {\n",
    "                \"device\": \"cpu\"\n",
    "            },\n",
    "            \"skimpy\": {\n",
    "                \"num_threads\": 32\n",
    "            }\n",
    "        }\n",
    "    ).run(repeats=3))"
   ]
  },
  {
   "cell_type": "code",
   "execution_count": null,
   "metadata": {},
   "outputs": [],
   "source": [
    "benchmarks.RunLength3DConvolutionBenchmark(\n",
    "    shape=(256, 256, 256),\n",
    "    kernel_width=3,\n",
    "    num_non_zero=100, \n",
    "    run_length=100,\n",
    "    align_inputs=False,\n",
    "    num_inputs=2,\n",
    "    deterministic_run_length=False,\n",
    ").run()"
   ]
  },
  {
   "cell_type": "code",
   "execution_count": null,
   "metadata": {},
   "outputs": [],
   "source": [
    "benchmarks.MNISTConvolutionBenchmark(\n",
    "    mnist_path=\"/home/tdimson/projects/skimpy/projects/skimpy_bench/data/mnist_train.csv.gz\",\n",
    "    kernel_width=5,\n",
    "    num_kernels=1,\n",
    "    suite_kwargs={\"skimpy\": {\"num_threads\": 32}},\n",
    ").run()"
   ]
  },
  {
   "cell_type": "code",
   "execution_count": null,
   "metadata": {},
   "outputs": [],
   "source": [
    "quantized = benchmarks.MNISTConvolutionBenchmark._numpy_from_mnist(\"/home/tdimson/projects/skimpy/projects/skimpy_bench/data/mnist_train.csv.gz\", quantize_buckets=2)"
   ]
  },
  {
   "cell_type": "code",
   "execution_count": null,
   "metadata": {},
   "outputs": [],
   "source": [
    "\n",
    "skimpy_tensor = skimpy.Tensor.from_numpy(quantized)\n",
    "len(skimpy_tensor) / (skimpy_tensor.rle_length() * 2)"
   ]
  },
  {
   "cell_type": "code",
   "execution_count": null,
   "metadata": {},
   "outputs": [],
   "source": []
  },
  {
   "cell_type": "code",
   "execution_count": null,
   "metadata": {},
   "outputs": [],
   "source": []
  },
  {
   "cell_type": "code",
   "execution_count": null,
   "metadata": {},
   "outputs": [],
   "source": [
    "import pandas as pd\n",
    "csv = pd.read_csv(\"/home/tdimson/projects/skimpy/projects/skimpy_bench/data/mnist_train.csv.gz\")\n",
    "data_columns = [e for e in csv.columns if e != \"label\"]\n",
    "np_mnist = csv[data_columns].to_numpy()\n",
    "batch_size, example_size = np_mnist.shape\n",
    "digit_size = 28\n",
    "layout = np_mnist.reshape(digit_size, digit_size * batch_size)\n",
    "tensor = skimpy.Tensor.from_numpy(layout)"
   ]
  },
  {
   "cell_type": "code",
   "execution_count": null,
   "metadata": {},
   "outputs": [],
   "source": [
    "quantized = layout // 1\n",
    "tensor = skimpy.Tensor.from_numpy(quantized)\n",
    "len(tensor) / (2 * tensor.rle_length())"
   ]
  },
  {
   "cell_type": "code",
   "execution_count": null,
   "metadata": {},
   "outputs": [],
   "source": [
    "layout.size"
   ]
  }
 ],
 "metadata": {
  "kernelspec": {
   "display_name": "Python 3",
   "language": "python",
   "name": "python3"
  },
  "language_info": {
   "codemirror_mode": {
    "name": "ipython",
    "version": 3
   },
   "file_extension": ".py",
   "mimetype": "text/x-python",
   "name": "python",
   "nbconvert_exporter": "python",
   "pygments_lexer": "ipython3",
   "version": "3.7.6"
  }
 },
 "nbformat": 4,
 "nbformat_minor": 4
}
