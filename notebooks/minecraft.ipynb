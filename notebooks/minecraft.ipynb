{
 "cells": [
  {
   "cell_type": "code",
   "execution_count": 1,
   "metadata": {},
   "outputs": [],
   "source": [
    "%load_ext autoreload\n",
    "%autoreload 2\n",
    "import sys\n",
    "sys.path.insert(0, \"../src/\")\n",
    "sys.path.insert(0, \"../projects/skimpy_bench/src/\")\n",
    "sys.path.insert(0, \"../projects/skimpy_blox/\")"
   ]
  },
  {
   "cell_type": "code",
   "execution_count": 2,
   "metadata": {},
   "outputs": [],
   "source": [
    "import functools\n",
    "import time\n",
    "import traceback\n",
    "from pathlib import Path\n",
    "from skimpy_blox.minecraft import SkimpyMinecraftLevel\n",
    "import pandas as pd"
   ]
  },
  {
   "cell_type": "code",
   "execution_count": 3,
   "metadata": {},
   "outputs": [
    {
     "data": {
      "application/vnd.jupyter.widget-view+json": {
       "model_id": "61f7e57aa6484087b1d2f6bb64cd037c",
       "version_major": 2,
       "version_minor": 0
      },
      "text/plain": [
       "HBox(children=(FloatProgress(value=0.0, max=2282.0), HTML(value='')))"
      ]
     },
     "metadata": {},
     "output_type": "display_data"
    },
    {
     "name": "stdout",
     "output_type": "stream",
     "text": [
      "\n"
     ]
    },
    {
     "data": {
      "application/vnd.jupyter.widget-view+json": {
       "model_id": "b6bd28c9bb4a466ca7383c7b3865c356",
       "version_major": 2,
       "version_minor": 0
      },
      "text/plain": [
       "HBox(children=(FloatProgress(value=0.0, max=2282.0), HTML(value='')))"
      ]
     },
     "metadata": {},
     "output_type": "display_data"
    },
    {
     "name": "stdout",
     "output_type": "stream",
     "text": [
      "\n"
     ]
    },
    {
     "data": {
      "application/vnd.jupyter.widget-view+json": {
       "model_id": "e2ed828a4fa24599a4d352bd5c4a4e45",
       "version_major": 2,
       "version_minor": 0
      },
      "text/plain": [
       "HBox(children=(FloatProgress(value=0.0, max=2282.0), HTML(value='')))"
      ]
     },
     "metadata": {},
     "output_type": "display_data"
    },
    {
     "name": "stdout",
     "output_type": "stream",
     "text": [
      "\n"
     ]
    },
    {
     "data": {
      "application/vnd.jupyter.widget-view+json": {
       "model_id": "90a1c219d8f849a69052f6c93c9fb5f6",
       "version_major": 2,
       "version_minor": 0
      },
      "text/plain": [
       "HBox(children=(FloatProgress(value=0.0, max=2282.0), HTML(value='')))"
      ]
     },
     "metadata": {},
     "output_type": "display_data"
    },
    {
     "name": "stdout",
     "output_type": "stream",
     "text": [
      "\n"
     ]
    },
    {
     "data": {
      "application/vnd.jupyter.widget-view+json": {
       "model_id": "729792fd9e5447e28a76a60e06aa39ce",
       "version_major": 2,
       "version_minor": 0
      },
      "text/plain": [
       "HBox(children=(FloatProgress(value=0.0, max=2282.0), HTML(value='')))"
      ]
     },
     "metadata": {},
     "output_type": "display_data"
    },
    {
     "name": "stdout",
     "output_type": "stream",
     "text": [
      "\n"
     ]
    },
    {
     "data": {
      "application/vnd.jupyter.widget-view+json": {
       "model_id": "a1a751b11316434880c36cd4becfad2c",
       "version_major": 2,
       "version_minor": 0
      },
      "text/plain": [
       "HBox(children=(FloatProgress(value=0.0, max=2282.0), HTML(value='')))"
      ]
     },
     "metadata": {},
     "output_type": "display_data"
    },
    {
     "name": "stdout",
     "output_type": "stream",
     "text": [
      "\n",
      "{(0, 1, 2): 32.0, (0, 2, 1): 512.0, (1, 0, 2): 2.0, (1, 2, 0): 512.0, (2, 0, 1): 2.0, (2, 1, 0): 32.0}\n"
     ]
    },
    {
     "data": {
      "application/vnd.jupyter.widget-view+json": {
       "model_id": "15bfa08f791849568813a2d15ceb175e",
       "version_major": 2,
       "version_minor": 0
      },
      "text/plain": [
       "HBox(children=(FloatProgress(value=0.0, max=2282.0), HTML(value='')))"
      ]
     },
     "metadata": {},
     "output_type": "display_data"
    },
    {
     "name": "stdout",
     "output_type": "stream",
     "text": [
      "\n"
     ]
    },
    {
     "data": {
      "text/plain": [
       "<skimpy_blox.minecraft.SkimpyMinecraftLevel at 0x7fcc106fa610>"
      ]
     },
     "execution_count": 3,
     "metadata": {},
     "output_type": "execute_result"
    }
   ],
   "source": [
    "SkimpyMinecraftLevel.from_world_infer_order(\"/home/tdimson/Downloads/Vanillaburp's Dinner Party\", num_chunks=1000)"
   ]
  },
  {
   "cell_type": "code",
   "execution_count": 4,
   "metadata": {},
   "outputs": [],
   "source": [
    "def process_folder(input_folder, pickle_folder):\n",
    "    input_folder = Path(input_folder)\n",
    "    pickle_folder = Path(pickle_folder)\n",
    "    for d in (x for x in input_folder.iterdir() if input_folder.is_dir()):\n",
    "        output_name = f\"{d.name}.pickle.gz\"\n",
    "        output_path = pickle_folder / output_name\n",
    "        \n",
    "        if output_path.exists():\n",
    "            print(f\"Skipping {output_path} since it already exists\")\n",
    "            continue\n",
    "        \n",
    "        print(f\"Processing {d.name} into {output_path}\")\n",
    "        start = time.time()\n",
    "        try:\n",
    "            level = SkimpyMinecraftLevel.from_world_infer_order(d, num_chunks=1000)\n",
    "        except Exception:\n",
    "            traceback.print_exc()\n",
    "            continue\n",
    "        level.dump(output_path)\n",
    "        print(f\"Finished {d.name} in {time.time() - start}s - compression ratio {level.rle_compression_ratio()}\")"
   ]
  },
  {
   "cell_type": "code",
   "execution_count": 3,
   "metadata": {},
   "outputs": [],
   "source": [
    "def stats_dataframe(pickle_folder):\n",
    "    pickle_folder = Path(pickle_folder)\n",
    "    rows = []\n",
    "    for file in pickle_folder.glob(\"*.gz\"):\n",
    "        try:\n",
    "            level = SkimpyMinecraftLevel.load(file)\n",
    "        except EOFError:\n",
    "            print(f\"Error loading {file}\")\n",
    "            continue\n",
    "        num_voxels = functools.reduce(lambda x, y: x * y, level.dense_dimensions())\n",
    "        num_nonzero_voxels = level.num_nonzero_voxels()\n",
    "        num_runs = level.num_runs()\n",
    "        minecraft_representation_size = level.minecraft_representation_size()\n",
    "        \n",
    "        \n",
    "        rows.append({\n",
    "            \"name\": str(file.name).replace(\".pickle.gz\", \"\"),\n",
    "            \"width\": level.dense_dimensions()[0],\n",
    "            \"height\": level.dense_dimensions()[1],\n",
    "            \"depth\": level.dense_dimensions()[2],\n",
    "            \"column_order\": level.column_order,\n",
    "            \"num_voxels\": num_voxels,\n",
    "            \"num_nonzero_voxels\": num_nonzero_voxels,\n",
    "            \"num_runs\": num_runs,\n",
    "            \"num_minecraft_representation\": minecraft_representation_size,\n",
    "            \"rle_compression_full_dense\": num_voxels / (2 *num_runs),\n",
    "            \"rle_compression_partial_dense\": minecraft_representation_size / (2 * num_runs),\n",
    "            \"sparse_compression_full_dense\": num_voxels / (2 * num_nonzero_voxels),\n",
    "            \"sparse_compression_partial_dense\": minecraft_representation_size / (2 * num_nonzero_voxels), \n",
    "        })\n",
    "        \n",
    "    \n",
    "    return pd.DataFrame(rows, columns=rows[0].keys())\n",
    "\n",
    "stats = stats_dataframe(\"/mnt/evo/projects/cs348k/Minecraft Levels - 2015/Pickled\")\n",
    "    "
   ]
  },
  {
   "cell_type": "code",
   "execution_count": 4,
   "metadata": {},
   "outputs": [
    {
     "data": {
      "text/html": [
       "<div>\n",
       "<style scoped>\n",
       "    .dataframe tbody tr th:only-of-type {\n",
       "        vertical-align: middle;\n",
       "    }\n",
       "\n",
       "    .dataframe tbody tr th {\n",
       "        vertical-align: top;\n",
       "    }\n",
       "\n",
       "    .dataframe thead th {\n",
       "        text-align: right;\n",
       "    }\n",
       "</style>\n",
       "<table border=\"1\" class=\"dataframe\">\n",
       "  <thead>\n",
       "    <tr style=\"text-align: right;\">\n",
       "      <th></th>\n",
       "      <th>name</th>\n",
       "      <th>width</th>\n",
       "      <th>height</th>\n",
       "      <th>depth</th>\n",
       "      <th>column_order</th>\n",
       "      <th>num_voxels</th>\n",
       "      <th>num_nonzero_voxels</th>\n",
       "      <th>num_runs</th>\n",
       "      <th>num_minecraft_representation</th>\n",
       "      <th>rle_compression_full_dense</th>\n",
       "      <th>rle_compression_partial_dense</th>\n",
       "      <th>sparse_compression_full_dense</th>\n",
       "      <th>sparse_compression_partial_dense</th>\n",
       "    </tr>\n",
       "  </thead>\n",
       "  <tbody>\n",
       "    <tr>\n",
       "      <th>0</th>\n",
       "      <td>SGC 3.0 BY West build Team</td>\n",
       "      <td>3002960</td>\n",
       "      <td>256</td>\n",
       "      <td>3002464</td>\n",
       "      <td>(0, 2, 1)</td>\n",
       "      <td>2308167499120640</td>\n",
       "      <td>539009124</td>\n",
       "      <td>9444158</td>\n",
       "      <td>822501376</td>\n",
       "      <td>1.222008e+08</td>\n",
       "      <td>43.545511</td>\n",
       "      <td>2.141121e+06</td>\n",
       "      <td>0.762975</td>\n",
       "    </tr>\n",
       "    <tr>\n",
       "      <th>1</th>\n",
       "      <td>PvP Arena</td>\n",
       "      <td>2560</td>\n",
       "      <td>80</td>\n",
       "      <td>2160</td>\n",
       "      <td>(0, 2, 1)</td>\n",
       "      <td>442368000</td>\n",
       "      <td>2301004</td>\n",
       "      <td>169723</td>\n",
       "      <td>9043968</td>\n",
       "      <td>1.303206e+03</td>\n",
       "      <td>26.643319</td>\n",
       "      <td>9.612500e+01</td>\n",
       "      <td>1.965222</td>\n",
       "    </tr>\n",
       "    <tr>\n",
       "      <th>2</th>\n",
       "      <td>Los Angelcraft by Fujiwara1990</td>\n",
       "      <td>1520</td>\n",
       "      <td>256</td>\n",
       "      <td>1696</td>\n",
       "      <td>(1, 2, 0)</td>\n",
       "      <td>659947520</td>\n",
       "      <td>165056808</td>\n",
       "      <td>8953896</td>\n",
       "      <td>204070912</td>\n",
       "      <td>3.685253e+01</td>\n",
       "      <td>11.395649</td>\n",
       "      <td>1.999153e+00</td>\n",
       "      <td>0.618184</td>\n",
       "    </tr>\n",
       "    <tr>\n",
       "      <th>3</th>\n",
       "      <td>MinePark1.0</td>\n",
       "      <td>1648</td>\n",
       "      <td>256</td>\n",
       "      <td>1696</td>\n",
       "      <td>(1, 2, 0)</td>\n",
       "      <td>715522048</td>\n",
       "      <td>106499949</td>\n",
       "      <td>5562755</td>\n",
       "      <td>136843264</td>\n",
       "      <td>6.431364e+01</td>\n",
       "      <td>12.299954</td>\n",
       "      <td>3.359260e+00</td>\n",
       "      <td>0.642457</td>\n",
       "    </tr>\n",
       "    <tr>\n",
       "      <th>4</th>\n",
       "      <td>Union Islands</td>\n",
       "      <td>8944</td>\n",
       "      <td>256</td>\n",
       "      <td>6112</td>\n",
       "      <td>(0, 2, 1)</td>\n",
       "      <td>13994426368</td>\n",
       "      <td>3062810912</td>\n",
       "      <td>175499995</td>\n",
       "      <td>3793580032</td>\n",
       "      <td>3.987016e+01</td>\n",
       "      <td>10.807921</td>\n",
       "      <td>2.284572e+00</td>\n",
       "      <td>0.619297</td>\n",
       "    </tr>\n",
       "    <tr>\n",
       "      <th>5</th>\n",
       "      <td>SmithyMC Jurassic World 24-10-15 Minecraft 1.8...</td>\n",
       "      <td>7936</td>\n",
       "      <td>256</td>\n",
       "      <td>12688</td>\n",
       "      <td>(1, 2, 0)</td>\n",
       "      <td>25777143808</td>\n",
       "      <td>1421177596</td>\n",
       "      <td>153375525</td>\n",
       "      <td>1695944704</td>\n",
       "      <td>8.403278e+01</td>\n",
       "      <td>5.528733</td>\n",
       "      <td>9.068938e+00</td>\n",
       "      <td>0.596669</td>\n",
       "    </tr>\n",
       "    <tr>\n",
       "      <th>6</th>\n",
       "      <td>worldX</td>\n",
       "      <td>8352</td>\n",
       "      <td>240</td>\n",
       "      <td>8432</td>\n",
       "      <td>(0, 2, 1)</td>\n",
       "      <td>16901775360</td>\n",
       "      <td>4373518629</td>\n",
       "      <td>169955013</td>\n",
       "      <td>4778450944</td>\n",
       "      <td>4.972426e+01</td>\n",
       "      <td>14.057988</td>\n",
       "      <td>1.932286e+00</td>\n",
       "      <td>0.546294</td>\n",
       "    </tr>\n",
       "    <tr>\n",
       "      <th>7</th>\n",
       "      <td>Piston House III(ByEuclides)</td>\n",
       "      <td>592</td>\n",
       "      <td>112</td>\n",
       "      <td>640</td>\n",
       "      <td>(1, 2, 0)</td>\n",
       "      <td>42434560</td>\n",
       "      <td>21115197</td>\n",
       "      <td>2636057</td>\n",
       "      <td>24985600</td>\n",
       "      <td>8.048870e+00</td>\n",
       "      <td>4.739199</td>\n",
       "      <td>1.004835e+00</td>\n",
       "      <td>0.591650</td>\n",
       "    </tr>\n",
       "    <tr>\n",
       "      <th>8</th>\n",
       "      <td>Ironman by McMakistein</td>\n",
       "      <td>7328</td>\n",
       "      <td>256</td>\n",
       "      <td>10816</td>\n",
       "      <td>(1, 2, 0)</td>\n",
       "      <td>20290469888</td>\n",
       "      <td>23546264</td>\n",
       "      <td>1512153</td>\n",
       "      <td>596058112</td>\n",
       "      <td>6.709133e+03</td>\n",
       "      <td>197.089220</td>\n",
       "      <td>4.308639e+02</td>\n",
       "      <td>12.657170</td>\n",
       "    </tr>\n",
       "    <tr>\n",
       "      <th>9</th>\n",
       "      <td>YandereSim(Better)</td>\n",
       "      <td>1040</td>\n",
       "      <td>48</td>\n",
       "      <td>1120</td>\n",
       "      <td>(1, 2, 0)</td>\n",
       "      <td>55910400</td>\n",
       "      <td>1561360</td>\n",
       "      <td>32605</td>\n",
       "      <td>6504448</td>\n",
       "      <td>8.573900e+02</td>\n",
       "      <td>99.746174</td>\n",
       "      <td>1.790439e+01</td>\n",
       "      <td>2.082943</td>\n",
       "    </tr>\n",
       "    <tr>\n",
       "      <th>10</th>\n",
       "      <td>Isles Of Arqualis</td>\n",
       "      <td>2944</td>\n",
       "      <td>224</td>\n",
       "      <td>2560</td>\n",
       "      <td>(0, 2, 1)</td>\n",
       "      <td>1688207360</td>\n",
       "      <td>295061429</td>\n",
       "      <td>21571296</td>\n",
       "      <td>369758208</td>\n",
       "      <td>3.913087e+01</td>\n",
       "      <td>8.570607</td>\n",
       "      <td>2.860773e+00</td>\n",
       "      <td>0.626578</td>\n",
       "    </tr>\n",
       "    <tr>\n",
       "      <th>11</th>\n",
       "      <td>Heist v1.4b</td>\n",
       "      <td>1600</td>\n",
       "      <td>224</td>\n",
       "      <td>4512</td>\n",
       "      <td>(0, 2, 1)</td>\n",
       "      <td>1617100800</td>\n",
       "      <td>103284668</td>\n",
       "      <td>172267</td>\n",
       "      <td>139530240</td>\n",
       "      <td>4.693588e+03</td>\n",
       "      <td>404.982498</td>\n",
       "      <td>7.828368e+00</td>\n",
       "      <td>0.675464</td>\n",
       "    </tr>\n",
       "    <tr>\n",
       "      <th>12</th>\n",
       "      <td>Hydra Vanilla Mod Pack</td>\n",
       "      <td>2528</td>\n",
       "      <td>176</td>\n",
       "      <td>880</td>\n",
       "      <td>(1, 2, 0)</td>\n",
       "      <td>391536640</td>\n",
       "      <td>85139311</td>\n",
       "      <td>8944651</td>\n",
       "      <td>113369088</td>\n",
       "      <td>2.188664e+01</td>\n",
       "      <td>6.337256</td>\n",
       "      <td>2.299388e+00</td>\n",
       "      <td>0.665786</td>\n",
       "    </tr>\n",
       "    <tr>\n",
       "      <th>13</th>\n",
       "      <td>Piston House II(ByEuclides)</td>\n",
       "      <td>1152</td>\n",
       "      <td>208</td>\n",
       "      <td>928</td>\n",
       "      <td>(1, 2, 0)</td>\n",
       "      <td>222363648</td>\n",
       "      <td>36623855</td>\n",
       "      <td>3844693</td>\n",
       "      <td>45494272</td>\n",
       "      <td>2.891826e+01</td>\n",
       "      <td>5.916503</td>\n",
       "      <td>3.035776e+00</td>\n",
       "      <td>0.621102</td>\n",
       "    </tr>\n",
       "    <tr>\n",
       "      <th>14</th>\n",
       "      <td>Chume Labs 2 - Mapa.v1</td>\n",
       "      <td>4016</td>\n",
       "      <td>240</td>\n",
       "      <td>4016</td>\n",
       "      <td>(0, 1, 2)</td>\n",
       "      <td>3870781440</td>\n",
       "      <td>4984726</td>\n",
       "      <td>731108</td>\n",
       "      <td>206536704</td>\n",
       "      <td>2.647202e+03</td>\n",
       "      <td>141.249107</td>\n",
       "      <td>3.882642e+02</td>\n",
       "      <td>20.716957</td>\n",
       "    </tr>\n",
       "    <tr>\n",
       "      <th>15</th>\n",
       "      <td>TomorrowLand-V0.2</td>\n",
       "      <td>5664</td>\n",
       "      <td>256</td>\n",
       "      <td>7152</td>\n",
       "      <td>(0, 2, 1)</td>\n",
       "      <td>10370285568</td>\n",
       "      <td>1330380688</td>\n",
       "      <td>98218199</td>\n",
       "      <td>1598689280</td>\n",
       "      <td>5.279208e+01</td>\n",
       "      <td>8.138458</td>\n",
       "      <td>3.897488e+00</td>\n",
       "      <td>0.600839</td>\n",
       "    </tr>\n",
       "    <tr>\n",
       "      <th>16</th>\n",
       "      <td>Traditional mansion jarrah{jar9}</td>\n",
       "      <td>2448</td>\n",
       "      <td>256</td>\n",
       "      <td>3952</td>\n",
       "      <td>(1, 2, 0)</td>\n",
       "      <td>2476670976</td>\n",
       "      <td>451051955</td>\n",
       "      <td>44014818</td>\n",
       "      <td>606056448</td>\n",
       "      <td>2.813451e+01</td>\n",
       "      <td>6.884687</td>\n",
       "      <td>2.745439e+00</td>\n",
       "      <td>0.671826</td>\n",
       "    </tr>\n",
       "    <tr>\n",
       "      <th>17</th>\n",
       "      <td>Hogwarts1.0</td>\n",
       "      <td>2448</td>\n",
       "      <td>256</td>\n",
       "      <td>1088</td>\n",
       "      <td>(0, 2, 1)</td>\n",
       "      <td>681836544</td>\n",
       "      <td>12753121</td>\n",
       "      <td>1433678</td>\n",
       "      <td>56594432</td>\n",
       "      <td>2.377928e+02</td>\n",
       "      <td>19.737498</td>\n",
       "      <td>2.673214e+01</td>\n",
       "      <td>2.218846</td>\n",
       "    </tr>\n",
       "    <tr>\n",
       "      <th>18</th>\n",
       "      <td>Spiderman by McMakistein</td>\n",
       "      <td>2512</td>\n",
       "      <td>256</td>\n",
       "      <td>3584</td>\n",
       "      <td>(0, 2, 1)</td>\n",
       "      <td>2304770048</td>\n",
       "      <td>293835755</td>\n",
       "      <td>38197441</td>\n",
       "      <td>386519040</td>\n",
       "      <td>3.016917e+01</td>\n",
       "      <td>5.059489</td>\n",
       "      <td>3.921868e+00</td>\n",
       "      <td>0.657713</td>\n",
       "    </tr>\n",
       "    <tr>\n",
       "      <th>19</th>\n",
       "      <td>StrandedRaft</td>\n",
       "      <td>4096</td>\n",
       "      <td>96</td>\n",
       "      <td>4096</td>\n",
       "      <td>(1, 2, 0)</td>\n",
       "      <td>1610612736</td>\n",
       "      <td>1023522119</td>\n",
       "      <td>2909054</td>\n",
       "      <td>1075023872</td>\n",
       "      <td>2.768276e+02</td>\n",
       "      <td>184.772072</td>\n",
       "      <td>7.867992e-01</td>\n",
       "      <td>0.525159</td>\n",
       "    </tr>\n",
       "    <tr>\n",
       "      <th>20</th>\n",
       "      <td>Modern House</td>\n",
       "      <td>2048</td>\n",
       "      <td>128</td>\n",
       "      <td>704</td>\n",
       "      <td>(0, 2, 1)</td>\n",
       "      <td>184549376</td>\n",
       "      <td>66530423</td>\n",
       "      <td>5999877</td>\n",
       "      <td>77123584</td>\n",
       "      <td>1.537943e+01</td>\n",
       "      <td>6.427097</td>\n",
       "      <td>1.386955e+00</td>\n",
       "      <td>0.579611</td>\n",
       "    </tr>\n",
       "    <tr>\n",
       "      <th>21</th>\n",
       "      <td>mapppp</td>\n",
       "      <td>4880</td>\n",
       "      <td>256</td>\n",
       "      <td>4944</td>\n",
       "      <td>(0, 2, 1)</td>\n",
       "      <td>6176440320</td>\n",
       "      <td>1968517394</td>\n",
       "      <td>52620189</td>\n",
       "      <td>2226487296</td>\n",
       "      <td>5.868888e+01</td>\n",
       "      <td>21.156208</td>\n",
       "      <td>1.568805e+00</td>\n",
       "      <td>0.565524</td>\n",
       "    </tr>\n",
       "    <tr>\n",
       "      <th>22</th>\n",
       "      <td>Steven Universe</td>\n",
       "      <td>1600</td>\n",
       "      <td>160</td>\n",
       "      <td>1424</td>\n",
       "      <td>(1, 2, 0)</td>\n",
       "      <td>364544000</td>\n",
       "      <td>85905098</td>\n",
       "      <td>4006120</td>\n",
       "      <td>107044864</td>\n",
       "      <td>4.549839e+01</td>\n",
       "      <td>13.360167</td>\n",
       "      <td>2.121783e+00</td>\n",
       "      <td>0.623041</td>\n",
       "    </tr>\n",
       "    <tr>\n",
       "      <th>23</th>\n",
       "      <td>ZeSpawn</td>\n",
       "      <td>1872</td>\n",
       "      <td>224</td>\n",
       "      <td>1760</td>\n",
       "      <td>(0, 2, 1)</td>\n",
       "      <td>738017280</td>\n",
       "      <td>217388</td>\n",
       "      <td>88525</td>\n",
       "      <td>15699968</td>\n",
       "      <td>4.168412e+03</td>\n",
       "      <td>88.675335</td>\n",
       "      <td>1.697466e+03</td>\n",
       "      <td>36.110475</td>\n",
       "    </tr>\n",
       "    <tr>\n",
       "      <th>24</th>\n",
       "      <td>Jurassic Park</td>\n",
       "      <td>115360</td>\n",
       "      <td>192</td>\n",
       "      <td>117968</td>\n",
       "      <td>(0, 2, 1)</td>\n",
       "      <td>2612887388160</td>\n",
       "      <td>7346375284</td>\n",
       "      <td>376242454</td>\n",
       "      <td>7991005184</td>\n",
       "      <td>3.472345e+03</td>\n",
       "      <td>10.619489</td>\n",
       "      <td>1.778351e+02</td>\n",
       "      <td>0.543874</td>\n",
       "    </tr>\n",
       "  </tbody>\n",
       "</table>\n",
       "</div>"
      ],
      "text/plain": [
       "                                                 name    width  height  \\\n",
       "0                          SGC 3.0 BY West build Team  3002960     256   \n",
       "1                                           PvP Arena     2560      80   \n",
       "2                      Los Angelcraft by Fujiwara1990     1520     256   \n",
       "3                                         MinePark1.0     1648     256   \n",
       "4                                       Union Islands     8944     256   \n",
       "5   SmithyMC Jurassic World 24-10-15 Minecraft 1.8...     7936     256   \n",
       "6                                              worldX     8352     240   \n",
       "7                        Piston House III(ByEuclides)      592     112   \n",
       "8                              Ironman by McMakistein     7328     256   \n",
       "9                                  YandereSim(Better)     1040      48   \n",
       "10                                  Isles Of Arqualis     2944     224   \n",
       "11                                        Heist v1.4b     1600     224   \n",
       "12                             Hydra Vanilla Mod Pack     2528     176   \n",
       "13                        Piston House II(ByEuclides)     1152     208   \n",
       "14                             Chume Labs 2 - Mapa.v1     4016     240   \n",
       "15                                  TomorrowLand-V0.2     5664     256   \n",
       "16                   Traditional mansion jarrah{jar9}     2448     256   \n",
       "17                                        Hogwarts1.0     2448     256   \n",
       "18                           Spiderman by McMakistein     2512     256   \n",
       "19                                       StrandedRaft     4096      96   \n",
       "20                                       Modern House     2048     128   \n",
       "21                                             mapppp     4880     256   \n",
       "22                                    Steven Universe     1600     160   \n",
       "23                                            ZeSpawn     1872     224   \n",
       "24                                      Jurassic Park   115360     192   \n",
       "\n",
       "      depth column_order        num_voxels  num_nonzero_voxels   num_runs  \\\n",
       "0   3002464    (0, 2, 1)  2308167499120640           539009124    9444158   \n",
       "1      2160    (0, 2, 1)         442368000             2301004     169723   \n",
       "2      1696    (1, 2, 0)         659947520           165056808    8953896   \n",
       "3      1696    (1, 2, 0)         715522048           106499949    5562755   \n",
       "4      6112    (0, 2, 1)       13994426368          3062810912  175499995   \n",
       "5     12688    (1, 2, 0)       25777143808          1421177596  153375525   \n",
       "6      8432    (0, 2, 1)       16901775360          4373518629  169955013   \n",
       "7       640    (1, 2, 0)          42434560            21115197    2636057   \n",
       "8     10816    (1, 2, 0)       20290469888            23546264    1512153   \n",
       "9      1120    (1, 2, 0)          55910400             1561360      32605   \n",
       "10     2560    (0, 2, 1)        1688207360           295061429   21571296   \n",
       "11     4512    (0, 2, 1)        1617100800           103284668     172267   \n",
       "12      880    (1, 2, 0)         391536640            85139311    8944651   \n",
       "13      928    (1, 2, 0)         222363648            36623855    3844693   \n",
       "14     4016    (0, 1, 2)        3870781440             4984726     731108   \n",
       "15     7152    (0, 2, 1)       10370285568          1330380688   98218199   \n",
       "16     3952    (1, 2, 0)        2476670976           451051955   44014818   \n",
       "17     1088    (0, 2, 1)         681836544            12753121    1433678   \n",
       "18     3584    (0, 2, 1)        2304770048           293835755   38197441   \n",
       "19     4096    (1, 2, 0)        1610612736          1023522119    2909054   \n",
       "20      704    (0, 2, 1)         184549376            66530423    5999877   \n",
       "21     4944    (0, 2, 1)        6176440320          1968517394   52620189   \n",
       "22     1424    (1, 2, 0)         364544000            85905098    4006120   \n",
       "23     1760    (0, 2, 1)         738017280              217388      88525   \n",
       "24   117968    (0, 2, 1)     2612887388160          7346375284  376242454   \n",
       "\n",
       "    num_minecraft_representation  rle_compression_full_dense  \\\n",
       "0                      822501376                1.222008e+08   \n",
       "1                        9043968                1.303206e+03   \n",
       "2                      204070912                3.685253e+01   \n",
       "3                      136843264                6.431364e+01   \n",
       "4                     3793580032                3.987016e+01   \n",
       "5                     1695944704                8.403278e+01   \n",
       "6                     4778450944                4.972426e+01   \n",
       "7                       24985600                8.048870e+00   \n",
       "8                      596058112                6.709133e+03   \n",
       "9                        6504448                8.573900e+02   \n",
       "10                     369758208                3.913087e+01   \n",
       "11                     139530240                4.693588e+03   \n",
       "12                     113369088                2.188664e+01   \n",
       "13                      45494272                2.891826e+01   \n",
       "14                     206536704                2.647202e+03   \n",
       "15                    1598689280                5.279208e+01   \n",
       "16                     606056448                2.813451e+01   \n",
       "17                      56594432                2.377928e+02   \n",
       "18                     386519040                3.016917e+01   \n",
       "19                    1075023872                2.768276e+02   \n",
       "20                      77123584                1.537943e+01   \n",
       "21                    2226487296                5.868888e+01   \n",
       "22                     107044864                4.549839e+01   \n",
       "23                      15699968                4.168412e+03   \n",
       "24                    7991005184                3.472345e+03   \n",
       "\n",
       "    rle_compression_partial_dense  sparse_compression_full_dense  \\\n",
       "0                       43.545511                   2.141121e+06   \n",
       "1                       26.643319                   9.612500e+01   \n",
       "2                       11.395649                   1.999153e+00   \n",
       "3                       12.299954                   3.359260e+00   \n",
       "4                       10.807921                   2.284572e+00   \n",
       "5                        5.528733                   9.068938e+00   \n",
       "6                       14.057988                   1.932286e+00   \n",
       "7                        4.739199                   1.004835e+00   \n",
       "8                      197.089220                   4.308639e+02   \n",
       "9                       99.746174                   1.790439e+01   \n",
       "10                       8.570607                   2.860773e+00   \n",
       "11                     404.982498                   7.828368e+00   \n",
       "12                       6.337256                   2.299388e+00   \n",
       "13                       5.916503                   3.035776e+00   \n",
       "14                     141.249107                   3.882642e+02   \n",
       "15                       8.138458                   3.897488e+00   \n",
       "16                       6.884687                   2.745439e+00   \n",
       "17                      19.737498                   2.673214e+01   \n",
       "18                       5.059489                   3.921868e+00   \n",
       "19                     184.772072                   7.867992e-01   \n",
       "20                       6.427097                   1.386955e+00   \n",
       "21                      21.156208                   1.568805e+00   \n",
       "22                      13.360167                   2.121783e+00   \n",
       "23                      88.675335                   1.697466e+03   \n",
       "24                      10.619489                   1.778351e+02   \n",
       "\n",
       "    sparse_compression_partial_dense  \n",
       "0                           0.762975  \n",
       "1                           1.965222  \n",
       "2                           0.618184  \n",
       "3                           0.642457  \n",
       "4                           0.619297  \n",
       "5                           0.596669  \n",
       "6                           0.546294  \n",
       "7                           0.591650  \n",
       "8                          12.657170  \n",
       "9                           2.082943  \n",
       "10                          0.626578  \n",
       "11                          0.675464  \n",
       "12                          0.665786  \n",
       "13                          0.621102  \n",
       "14                         20.716957  \n",
       "15                          0.600839  \n",
       "16                          0.671826  \n",
       "17                          2.218846  \n",
       "18                          0.657713  \n",
       "19                          0.525159  \n",
       "20                          0.579611  \n",
       "21                          0.565524  \n",
       "22                          0.623041  \n",
       "23                         36.110475  \n",
       "24                          0.543874  "
      ]
     },
     "execution_count": 4,
     "metadata": {},
     "output_type": "execute_result"
    }
   ],
   "source": [
    "stats"
   ]
  },
  {
   "cell_type": "code",
   "execution_count": 14,
   "metadata": {},
   "outputs": [
    {
     "data": {
      "text/plain": [
       "{'Heist v1.4b',\n",
       " 'Hogwarts1.0',\n",
       " 'Hydra Vanilla Mod Pack',\n",
       " 'Isles Of Arqualis',\n",
       " 'Los Angelcraft by Fujiwara1990',\n",
       " 'MinePark1.0',\n",
       " 'Modern House',\n",
       " 'Piston House II(ByEuclides)',\n",
       " 'Piston House III(ByEuclides)',\n",
       " 'PvP Arena',\n",
       " 'Steven Universe',\n",
       " 'StrandedRaft',\n",
       " 'YandereSim(Better)',\n",
       " 'ZeSpawn'}"
      ]
     },
     "execution_count": 14,
     "metadata": {},
     "output_type": "execute_result"
    }
   ],
   "source": [
    "set(stats[stats[\"num_voxels\"] < 2 ** 31 - 1][\"name\"])"
   ]
  },
  {
   "cell_type": "code",
   "execution_count": 13,
   "metadata": {},
   "outputs": [],
   "source": [
    "stats[\"rle_compression_vs_sparse\"] =stats[\"num_nonzero_voxels\"] /  stats[\"num_runs\"] \n"
   ]
  },
  {
   "cell_type": "code",
   "execution_count": 10,
   "metadata": {},
   "outputs": [],
   "source": [
    "rle_size = 2 * stats[\"num_runs\"]\n"
   ]
  },
  {
   "cell_type": "code",
   "execution_count": 14,
   "metadata": {},
   "outputs": [
    {
     "name": "stdout",
     "output_type": "stream",
     "text": [
      "Num items: 25\n",
      "Median num voxels: 1617100800.0\n",
      "Median non-zero voxels: 106499949.0\n",
      "Dimension for Median Num Voxels: 1600x224x4512\n",
      "Median RLE Compression Ratio Vs. Dense: 58.68888384266351x\n",
      "Median RLE Compression Ratio Vs. Sparse: 13.678428454182818x\n",
      "Min RLE Compression Ratio Vs. Dense: 8.048869959943962x\n",
      "Max RLE Compression Ratio Vs. Dense: 122200809.17328152x\n",
      "Median Sparse Compression Ratio Vs. Dense: 3.359260049974296x\n",
      "Median RLE Compression Ratio Vs. Mixed: 12.299954249288348x\n",
      "Median Sparse Compression Ratio Vs. Mixed: 0.6265783522657582x\n"
     ]
    }
   ],
   "source": [
    "def print_stats(stats):\n",
    "    print(f\"Num items: {len(stats)}\")\n",
    "    print(f\"Median num voxels: {stats['num_voxels'].median()}\")\n",
    "    print(f\"Median non-zero voxels: {stats['num_nonzero_voxels'].median()}\")\n",
    "    typical_voxel = stats[\"num_voxels\"].sort_values().iloc[len(stats) // 2 ]\n",
    "    example_for_dim = stats[stats[\"num_voxels\"] == typical_voxel].iloc[0]\n",
    "    print(f\"Dimension for Median Num Voxels: {example_for_dim.width}x{example_for_dim.height}x{example_for_dim.depth}\")\n",
    "    print(f\"Median RLE Compression Ratio Vs. Dense: {stats['rle_compression_full_dense'].median()}x\")\n",
    "    print(f\"Median RLE Compression Ratio Vs. Sparse: {stats['rle_compression_vs_sparse'].median()}x\")\n",
    "    print(f\"Min RLE Compression Ratio Vs. Dense: {stats['rle_compression_full_dense'].min()}x\")\n",
    "    print(f\"Max RLE Compression Ratio Vs. Dense: {stats['rle_compression_full_dense'].max()}x\")\n",
    "    print(f\"Median Sparse Compression Ratio Vs. Dense: {stats['sparse_compression_full_dense'].median()}x\")\n",
    "    print(f\"Median RLE Compression Ratio Vs. Mixed: {stats['rle_compression_partial_dense'].median()}x\")\n",
    "    print(f\"Median Sparse Compression Ratio Vs. Mixed: {stats['sparse_compression_partial_dense'].median()}x\")\n",
    "    \n",
    "print_stats(stats)"
   ]
  },
  {
   "cell_type": "code",
   "execution_count": 16,
   "metadata": {},
   "outputs": [
    {
     "data": {
      "text/html": [
       "<div>\n",
       "<style scoped>\n",
       "    .dataframe tbody tr th:only-of-type {\n",
       "        vertical-align: middle;\n",
       "    }\n",
       "\n",
       "    .dataframe tbody tr th {\n",
       "        vertical-align: top;\n",
       "    }\n",
       "\n",
       "    .dataframe thead th {\n",
       "        text-align: right;\n",
       "    }\n",
       "</style>\n",
       "<table border=\"1\" class=\"dataframe\">\n",
       "  <thead>\n",
       "    <tr style=\"text-align: right;\">\n",
       "      <th></th>\n",
       "      <th>name</th>\n",
       "      <th>width</th>\n",
       "      <th>height</th>\n",
       "      <th>depth</th>\n",
       "      <th>column_order</th>\n",
       "      <th>num_voxels</th>\n",
       "      <th>num_nonzero_voxels</th>\n",
       "      <th>num_runs</th>\n",
       "      <th>num_minecraft_representation</th>\n",
       "      <th>rle_compression_full_dense</th>\n",
       "      <th>rle_compression_partial_dense</th>\n",
       "      <th>sparse_compression_full_dense</th>\n",
       "      <th>sparse_compression_partial_dense</th>\n",
       "      <th>rle_compression_vs_sparse</th>\n",
       "    </tr>\n",
       "  </thead>\n",
       "  <tbody>\n",
       "    <tr>\n",
       "      <th>17</th>\n",
       "      <td>Hogwarts1.0</td>\n",
       "      <td>2448</td>\n",
       "      <td>256</td>\n",
       "      <td>1088</td>\n",
       "      <td>(0, 2, 1)</td>\n",
       "      <td>681836544</td>\n",
       "      <td>12753121</td>\n",
       "      <td>1433678</td>\n",
       "      <td>56594432</td>\n",
       "      <td>237.792776</td>\n",
       "      <td>19.737498</td>\n",
       "      <td>26.732144</td>\n",
       "      <td>2.218846</td>\n",
       "      <td>8.895387</td>\n",
       "    </tr>\n",
       "  </tbody>\n",
       "</table>\n",
       "</div>"
      ],
      "text/plain": [
       "           name  width  height  depth column_order  num_voxels  \\\n",
       "17  Hogwarts1.0   2448     256   1088    (0, 2, 1)   681836544   \n",
       "\n",
       "    num_nonzero_voxels  num_runs  num_minecraft_representation  \\\n",
       "17            12753121   1433678                      56594432   \n",
       "\n",
       "    rle_compression_full_dense  rle_compression_partial_dense  \\\n",
       "17                  237.792776                      19.737498   \n",
       "\n",
       "    sparse_compression_full_dense  sparse_compression_partial_dense  \\\n",
       "17                      26.732144                          2.218846   \n",
       "\n",
       "    rle_compression_vs_sparse  \n",
       "17                   8.895387  "
      ]
     },
     "execution_count": 16,
     "metadata": {},
     "output_type": "execute_result"
    }
   ],
   "source": [
    "stats[stats[\"name\"] == \"Hogwarts1.0\"]"
   ]
  },
  {
   "cell_type": "code",
   "execution_count": null,
   "metadata": {},
   "outputs": [],
   "source": [
    "stats.sort_values(\"rle_compression_partial_dense\")"
   ]
  },
  {
   "cell_type": "code",
   "execution_count": null,
   "metadata": {},
   "outputs": [],
   "source": [
    "level = SkimpyMinecraftLevel.load(\"/mnt/evo/projects/cs348k/Minecraft Levels - 2015/Pickled/YandereSim(Better).pickle.gz\")"
   ]
  },
  {
   "cell_type": "code",
   "execution_count": null,
   "metadata": {},
   "outputs": [],
   "source": [
    "level.megatensor()"
   ]
  },
  {
   "cell_type": "code",
   "execution_count": 5,
   "metadata": {},
   "outputs": [
    {
     "name": "stdout",
     "output_type": "stream",
     "text": [
      "Skipping /mnt/evo/projects/cs348k/Minecraft Levels - 2015/Pickled/MinePark1.0.pickle.gz since it already exists\n",
      "Skipping /mnt/evo/projects/cs348k/Minecraft Levels - 2015/Pickled/Los Angelcraft by Fujiwara1990.pickle.gz since it already exists\n",
      "Skipping /mnt/evo/projects/cs348k/Minecraft Levels - 2015/Pickled/Ironman by McMakistein.pickle.gz since it already exists\n",
      "Skipping /mnt/evo/projects/cs348k/Minecraft Levels - 2015/Pickled/SmithyMC Jurassic World 24-10-15 Minecraft 1.8 Video 18.04.17.pickle.gz since it already exists\n",
      "Skipping /mnt/evo/projects/cs348k/Minecraft Levels - 2015/Pickled/Hogwarts1.0.pickle.gz since it already exists\n",
      "Processing Yandere Sim Map into /mnt/evo/projects/cs348k/Minecraft Levels - 2015/Pickled/Yandere Sim Map.pickle.gz\n"
     ]
    },
    {
     "data": {
      "application/vnd.jupyter.widget-view+json": {
       "model_id": "69b524d0fe4f47e1b713a0269910c787",
       "version_major": 2,
       "version_minor": 0
      },
      "text/plain": [
       "HBox(children=(FloatProgress(value=0.0, max=5727.0), HTML(value='')))"
      ]
     },
     "metadata": {},
     "output_type": "display_data"
    },
    {
     "name": "stdout",
     "output_type": "stream",
     "text": [
      "\n",
      "Skipping /mnt/evo/projects/cs348k/Minecraft Levels - 2015/Pickled/Chume Labs 2 - Mapa.v1.pickle.gz since it already exists\n",
      "Processing Newisle v1.2 into /mnt/evo/projects/cs348k/Minecraft Levels - 2015/Pickled/Newisle v1.2.pickle.gz\n"
     ]
    },
    {
     "name": "stderr",
     "output_type": "stream",
     "text": [
      "Traceback (most recent call last):\n",
      "  File \"<ipython-input-4-268775f9415a>\", line 15, in process_folder\n",
      "    level = SkimpyMinecraftLevel.from_world_infer_order(d, num_chunks=1000)\n",
      "  File \"../projects/skimpy_blox/skimpy_blox/minecraft.py\", line 146, in from_world_infer_order\n",
      "    best_order, stats = cls.approx_best_column_order(world_folder, num_chunks)\n",
      "  File \"../projects/skimpy_blox/skimpy_blox/minecraft.py\", line 139, in approx_best_column_order\n",
      "    num_chunks=num_chunks).rle_compression_ratio()\n",
      "  File \"../projects/skimpy_blox/skimpy_blox/minecraft.py\", line 169, in from_world\n",
      "    for i, chunk in enumerate(tqdm(world.iter_chunks(), total=world.chunk_count())):\n",
      "  File \"/home/tdimson/anaconda3/envs/skimpy/lib/python3.7/site-packages/tqdm/notebook.py\", line 218, in __iter__\n",
      "    for obj in super(tqdm_notebook, self).__iter__(*args, **kwargs):\n",
      "  File \"/home/tdimson/anaconda3/envs/skimpy/lib/python3.7/site-packages/tqdm/std.py\", line 1129, in __iter__\n",
      "    for obj in iterable:\n",
      "  File \"../projects/skimpy_blox/skimpy_blox/nbt_helper/world.py\", line 207, in iter_chunks\n",
      "    yield self.chunkclass(c)\n",
      "  File \"../projects/skimpy_blox/skimpy_blox/nbt_helper/chunk.py\", line 176, in __init__\n",
      "    raise NotImplementedError('DataVersion %d not implemented' % (version, ))\n",
      "NotImplementedError: DataVersion 169 not implemented\n"
     ]
    },
    {
     "data": {
      "application/vnd.jupyter.widget-view+json": {
       "model_id": "ef1db28a3971497e94b10a683d444ff9",
       "version_major": 2,
       "version_minor": 0
      },
      "text/plain": [
       "HBox(children=(FloatProgress(value=0.0, max=43413.0), HTML(value='')))"
      ]
     },
     "metadata": {},
     "output_type": "display_data"
    },
    {
     "name": "stdout",
     "output_type": "stream",
     "text": [
      "\n"
     ]
    },
    {
     "data": {
      "application/vnd.jupyter.widget-view+json": {
       "model_id": "a091017480024a62907f569c0a447440",
       "version_major": 2,
       "version_minor": 0
      },
      "text/plain": [
       "HBox(children=(FloatProgress(value=0.0, max=43413.0), HTML(value='')))"
      ]
     },
     "metadata": {},
     "output_type": "display_data"
    },
    {
     "name": "stdout",
     "output_type": "stream",
     "text": [
      "\n"
     ]
    },
    {
     "data": {
      "application/vnd.jupyter.widget-view+json": {
       "model_id": "14b6c979c6af4072bf2526f03124c2e1",
       "version_major": 2,
       "version_minor": 0
      },
      "text/plain": [
       "HBox(children=(FloatProgress(value=0.0, max=43413.0), HTML(value='')))"
      ]
     },
     "metadata": {},
     "output_type": "display_data"
    },
    {
     "name": "stdout",
     "output_type": "stream",
     "text": [
      "\n"
     ]
    },
    {
     "data": {
      "application/vnd.jupyter.widget-view+json": {
       "model_id": "8d4944e3995b4057b574cbb178817a25",
       "version_major": 2,
       "version_minor": 0
      },
      "text/plain": [
       "HBox(children=(FloatProgress(value=0.0, max=43413.0), HTML(value='')))"
      ]
     },
     "metadata": {},
     "output_type": "display_data"
    },
    {
     "name": "stdout",
     "output_type": "stream",
     "text": [
      "\n"
     ]
    },
    {
     "data": {
      "application/vnd.jupyter.widget-view+json": {
       "model_id": "7ea10f06c41b472bb00dc2ec1c0cc2ab",
       "version_major": 2,
       "version_minor": 0
      },
      "text/plain": [
       "HBox(children=(FloatProgress(value=0.0, max=43413.0), HTML(value='')))"
      ]
     },
     "metadata": {},
     "output_type": "display_data"
    },
    {
     "name": "stdout",
     "output_type": "stream",
     "text": [
      "\n"
     ]
    },
    {
     "data": {
      "application/vnd.jupyter.widget-view+json": {
       "model_id": "1a49cfec48eb42ceafbe8723de7ae5c7",
       "version_major": 2,
       "version_minor": 0
      },
      "text/plain": [
       "HBox(children=(FloatProgress(value=0.0, max=43413.0), HTML(value='')))"
      ]
     },
     "metadata": {},
     "output_type": "display_data"
    },
    {
     "name": "stdout",
     "output_type": "stream",
     "text": [
      "\n",
      "{(0, 1, 2): 5.8386509765861945, (0, 2, 1): 5.938930840440737, (1, 0, 2): 4.061105198955637, (1, 2, 0): 5.9375686097897376, (2, 0, 1): 4.061105198955637, (2, 1, 0): 5.842583747565435}\n"
     ]
    },
    {
     "data": {
      "application/vnd.jupyter.widget-view+json": {
       "model_id": "03b01d72daf54c0a844bba7999944fbc",
       "version_major": 2,
       "version_minor": 0
      },
      "text/plain": [
       "HBox(children=(FloatProgress(value=0.0, max=43413.0), HTML(value='')))"
      ]
     },
     "metadata": {},
     "output_type": "display_data"
    },
    {
     "name": "stdout",
     "output_type": "stream",
     "text": [
      "\n",
      "Processing Jurassic Park into /mnt/evo/projects/cs348k/Minecraft Levels - 2015/Pickled/Jurassic Park.pickle.gz\n"
     ]
    },
    {
     "name": "stderr",
     "output_type": "stream",
     "text": [
      "Traceback (most recent call last):\n",
      "  File \"<ipython-input-4-268775f9415a>\", line 15, in process_folder\n",
      "    level = SkimpyMinecraftLevel.from_world_infer_order(d, num_chunks=1000)\n",
      "  File \"../projects/skimpy_blox/skimpy_blox/minecraft.py\", line 148, in from_world_infer_order\n",
      "    return cls.from_world(world_folder, column_order=best_order)\n",
      "  File \"../projects/skimpy_blox/skimpy_blox/minecraft.py\", line 169, in from_world\n",
      "    for i, chunk in enumerate(tqdm(world.iter_chunks(), total=world.chunk_count())):\n",
      "  File \"/home/tdimson/anaconda3/envs/skimpy/lib/python3.7/site-packages/tqdm/notebook.py\", line 218, in __iter__\n",
      "    for obj in super(tqdm_notebook, self).__iter__(*args, **kwargs):\n",
      "  File \"/home/tdimson/anaconda3/envs/skimpy/lib/python3.7/site-packages/tqdm/std.py\", line 1129, in __iter__\n",
      "    for obj in iterable:\n",
      "  File \"../projects/skimpy_blox/skimpy_blox/nbt_helper/world.py\", line 207, in iter_chunks\n",
      "    yield self.chunkclass(c)\n",
      "  File \"../projects/skimpy_blox/skimpy_blox/nbt_helper/chunk.py\", line 176, in __init__\n",
      "    raise NotImplementedError('DataVersion %d not implemented' % (version, ))\n",
      "NotImplementedError: DataVersion 922 not implemented\n"
     ]
    },
    {
     "data": {
      "application/vnd.jupyter.widget-view+json": {
       "model_id": "75dea74637dd421cab5e5df0eed329f2",
       "version_major": 2,
       "version_minor": 0
      },
      "text/plain": [
       "HBox(children=(FloatProgress(value=0.0, max=424652.0), HTML(value='')))"
      ]
     },
     "metadata": {},
     "output_type": "display_data"
    },
    {
     "name": "stdout",
     "output_type": "stream",
     "text": [
      "\n"
     ]
    },
    {
     "data": {
      "application/vnd.jupyter.widget-view+json": {
       "model_id": "5d867425ee104061b708daeb40819ea2",
       "version_major": 2,
       "version_minor": 0
      },
      "text/plain": [
       "HBox(children=(FloatProgress(value=0.0, max=424652.0), HTML(value='')))"
      ]
     },
     "metadata": {},
     "output_type": "display_data"
    },
    {
     "name": "stdout",
     "output_type": "stream",
     "text": [
      "\n"
     ]
    },
    {
     "data": {
      "application/vnd.jupyter.widget-view+json": {
       "model_id": "9be14b062a5042e4ab9f9e023d5e6316",
       "version_major": 2,
       "version_minor": 0
      },
      "text/plain": [
       "HBox(children=(FloatProgress(value=0.0, max=424652.0), HTML(value='')))"
      ]
     },
     "metadata": {},
     "output_type": "display_data"
    },
    {
     "name": "stdout",
     "output_type": "stream",
     "text": [
      "\n"
     ]
    },
    {
     "data": {
      "application/vnd.jupyter.widget-view+json": {
       "model_id": "0417eeb351694f949f08d2202bfe3931",
       "version_major": 2,
       "version_minor": 0
      },
      "text/plain": [
       "HBox(children=(FloatProgress(value=0.0, max=424652.0), HTML(value='')))"
      ]
     },
     "metadata": {},
     "output_type": "display_data"
    },
    {
     "name": "stdout",
     "output_type": "stream",
     "text": [
      "\n"
     ]
    },
    {
     "data": {
      "application/vnd.jupyter.widget-view+json": {
       "model_id": "72c95cff93684f7ab9d6388b7ecd5941",
       "version_major": 2,
       "version_minor": 0
      },
      "text/plain": [
       "HBox(children=(FloatProgress(value=0.0, max=424652.0), HTML(value='')))"
      ]
     },
     "metadata": {},
     "output_type": "display_data"
    },
    {
     "name": "stdout",
     "output_type": "stream",
     "text": [
      "\n"
     ]
    },
    {
     "data": {
      "application/vnd.jupyter.widget-view+json": {
       "model_id": "adf6447cdf8d4622ba32e8d2a8fb161c",
       "version_major": 2,
       "version_minor": 0
      },
      "text/plain": [
       "HBox(children=(FloatProgress(value=0.0, max=424652.0), HTML(value='')))"
      ]
     },
     "metadata": {},
     "output_type": "display_data"
    },
    {
     "name": "stdout",
     "output_type": "stream",
     "text": [
      "\n",
      "{(0, 1, 2): 12.563973970243381, (0, 2, 1): 13.774919960181872, (1, 0, 2): 4.732458937599941, (1, 2, 0): 12.84274225155596, (2, 0, 1): 4.732458937599941, (2, 1, 0): 11.78555808760905}\n"
     ]
    },
    {
     "data": {
      "application/vnd.jupyter.widget-view+json": {
       "model_id": "0fc41264f32148ea96c5329463f83967",
       "version_major": 2,
       "version_minor": 0
      },
      "text/plain": [
       "HBox(children=(FloatProgress(value=0.0, max=424652.0), HTML(value='')))"
      ]
     },
     "metadata": {},
     "output_type": "display_data"
    },
    {
     "name": "stdout",
     "output_type": "stream",
     "text": [
      "\n"
     ]
    },
    {
     "data": {
      "application/vnd.jupyter.widget-view+json": {
       "model_id": "eeb1163b86344ffb92f058ffcfd65757",
       "version_major": 2,
       "version_minor": 0
      },
      "text/plain": [
       "HBox(children=(FloatProgress(value=0.0, max=424652.0), HTML(value='')))"
      ]
     },
     "metadata": {},
     "output_type": "display_data"
    },
    {
     "name": "stdout",
     "output_type": "stream",
     "text": [
      "\n",
      "Finished Jurassic Park in 23831.303693532944s - compression ratio 10.619488974521731\n",
      "Skipping /mnt/evo/projects/cs348k/Minecraft Levels - 2015/Pickled/Hydra Vanilla Mod Pack.pickle.gz since it already exists\n",
      "Skipping /mnt/evo/projects/cs348k/Minecraft Levels - 2015/Pickled/Heist v1.4b.pickle.gz since it already exists\n",
      "Skipping /mnt/evo/projects/cs348k/Minecraft Levels - 2015/Pickled/PvP Arena.pickle.gz since it already exists\n",
      "Skipping /mnt/evo/projects/cs348k/Minecraft Levels - 2015/Pickled/Traditional mansion jarrah{jar9}.pickle.gz since it already exists\n",
      "Skipping /mnt/evo/projects/cs348k/Minecraft Levels - 2015/Pickled/Isles Of Arqualis.pickle.gz since it already exists\n",
      "Skipping /mnt/evo/projects/cs348k/Minecraft Levels - 2015/Pickled/Piston House II(ByEuclides).pickle.gz since it already exists\n",
      "Skipping /mnt/evo/projects/cs348k/Minecraft Levels - 2015/Pickled/StrandedRaft.pickle.gz since it already exists\n",
      "Skipping /mnt/evo/projects/cs348k/Minecraft Levels - 2015/Pickled/Modern House.pickle.gz since it already exists\n",
      "Skipping /mnt/evo/projects/cs348k/Minecraft Levels - 2015/Pickled/Union Islands.pickle.gz since it already exists\n",
      "Skipping /mnt/evo/projects/cs348k/Minecraft Levels - 2015/Pickled/Piston House III(ByEuclides).pickle.gz since it already exists\n",
      "Processing Modern Redstone Smart House 2.0 into /mnt/evo/projects/cs348k/Minecraft Levels - 2015/Pickled/Modern Redstone Smart House 2.0.pickle.gz\n"
     ]
    },
    {
     "data": {
      "application/vnd.jupyter.widget-view+json": {
       "model_id": "01316c06103c46668e1dff99b1a6e04e",
       "version_major": 2,
       "version_minor": 0
      },
      "text/plain": [
       "HBox(children=(FloatProgress(value=0.0, max=5260.0), HTML(value='')))"
      ]
     },
     "metadata": {},
     "output_type": "display_data"
    },
    {
     "name": "stdout",
     "output_type": "stream",
     "text": [
      "\n",
      "Skipping /mnt/evo/projects/cs348k/Minecraft Levels - 2015/Pickled/YandereSim(Better).pickle.gz since it already exists\n",
      "Skipping /mnt/evo/projects/cs348k/Minecraft Levels - 2015/Pickled/TomorrowLand-V0.2.pickle.gz since it already exists\n",
      "Skipping /mnt/evo/projects/cs348k/Minecraft Levels - 2015/Pickled/Spiderman by McMakistein.pickle.gz since it already exists\n",
      "Skipping /mnt/evo/projects/cs348k/Minecraft Levels - 2015/Pickled/ZeSpawn.pickle.gz since it already exists\n",
      "Skipping /mnt/evo/projects/cs348k/Minecraft Levels - 2015/Pickled/Steven Universe.pickle.gz since it already exists\n",
      "Skipping /mnt/evo/projects/cs348k/Minecraft Levels - 2015/Pickled/mapppp.pickle.gz since it already exists\n",
      "Processing The Aether into /mnt/evo/projects/cs348k/Minecraft Levels - 2015/Pickled/The Aether.pickle.gz\n"
     ]
    },
    {
     "name": "stderr",
     "output_type": "stream",
     "text": [
      "Traceback (most recent call last):\n",
      "  File \"<ipython-input-4-268775f9415a>\", line 15, in process_folder\n",
      "    level = SkimpyMinecraftLevel.from_world_infer_order(d, num_chunks=1000)\n",
      "  File \"../projects/skimpy_blox/skimpy_blox/minecraft.py\", line 146, in from_world_infer_order\n",
      "    best_order, stats = cls.approx_best_column_order(world_folder, num_chunks)\n",
      "  File \"../projects/skimpy_blox/skimpy_blox/minecraft.py\", line 139, in approx_best_column_order\n",
      "    num_chunks=num_chunks).rle_compression_ratio()\n",
      "  File \"../projects/skimpy_blox/skimpy_blox/minecraft.py\", line 169, in from_world\n",
      "    for i, chunk in enumerate(tqdm(world.iter_chunks(), total=world.chunk_count())):\n",
      "  File \"/home/tdimson/anaconda3/envs/skimpy/lib/python3.7/site-packages/tqdm/notebook.py\", line 218, in __iter__\n",
      "    for obj in super(tqdm_notebook, self).__iter__(*args, **kwargs):\n",
      "  File \"/home/tdimson/anaconda3/envs/skimpy/lib/python3.7/site-packages/tqdm/std.py\", line 1129, in __iter__\n",
      "    for obj in iterable:\n",
      "  File \"../projects/skimpy_blox/skimpy_blox/nbt_helper/world.py\", line 207, in iter_chunks\n",
      "    yield self.chunkclass(c)\n",
      "  File \"../projects/skimpy_blox/skimpy_blox/nbt_helper/chunk.py\", line 176, in __init__\n",
      "    raise NotImplementedError('DataVersion %d not implemented' % (version, ))\n",
      "NotImplementedError: DataVersion 512 not implemented\n"
     ]
    },
    {
     "data": {
      "application/vnd.jupyter.widget-view+json": {
       "model_id": "a094ad23a9444aa4bab63bbc1e9540fe",
       "version_major": 2,
       "version_minor": 0
      },
      "text/plain": [
       "HBox(children=(FloatProgress(value=0.0, max=16223.0), HTML(value='')))"
      ]
     },
     "metadata": {},
     "output_type": "display_data"
    },
    {
     "name": "stdout",
     "output_type": "stream",
     "text": [
      "\n",
      "Processing Witchcraft and Wizardry into /mnt/evo/projects/cs348k/Minecraft Levels - 2015/Pickled/Witchcraft and Wizardry.pickle.gz\n"
     ]
    },
    {
     "name": "stderr",
     "output_type": "stream",
     "text": [
      "Traceback (most recent call last):\n",
      "  File \"<ipython-input-4-268775f9415a>\", line 15, in process_folder\n",
      "    level = SkimpyMinecraftLevel.from_world_infer_order(d, num_chunks=1000)\n",
      "  File \"../projects/skimpy_blox/skimpy_blox/minecraft.py\", line 146, in from_world_infer_order\n",
      "    best_order, stats = cls.approx_best_column_order(world_folder, num_chunks)\n",
      "  File \"../projects/skimpy_blox/skimpy_blox/minecraft.py\", line 139, in approx_best_column_order\n",
      "    num_chunks=num_chunks).rle_compression_ratio()\n",
      "  File \"../projects/skimpy_blox/skimpy_blox/minecraft.py\", line 169, in from_world\n",
      "    for i, chunk in enumerate(tqdm(world.iter_chunks(), total=world.chunk_count())):\n",
      "  File \"/home/tdimson/anaconda3/envs/skimpy/lib/python3.7/site-packages/tqdm/notebook.py\", line 218, in __iter__\n",
      "    for obj in super(tqdm_notebook, self).__iter__(*args, **kwargs):\n",
      "  File \"/home/tdimson/anaconda3/envs/skimpy/lib/python3.7/site-packages/tqdm/std.py\", line 1129, in __iter__\n",
      "    for obj in iterable:\n",
      "  File \"../projects/skimpy_blox/skimpy_blox/nbt_helper/world.py\", line 207, in iter_chunks\n",
      "    yield self.chunkclass(c)\n",
      "  File \"../projects/skimpy_blox/skimpy_blox/nbt_helper/chunk.py\", line 176, in __init__\n",
      "    raise NotImplementedError('DataVersion %d not implemented' % (version, ))\n",
      "NotImplementedError: DataVersion 112 not implemented\n"
     ]
    },
    {
     "data": {
      "application/vnd.jupyter.widget-view+json": {
       "model_id": "1a1ab74dc23e443dacca239a5319f433",
       "version_major": 2,
       "version_minor": 0
      },
      "text/plain": [
       "HBox(children=(FloatProgress(value=0.0, max=177063.0), HTML(value='')))"
      ]
     },
     "metadata": {},
     "output_type": "display_data"
    },
    {
     "name": "stdout",
     "output_type": "stream",
     "text": [
      "\n"
     ]
    },
    {
     "data": {
      "application/vnd.jupyter.widget-view+json": {
       "model_id": "7735b6a2adfb4f1d8b0488bd67188786",
       "version_major": 2,
       "version_minor": 0
      },
      "text/plain": [
       "HBox(children=(FloatProgress(value=0.0, max=177063.0), HTML(value='')))"
      ]
     },
     "metadata": {},
     "output_type": "display_data"
    },
    {
     "name": "stdout",
     "output_type": "stream",
     "text": [
      "\n"
     ]
    },
    {
     "data": {
      "application/vnd.jupyter.widget-view+json": {
       "model_id": "3701a0c88776462d800f8c9d0845668f",
       "version_major": 2,
       "version_minor": 0
      },
      "text/plain": [
       "HBox(children=(FloatProgress(value=0.0, max=177063.0), HTML(value='')))"
      ]
     },
     "metadata": {},
     "output_type": "display_data"
    },
    {
     "name": "stdout",
     "output_type": "stream",
     "text": [
      "\n"
     ]
    },
    {
     "data": {
      "application/vnd.jupyter.widget-view+json": {
       "model_id": "dcaa3af2010f431e95e6eb68464919a3",
       "version_major": 2,
       "version_minor": 0
      },
      "text/plain": [
       "HBox(children=(FloatProgress(value=0.0, max=177063.0), HTML(value='')))"
      ]
     },
     "metadata": {},
     "output_type": "display_data"
    },
    {
     "name": "stdout",
     "output_type": "stream",
     "text": [
      "\n"
     ]
    },
    {
     "data": {
      "application/vnd.jupyter.widget-view+json": {
       "model_id": "a660e2327e6b42a395da2caf3f4f4547",
       "version_major": 2,
       "version_minor": 0
      },
      "text/plain": [
       "HBox(children=(FloatProgress(value=0.0, max=177063.0), HTML(value='')))"
      ]
     },
     "metadata": {},
     "output_type": "display_data"
    },
    {
     "name": "stdout",
     "output_type": "stream",
     "text": [
      "\n"
     ]
    },
    {
     "data": {
      "application/vnd.jupyter.widget-view+json": {
       "model_id": "8e20721c108f4b9a8ab36bc6c5468942",
       "version_major": 2,
       "version_minor": 0
      },
      "text/plain": [
       "HBox(children=(FloatProgress(value=0.0, max=177063.0), HTML(value='')))"
      ]
     },
     "metadata": {},
     "output_type": "display_data"
    },
    {
     "name": "stdout",
     "output_type": "stream",
     "text": [
      "\n",
      "{(0, 1, 2): 2048.0, (0, 2, 1): 2048.0, (1, 0, 2): 2048.0, (1, 2, 0): 2048.0, (2, 0, 1): 2048.0, (2, 1, 0): 2048.0}\n"
     ]
    },
    {
     "data": {
      "application/vnd.jupyter.widget-view+json": {
       "model_id": "f9771943508a462fbf5877300c960191",
       "version_major": 2,
       "version_minor": 0
      },
      "text/plain": [
       "HBox(children=(FloatProgress(value=0.0, max=177063.0), HTML(value='')))"
      ]
     },
     "metadata": {},
     "output_type": "display_data"
    },
    {
     "name": "stdout",
     "output_type": "stream",
     "text": [
      "\n",
      "Skipping /mnt/evo/projects/cs348k/Minecraft Levels - 2015/Pickled/SGC 3.0 BY West build Team.pickle.gz since it already exists\n",
      "Processing GTA 5 into /mnt/evo/projects/cs348k/Minecraft Levels - 2015/Pickled/GTA 5.pickle.gz\n"
     ]
    },
    {
     "name": "stderr",
     "output_type": "stream",
     "text": [
      "Traceback (most recent call last):\n",
      "  File \"<ipython-input-4-268775f9415a>\", line 15, in process_folder\n",
      "    level = SkimpyMinecraftLevel.from_world_infer_order(d, num_chunks=1000)\n",
      "  File \"../projects/skimpy_blox/skimpy_blox/minecraft.py\", line 148, in from_world_infer_order\n",
      "    return cls.from_world(world_folder, column_order=best_order)\n",
      "  File \"../projects/skimpy_blox/skimpy_blox/minecraft.py\", line 185, in from_world\n",
      "    chunk_list.append(cls.chunk_to_skimpy((x, y, z), chunk, column_order=column_order))\n",
      "  File \"../projects/skimpy_blox/skimpy_blox/minecraft.py\", line 259, in chunk_to_skimpy\n",
      "    numpy_chunk = cls.chunk_to_numpy(coord, chunk, column_order)\n",
      "  File \"../projects/skimpy_blox/skimpy_blox/minecraft.py\", line 253, in chunk_to_numpy\n",
      "    arr[cls._xyz_to_numpy_col((x, y, z), column_order)] = block_int_id\n",
      "ValueError: invalid literal for int() with base 10: 'air'\n"
     ]
    },
    {
     "data": {
      "application/vnd.jupyter.widget-view+json": {
       "model_id": "60d2e059c1454f5ea2fef560e15311e8",
       "version_major": 2,
       "version_minor": 0
      },
      "text/plain": [
       "HBox(children=(FloatProgress(value=0.0, max=428288.0), HTML(value='')))"
      ]
     },
     "metadata": {},
     "output_type": "display_data"
    },
    {
     "name": "stdout",
     "output_type": "stream",
     "text": [
      "\n",
      "Processing worldX into /mnt/evo/projects/cs348k/Minecraft Levels - 2015/Pickled/worldX.pickle.gz\n"
     ]
    },
    {
     "name": "stderr",
     "output_type": "stream",
     "text": [
      "Traceback (most recent call last):\n",
      "  File \"<ipython-input-4-268775f9415a>\", line 15, in process_folder\n",
      "    level = SkimpyMinecraftLevel.from_world_infer_order(d, num_chunks=1000)\n",
      "  File \"../projects/skimpy_blox/skimpy_blox/minecraft.py\", line 146, in from_world_infer_order\n",
      "    best_order, stats = cls.approx_best_column_order(world_folder, num_chunks)\n",
      "  File \"../projects/skimpy_blox/skimpy_blox/minecraft.py\", line 139, in approx_best_column_order\n",
      "    num_chunks=num_chunks).rle_compression_ratio()\n",
      "  File \"../projects/skimpy_blox/skimpy_blox/minecraft.py\", line 169, in from_world\n",
      "    for i, chunk in enumerate(tqdm(world.iter_chunks(), total=world.chunk_count())):\n",
      "  File \"/home/tdimson/anaconda3/envs/skimpy/lib/python3.7/site-packages/tqdm/notebook.py\", line 218, in __iter__\n",
      "    for obj in super(tqdm_notebook, self).__iter__(*args, **kwargs):\n",
      "  File \"/home/tdimson/anaconda3/envs/skimpy/lib/python3.7/site-packages/tqdm/std.py\", line 1129, in __iter__\n",
      "    for obj in iterable:\n",
      "  File \"../projects/skimpy_blox/skimpy_blox/nbt_helper/world.py\", line 207, in iter_chunks\n",
      "    yield self.chunkclass(c)\n",
      "  File \"../projects/skimpy_blox/skimpy_blox/nbt_helper/chunk.py\", line 176, in __init__\n",
      "    raise NotImplementedError('DataVersion %d not implemented' % (version, ))\n",
      "NotImplementedError: DataVersion 169 not implemented\n"
     ]
    },
    {
     "data": {
      "application/vnd.jupyter.widget-view+json": {
       "model_id": "f3b5b9d4090e4dbbb521a83b34a7b5cf",
       "version_major": 2,
       "version_minor": 0
      },
      "text/plain": [
       "HBox(children=(FloatProgress(value=0.0, max=262793.0), HTML(value='')))"
      ]
     },
     "metadata": {},
     "output_type": "display_data"
    },
    {
     "name": "stdout",
     "output_type": "stream",
     "text": [
      "\n"
     ]
    },
    {
     "data": {
      "application/vnd.jupyter.widget-view+json": {
       "model_id": "63b8175809934175abb1ce6d7299af69",
       "version_major": 2,
       "version_minor": 0
      },
      "text/plain": [
       "HBox(children=(FloatProgress(value=0.0, max=262793.0), HTML(value='')))"
      ]
     },
     "metadata": {},
     "output_type": "display_data"
    },
    {
     "name": "stdout",
     "output_type": "stream",
     "text": [
      "\n"
     ]
    },
    {
     "data": {
      "application/vnd.jupyter.widget-view+json": {
       "model_id": "869c85ec671f4526a66e6503b1791ebb",
       "version_major": 2,
       "version_minor": 0
      },
      "text/plain": [
       "HBox(children=(FloatProgress(value=0.0, max=262793.0), HTML(value='')))"
      ]
     },
     "metadata": {},
     "output_type": "display_data"
    },
    {
     "name": "stdout",
     "output_type": "stream",
     "text": [
      "\n"
     ]
    },
    {
     "data": {
      "application/vnd.jupyter.widget-view+json": {
       "model_id": "290858b2c7ef4cd89d6801072d9208c5",
       "version_major": 2,
       "version_minor": 0
      },
      "text/plain": [
       "HBox(children=(FloatProgress(value=0.0, max=262793.0), HTML(value='')))"
      ]
     },
     "metadata": {},
     "output_type": "display_data"
    },
    {
     "name": "stdout",
     "output_type": "stream",
     "text": [
      "\n"
     ]
    },
    {
     "data": {
      "application/vnd.jupyter.widget-view+json": {
       "model_id": "1a5ea68f395d41c1a32a092278d14ca9",
       "version_major": 2,
       "version_minor": 0
      },
      "text/plain": [
       "HBox(children=(FloatProgress(value=0.0, max=262793.0), HTML(value='')))"
      ]
     },
     "metadata": {},
     "output_type": "display_data"
    },
    {
     "name": "stdout",
     "output_type": "stream",
     "text": [
      "\n"
     ]
    },
    {
     "data": {
      "application/vnd.jupyter.widget-view+json": {
       "model_id": "982b691257674dfa9f749f8c2d8c8a4e",
       "version_major": 2,
       "version_minor": 0
      },
      "text/plain": [
       "HBox(children=(FloatProgress(value=0.0, max=262793.0), HTML(value='')))"
      ]
     },
     "metadata": {},
     "output_type": "display_data"
    },
    {
     "name": "stdout",
     "output_type": "stream",
     "text": [
      "\n",
      "{(0, 1, 2): 15.04228807303736, (0, 2, 1): 16.477559583314058, (1, 0, 2): 5.799017876293754, (1, 2, 0): 15.580246256138336, (2, 0, 1): 5.799017876293754, (2, 1, 0): 14.275358278034908}\n"
     ]
    },
    {
     "data": {
      "application/vnd.jupyter.widget-view+json": {
       "model_id": "ad8c54afe28e46109ca0adf7bd52efed",
       "version_major": 2,
       "version_minor": 0
      },
      "text/plain": [
       "HBox(children=(FloatProgress(value=0.0, max=262793.0), HTML(value='')))"
      ]
     },
     "metadata": {},
     "output_type": "display_data"
    },
    {
     "name": "stdout",
     "output_type": "stream",
     "text": [
      "\n"
     ]
    },
    {
     "data": {
      "application/vnd.jupyter.widget-view+json": {
       "model_id": "01ef80b7eeed400cb30805dd404daea3",
       "version_major": 2,
       "version_minor": 0
      },
      "text/plain": [
       "HBox(children=(FloatProgress(value=0.0, max=262793.0), HTML(value='')))"
      ]
     },
     "metadata": {},
     "output_type": "display_data"
    },
    {
     "name": "stdout",
     "output_type": "stream",
     "text": [
      "\n",
      "Finished worldX in 14418.652968645096s - compression ratio 14.057987639352538\n"
     ]
    }
   ],
   "source": [
    "process_folder(\n",
    "    \"/mnt/evo/projects/cs348k/Minecraft Levels - 2015/Uncompressed\", \n",
    "    \"/mnt/evo/projects/cs348k/Minecraft Levels - 2015/Pickled\"\n",
    ")"
   ]
  },
  {
   "cell_type": "code",
   "execution_count": null,
   "metadata": {},
   "outputs": [],
   "source": [
    "level = SkimpyMinecraftLevel.from_world(\"/home/tdimson/Downloads/Vanillaburp's Dinner Party\")"
   ]
  },
  {
   "cell_type": "code",
   "execution_count": null,
   "metadata": {},
   "outputs": [],
   "source": [
    "level.dump(\"/home/tdimson/Downloads/vanillaburb.pickle.gz\")"
   ]
  },
  {
   "cell_type": "code",
   "execution_count": null,
   "metadata": {},
   "outputs": [],
   "source": []
  }
 ],
 "metadata": {
  "kernelspec": {
   "display_name": "Python 3",
   "language": "python",
   "name": "python3"
  },
  "language_info": {
   "codemirror_mode": {
    "name": "ipython",
    "version": 3
   },
   "file_extension": ".py",
   "mimetype": "text/x-python",
   "name": "python",
   "nbconvert_exporter": "python",
   "pygments_lexer": "ipython3",
   "version": "3.7.6"
  }
 },
 "nbformat": 4,
 "nbformat_minor": 4
}
