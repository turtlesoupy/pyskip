{
 "cells": [
  {
   "cell_type": "code",
   "execution_count": null,
   "metadata": {},
   "outputs": [],
   "source": [
    "import matplotlib.pyplot as plt\n",
    "import numpy as np\n",
    "import pyskip"
   ]
  },
  {
   "cell_type": "code",
   "execution_count": null,
   "metadata": {},
   "outputs": [],
   "source": [
    "%%time\n",
    "D = 1024\n",
    "R = D // 4\n",
    "disc  = pyskip.Tensor((D, D), 0)\n",
    "for y in range(D):\n",
    "    discriminant = R**2 - (y - D // 2 + 0.5)**2\n",
    "    if discriminant < 0:\n",
    "        continue\n",
    "    x_0 = int(D // 2 - 0.5 - discriminant**0.5)\n",
    "    x_1 = int(D // 2 - 0.5 + discriminant**0.5)  \n",
    "    disc[x_0:x_1, y] = 1"
   ]
  },
  {
   "cell_type": "code",
   "execution_count": null,
   "metadata": {},
   "outputs": [],
   "source": [
    "plt.imshow(disc.to_numpy())"
   ]
  },
  {
   "cell_type": "code",
   "execution_count": null,
   "metadata": {},
   "outputs": [],
   "source": [
    "%%timeit\n",
    "conv_disc = disc[D // 4:-D // 4, D // 4:-D // 4].eval()"
   ]
  },
  {
   "cell_type": "code",
   "execution_count": null,
   "metadata": {},
   "outputs": [],
   "source": [
    "plt.imshow(disc[D // 4:-D // 4, D // 4:-D // 4].to_numpy())"
   ]
  },
  {
   "cell_type": "code",
   "execution_count": null,
   "metadata": {},
   "outputs": [],
   "source": [
    "def conv_2d(tensor, kernel, padding=0, fill=0):\n",
    "    pad_shape = (\n",
    "      tensor.shape[0] + 2 * padding,\n",
    "      tensor.shape[1] + 2 * padding,\n",
    "    )\n",
    "    pad = pyskip.Tensor(shape=pad_shape, dtype=tensor.dtype, val=fill)\n",
    "    pad[padding:-padding, padding:-padding] = tensor\n",
    "    \n",
    "    out_shape = (\n",
    "      pad_shape[0] - kernel.shape[0] + 1,\n",
    "      pad_shape[1] - kernel.shape[1] + 1,\n",
    "    )\n",
    "    out = pyskip.Tensor(shape=out_shape, dtype=tensor.dtype, val=0)\n",
    "    for y in range(kernel.shape[1]):\n",
    "        for x in range(kernel.shape[0]):\n",
    "            stop_x = pad_shape[0] - kernel.shape[0] + x + 1\n",
    "            stop_y = pad_shape[1] - kernel.shape[1] + y + 1\n",
    "            out += kernel[x, y] * pad[x:stop_x, y:stop_y]\n",
    "    return out"
   ]
  },
  {
   "cell_type": "code",
   "execution_count": null,
   "metadata": {},
   "outputs": [],
   "source": [
    "%%time \n",
    "\n",
    "edges = conv_2d(\n",
    "    tensor=disc,\n",
    "    kernel = pyskip.Tensor.from_list([\n",
    "        [-1, 0, 1],\n",
    "        [-2, 0, 2],\n",
    "        [-1, 0, 1],\n",
    "    ]),\n",
    "    padding=1,\n",
    ").eval()"
   ]
  },
  {
   "cell_type": "code",
   "execution_count": null,
   "metadata": {},
   "outputs": [],
   "source": [
    "plt.imshow(np.abs(edges.to_numpy()))"
   ]
  },
  {
   "cell_type": "code",
   "execution_count": null,
   "metadata": {},
   "outputs": [],
   "source": [
    "from scipy.signal import convolve2d"
   ]
  },
  {
   "cell_type": "code",
   "execution_count": null,
   "metadata": {},
   "outputs": [],
   "source": [
    "disc_np = disc.to_numpy()"
   ]
  },
  {
   "cell_type": "code",
   "execution_count": null,
   "metadata": {},
   "outputs": [],
   "source": [
    "%%time \n",
    "\n",
    "edges_np = convolve2d(\n",
    "    disc_np, \n",
    "    np.array([\n",
    "        [-1, 0, 1],\n",
    "        [-2, 0, 2],\n",
    "        [-1, 0, 1],\n",
    "    ]),\n",
    ")"
   ]
  },
  {
   "cell_type": "code",
   "execution_count": null,
   "metadata": {},
   "outputs": [],
   "source": [
    "plt.imshow(np.abs(edges_np))"
   ]
  },
  {
   "cell_type": "code",
   "execution_count": null,
   "metadata": {},
   "outputs": [],
   "source": [
    "def gaussian_kernel(size=3, std=1.0):\n",
    "    \"\"\"Returns a 2D Gaussian kernel array.\"\"\"\n",
    "    K = signal.gaussian(size, std=std).reshape(size, 1)\n",
    "    return np.outer(K, K)"
   ]
  }
 ],
 "metadata": {
  "kernelspec": {
   "display_name": "Python 3",
   "language": "python",
   "name": "python3"
  },
  "language_info": {
   "codemirror_mode": {
    "name": "ipython",
    "version": 3
   },
   "file_extension": ".py",
   "mimetype": "text/x-python",
   "name": "python",
   "nbconvert_exporter": "python",
   "pygments_lexer": "ipython3",
   "version": "3.7.6"
  }
 },
 "nbformat": 4,
 "nbformat_minor": 4
}
