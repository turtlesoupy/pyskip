{
 "cells": [
  {
   "cell_type": "code",
   "execution_count": 4,
   "metadata": {},
   "outputs": [],
   "source": [
    "import numpy as np\n",
    "import pyskip"
   ]
  },
  {
   "cell_type": "code",
   "execution_count": 35,
   "metadata": {},
   "outputs": [],
   "source": [
    "def transpose(mat):\n",
    "    if len(mat) <= 1024 * 1024:\n",
    "        return pyskip.Tensor.from_numpy(mat.to_numpy().transpose())\n",
    "    cols, rows = mat.shape\n",
    "    assert cols & (cols - 1) == 0\n",
    "    assert rows & (rows - 1) == 0\n",
    "    sub_11 = transpose(mat[:cols // 2, :rows // 2])\n",
    "    sub_12 = transpose(mat[:cols // 2, rows // 2:])\n",
    "    sub_21 = transpose(mat[cols // 2:, :rows // 2])\n",
    "    sub_22 = transpose(mat[cols // 2:, rows // 2:])\n",
    "\n",
    "    ret = pyskip.Tensor(shape=(cols, rows), dtype=mat.dtype)\n",
    "    ret[:cols // 2, :rows // 2] = sub_11\n",
    "    ret[:cols // 2, rows // 2:] = sub_21\n",
    "    ret[cols // 2:, :rows // 2] = sub_12\n",
    "    ret[cols // 2:, rows // 2:] = sub_22\n",
    "    return ret"
   ]
  },
  {
   "cell_type": "code",
   "execution_count": 36,
   "metadata": {},
   "outputs": [],
   "source": [
    "x = pyskip.Tensor.from_numpy(\n",
    "    np.arange(4096 * 4096).reshape(4096, 4096)\n",
    ")"
   ]
  },
  {
   "cell_type": "code",
   "execution_count": 37,
   "metadata": {},
   "outputs": [
    {
     "name": "stdout",
     "output_type": "stream",
     "text": [
      "Wall time: 875 ms\n"
     ]
    }
   ],
   "source": [
    "%%time\n",
    "\n",
    "y = transpose(x)"
   ]
  },
  {
   "cell_type": "code",
   "execution_count": 42,
   "metadata": {},
   "outputs": [
    {
     "name": "stdout",
     "output_type": "stream",
     "text": [
      "Wall time: 107 ms\n"
     ]
    }
   ],
   "source": [
    "%%time\n",
    "\n",
    "mat = x.clone()\n",
    "cols, rows = mat.shape\n",
    "\n",
    "sub_11 = (2 * mat[:cols // 2, :rows // 2]).eval()\n",
    "sub_12 = (2 * mat[:cols // 2, rows // 2:]).eval()\n",
    "sub_21 = (2 * mat[cols // 2:, :rows // 2]).eval()\n",
    "sub_22 = (2 * mat[cols // 2:, rows // 2:]).eval()\n",
    "\n",
    "ret = pyskip.Tensor(shape=(cols, rows), dtype=mat.dtype)\n",
    "ret[:cols // 2, :rows // 2] = sub_11\n",
    "ret[:cols // 2, rows // 2:] = sub_21\n",
    "ret[cols // 2:, :rows // 2] = sub_12\n",
    "ret[cols // 2:, rows // 2:] = sub_22"
   ]
  },
  {
   "cell_type": "code",
   "execution_count": 44,
   "metadata": {},
   "outputs": [
    {
     "name": "stdout",
     "output_type": "stream",
     "text": [
      "Wall time: 82 ms\n"
     ]
    }
   ],
   "source": [
    "%%time\n",
    "mat_2 = mat.clone().eval()"
   ]
  },
  {
   "cell_type": "code",
   "execution_count": null,
   "metadata": {},
   "outputs": [],
   "source": []
  }
 ],
 "metadata": {
  "kernelspec": {
   "display_name": "Python 3",
   "language": "python",
   "name": "python3"
  },
  "language_info": {
   "codemirror_mode": {
    "name": "ipython",
    "version": 3
   },
   "file_extension": ".py",
   "mimetype": "text/x-python",
   "name": "python",
   "nbconvert_exporter": "python",
   "pygments_lexer": "ipython3",
   "version": "3.7.0"
  }
 },
 "nbformat": 4,
 "nbformat_minor": 4
}
