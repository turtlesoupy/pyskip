{
 "cells": [
  {
   "cell_type": "code",
   "execution_count": null,
   "metadata": {},
   "outputs": [],
   "source": [
    "import matplotlib.pyplot as plt\n",
    "import numpy as np\n",
    "import _skimpy_bench_cpp_ext.memory"
   ]
  },
  {
   "cell_type": "code",
   "execution_count": null,
   "metadata": {},
   "outputs": [],
   "source": [
    "%%time \n",
    "results = {}\n",
    "for threads in range(1, 16):\n",
    "    results[threads] = []\n",
    "    for _ in range(100):\n",
    "        results[threads].append(\n",
    "            _skimpy_bench_cpp_ext.memory.no_simd_int_sum(1000 * 1000, 8, threads)\n",
    "        )\n",
    "        \n",
    "mean_results = {\n",
    "    i: np.mean(samples) for i, samples in results.items()\n",
    "}\n",
    "time_series = np.array([mean_results[i] for i in range(1, 16)])"
   ]
  },
  {
   "cell_type": "code",
   "execution_count": null,
   "metadata": {},
   "outputs": [],
   "source": [
    "numerator = 1 / 31.25\n",
    "gb_per_s = numerator / (np.array(time_series) / 1000 / 1000)"
   ]
  },
  {
   "cell_type": "code",
   "execution_count": null,
   "metadata": {},
   "outputs": [],
   "source": [
    "plt.plot(gb_per_s)"
   ]
  }
 ],
 "metadata": {
  "kernelspec": {
   "display_name": "Python 3",
   "language": "python",
   "name": "python3"
  },
  "language_info": {
   "codemirror_mode": {
    "name": "ipython",
    "version": 3
   },
   "file_extension": ".py",
   "mimetype": "text/x-python",
   "name": "python",
   "nbconvert_exporter": "python",
   "pygments_lexer": "ipython3",
   "version": "3.7.0"
  }
 },
 "nbformat": 4,
 "nbformat_minor": 4
}
