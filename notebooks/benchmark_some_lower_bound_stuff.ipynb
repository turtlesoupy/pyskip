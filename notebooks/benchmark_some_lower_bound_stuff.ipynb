{
 "cells": [
  {
   "cell_type": "code",
   "execution_count": 7,
   "metadata": {},
   "outputs": [],
   "source": [
    "import functools \n",
    "import operator\n",
    "import matplotlib.pyplot as plt\n",
    "import numpy as np\n",
    "import _pyskip_bench_cpp_ext.memory\n",
    "import pyskip"
   ]
  },
  {
   "cell_type": "code",
   "execution_count": null,
   "metadata": {},
   "outputs": [],
   "source": [
    "%%time \n",
    "results = {}\n",
    "for threads in range(1, 16):\n",
    "    results[threads] = []\n",
    "    for _ in range(100):\n",
    "        results[threads].append(\n",
    "            _pyskip_bench_cpp_ext.memory.no_simd_int_sum(1000 * 1000, 8, threads)\n",
    "        )\n",
    "        \n",
    "mean_results = {\n",
    "    i: np.mean(samples) for i, samples in results.items()\n",
    "}\n",
    "time_series = np.array([mean_results[i] for i in range(1, 16)])"
   ]
  },
  {
   "cell_type": "code",
   "execution_count": null,
   "metadata": {},
   "outputs": [],
   "source": [
    "numerator = 1 / 31.25\n",
    "gb_per_s = numerator / (np.array(time_series) / 1000 / 1000)"
   ]
  },
  {
   "cell_type": "code",
   "execution_count": null,
   "metadata": {},
   "outputs": [],
   "source": [
    "plt.plot(gb_per_s)"
   ]
  },
  {
   "cell_type": "code",
   "execution_count": 20,
   "metadata": {},
   "outputs": [],
   "source": [
    "from pyskip.config import config_scope, set_value, lazy_evaluation_scope"
   ]
  },
  {
   "cell_type": "code",
   "execution_count": 21,
   "metadata": {},
   "outputs": [],
   "source": [
    "k = 10\n",
    "\n",
    "tensors = []\n",
    "for i in range(1, k + 1):\n",
    "    t = pyskip.Tensor(shape=k * 1000000, val=0)\n",
    "    t[::i] = i\n",
    "    tensors.append(t.eval())"
   ]
  },
  {
   "cell_type": "code",
   "execution_count": 23,
   "metadata": {},
   "outputs": [
    {
     "name": "stdout",
     "output_type": "stream",
     "text": [
      "Wall time: 155 ms\n"
     ]
    }
   ],
   "source": [
    "%%time\n",
    "\n",
    "with config_scope():\n",
    "    set_value(\"accelerated_eval\", True)\n",
    "    with lazy_evaluation_scope():\n",
    "        out = functools.reduce(operator.mul, tensors)\n",
    "        out.eval()"
   ]
  },
  {
   "cell_type": "code",
   "execution_count": null,
   "metadata": {},
   "outputs": [],
   "source": []
  }
 ],
 "metadata": {
  "kernelspec": {
   "display_name": "Python 3",
   "language": "python",
   "name": "python3"
  },
  "language_info": {
   "codemirror_mode": {
    "name": "ipython",
    "version": 3
   },
   "file_extension": ".py",
   "mimetype": "text/x-python",
   "name": "python",
   "nbconvert_exporter": "python",
   "pygments_lexer": "ipython3",
   "version": "3.7.0"
  }
 },
 "nbformat": 4,
 "nbformat_minor": 4
}
