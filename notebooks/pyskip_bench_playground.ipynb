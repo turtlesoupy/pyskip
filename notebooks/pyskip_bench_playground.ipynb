{
 "cells": [
  {
   "cell_type": "code",
   "execution_count": 1,
   "metadata": {},
   "outputs": [],
   "source": [
    "%load_ext autoreload\n",
    "%autoreload 2\n",
    "import sys\n",
    "sys.path.insert(0, \"../src/\")\n",
    "sys.path.insert(0, \"../projects/pyskip_bench/src/\")\n",
    "sys.path.insert(0, \"../projects/pyskip_blox/\")"
   ]
  },
  {
   "cell_type": "code",
   "execution_count": 2,
   "metadata": {},
   "outputs": [],
   "source": [
    "import numpy as np\n",
    "import _pyskip_cpp_ext\n",
    "import _pyskip_bench_cpp_ext\n",
    "from _pyskip_cpp_ext import config as _cpp_pyskip_config\n",
    "from pyskip import config as pyskip_config\n",
    "import pyskip\n",
    "from pyskip_bench import benchmarks\n",
    "from pyskip_blox.minecraft import PySkipMinecraftLevel\n"
   ]
  },
  {
   "cell_type": "code",
   "execution_count": null,
   "metadata": {},
   "outputs": [],
   "source": [
    "from pyskip import config as pyskip_config\n",
    "with pyskip_config.config_scope():\n",
    "    pyskip_config.set_value(\"accelerated_eval\", False)\n",
    "    # Do some pyskip stuff\n",
    "    \n",
    "with pyskip_config.config_scope():\n",
    "    pyskip_config.set_value(\"accelerated_eval\", True)\n",
    "    # Do some pyskip stuff"
   ]
  },
  {
   "cell_type": "code",
   "execution_count": 5,
   "metadata": {},
   "outputs": [],
   "source": [
    "from pyskip import config as pyskip_config\n",
    "with pyskip_config.config_scope():\n",
    "    pyskip_config.set_value(\"accelerated_eval\", False)\n",
    "    a = "
   ]
  },
  {
   "cell_type": "code",
   "execution_count": 7,
   "metadata": {},
   "outputs": [
    {
     "data": {
      "text/plain": [
       "{'pyskip_accelerated': 233.60844233333333,\n",
       " 'pyskip_lazy': 239.30777366666666,\n",
       " 'pyskip_greedy': 1115.9251933333333,\n",
       " 'pyskip_slow': 199.13406533333333}"
      ]
     },
     "execution_count": 7,
     "metadata": {},
     "output_type": "execute_result"
    }
   ],
   "source": [
    "benchmarks.DensePySkipImplementationBenchmark(10  * 1024 * 1024, 30).run()\n"
   ]
  },
  {
   "cell_type": "code",
   "execution_count": 4,
   "metadata": {},
   "outputs": [
    {
     "data": {
      "text/plain": [
       "{'pyskip_accelerated': 262.298201,\n",
       " 'pyskip_lazy': 268.85155066666664,\n",
       " 'pyskip_greedy': 1314.4522566666667,\n",
       " 'pyskip_slow': 211.72774433333333}"
      ]
     },
     "execution_count": 4,
     "metadata": {},
     "output_type": "execute_result"
    }
   ],
   "source": [
    "benchmarks.DensePySkipImplementationBenchmark(10  * 1024 * 1024, 30).run()\n"
   ]
  },
  {
   "cell_type": "code",
   "execution_count": null,
   "metadata": {},
   "outputs": [],
   "source": [
    "benchmarks.DensePySkipImplementationBenchmark(10  * 1024 * 1024, 30).run()"
   ]
  },
  {
   "cell_type": "code",
   "execution_count": 6,
   "metadata": {},
   "outputs": [
    {
     "data": {
      "text/plain": [
       "{'pyskip_accelerated': 1147.901044,\n",
       " 'pyskip_lazy': 1051.7643633333334,\n",
       " 'pyskip_greedy': 8678.866331333333,\n",
       " 'pyskip_slow': 967.1769403333333}"
      ]
     },
     "execution_count": 6,
     "metadata": {},
     "output_type": "execute_result"
    }
   ],
   "source": [
    "benchmarks.RunLengthPySkipImplementationBenchmark(\n",
    "    array_length=20 * 1024 * 1024,\n",
    "    num_non_zero=2*1024 * 1024,\n",
    "    run_length=1,\n",
    "    align_inputs=False,\n",
    "    num_inputs=128,\n",
    "    deterministic_run_length=False,\n",
    ").run(repeats=3)"
   ]
  },
  {
   "cell_type": "code",
   "execution_count": 15,
   "metadata": {},
   "outputs": [
    {
     "name": "stdout",
     "output_type": "stream",
     "text": [
      "{'accelerated_eval': True}\n",
      "[11 10 10 15 10 10 10 10 10  0]\n"
     ]
    }
   ],
   "source": [
    "with pyskip_config.config_scope():\n",
    "    _cpp_pyskip_config.set_bool_value(\"accelerated_eval\", True)\n",
    "    print(pyskip_config.get_all_values())\n",
    "    a = pyskip.Tensor((10,), 0)\n",
    "    a[0] = 1\n",
    "    a[3] = 5\n",
    "\n",
    "    b = pyskip.Tensor((10,), 0)\n",
    "    b[0] = 10\n",
    "    b[1:9] = 10\n",
    "    \n",
    "    #print(b.shape)\n",
    "    \n",
    "    \n",
    "    res = (a + b).eval()\n",
    "    print(res.to_string())"
   ]
  },
  {
   "cell_type": "code",
   "execution_count": null,
   "metadata": {},
   "outputs": [],
   "source": []
  },
  {
   "cell_type": "code",
   "execution_count": null,
   "metadata": {},
   "outputs": [],
   "source": [
    "with pyskip_config.lazy_evaluation_scope():\n",
    "    print(pyskip_config.get_all_values())\n",
    "    print(benchmarks.DenseArrayBenchmark( 1000 * 1000, 10).run_pyskip())"
   ]
  },
  {
   "cell_type": "code",
   "execution_count": null,
   "metadata": {},
   "outputs": [],
   "source": [
    "level = PySkipMinecraftLevel.from_world_infer_order(\"/home/tdimson/Downloads/Vanillaburp's Dinner Party.zip\")"
   ]
  },
  {
   "cell_type": "code",
   "execution_count": null,
   "metadata": {},
   "outputs": [],
   "source": [
    "level.chunk_list[0].tensor.to_numpy().shape"
   ]
  },
  {
   "cell_type": "code",
   "execution_count": null,
   "metadata": {},
   "outputs": [],
   "source": [
    "import torch\n",
    "torch.set_num_threads(20)"
   ]
  },
  {
   "cell_type": "code",
   "execution_count": null,
   "metadata": {},
   "outputs": [],
   "source": [
    "benchmarks.MinecraftConvolutionBenchmark(\n",
    "    level=level,\n",
    "    kernel_width=3,\n",
    "    suite_kwargs={\n",
    "        \"pyskip\": {\n",
    "            \"num_threads\": 2\n",
    "        }\n",
    "    }\n",
    ").run(repeats=3)"
   ]
  },
  {
   "cell_type": "code",
   "execution_count": null,
   "metadata": {},
   "outputs": [],
   "source": [
    "benchmarks.DenseArrayBenchmark(1000 * 1000, 10).run_torch()"
   ]
  },
  {
   "cell_type": "code",
   "execution_count": null,
   "metadata": {},
   "outputs": [],
   "source": [
    "benchmarks.DenseArrayBenchmark.run_against_axis(\n",
    "    \"array_length\", [100, 1000, 10000, 100000, 1000000], \n",
    "    repeats=3, \n",
    "    verbose=False,\n",
    "    num_inputs=8,\n",
    "    suite_kwargs={\n",
    "        \"pyskip\": {\n",
    "            \"num_threads\": 32\n",
    "        }\n",
    "    }\n",
    ")"
   ]
  },
  {
   "cell_type": "code",
   "execution_count": null,
   "metadata": {},
   "outputs": [],
   "source": [
    "benchmarks.DenseArrayBenchmark(4 * 1024 * 1024 * 1024 // 4, 2, suite_kwargs={\"pyskip\": {\"num_threads\": 32}}).run()"
   ]
  },
  {
   "cell_type": "code",
   "execution_count": null,
   "metadata": {},
   "outputs": [],
   "source": [
    "benchmarks.DenseArrayBenchmark(4 * 1024 * 1024 * 1024 // 4, 2).run_pyskip(num_threads=2)"
   ]
  },
  {
   "cell_type": "code",
   "execution_count": null,
   "metadata": {},
   "outputs": [],
   "source": [
    "benchmarks.RunLengthArrayBenchmark(\n",
    "    array_length=1 * 1024 * 1024 * 1024 // 4,\n",
    "    num_non_zero=1024 * 1024, \n",
    "    run_length=100,\n",
    "    align_inputs=False,\n",
    "    num_inputs=2,\n",
    "    deterministic_run_length=False,\n",
    ").run()"
   ]
  },
  {
   "cell_type": "code",
   "execution_count": 18,
   "metadata": {},
   "outputs": [
    {
     "name": "stdout",
     "output_type": "stream",
     "text": [
      "{'accelerated_eval': True}\n",
      "{'pyskip': 478.81714999999997, 'memory': 8.1424, 'torch': 532.8753438}\n"
     ]
    }
   ],
   "source": [
    "with pyskip_config.config_scope():\n",
    "    pyskip_config.set_value(\"accelerated_eval\", True)\n",
    "    print(pyskip_config.get_all_values())\n",
    "    print(benchmarks.Dense3DConvolutionBenchmark(\n",
    "        (256, 256, 256), 3, \n",
    "        suite_kwargs={\n",
    "            \"torch\": {\n",
    "                \"device\": \"cpu\"\n",
    "            },\n",
    "            \"pyskip\": {\n",
    "                \"num_threads\": 32\n",
    "            }\n",
    "        }\n",
    "    ).run(repeats=5))"
   ]
  },
  {
   "cell_type": "code",
   "execution_count": 19,
   "metadata": {},
   "outputs": [
    {
     "name": "stdout",
     "output_type": "stream",
     "text": [
      "{'accelerated_eval': False}\n",
      "{'pyskip': 445.23258159999995, 'memory': 7.67, 'torch': 533.9207988000001}\n"
     ]
    }
   ],
   "source": [
    "with pyskip_config.config_scope():\n",
    "    pyskip_config.set_value(\"accelerated_eval\", False)\n",
    "    print(pyskip_config.get_all_values())\n",
    "    print(benchmarks.Dense3DConvolutionBenchmark(\n",
    "        (256, 256, 256), 3, \n",
    "        suite_kwargs={\n",
    "            \"torch\": {\n",
    "                \"device\": \"cpu\"\n",
    "            },\n",
    "            \"pyskip\": {\n",
    "                \"num_threads\": 32\n",
    "            }\n",
    "        }\n",
    "    ).run(repeats=5))"
   ]
  },
  {
   "cell_type": "code",
   "execution_count": 5,
   "metadata": {},
   "outputs": [
    {
     "name": "stdout",
     "output_type": "stream",
     "text": [
      "{'accelerated_eval': True}\n",
      "{'pyskip': 613.0900296666666, 'memory': 9.234333333333334, 'torch': 542.7629929999999}\n"
     ]
    }
   ],
   "source": [
    "with pyskip_config.config_scope():\n",
    "    pyskip_config.set_value(\"accelerated_eval\", True)\n",
    "    print(pyskip_config.get_all_values())\n",
    "    print(benchmarks.Dense3DConvolutionBenchmark(\n",
    "        (256, 256, 256), 3, \n",
    "        suite_kwargs={\n",
    "            \"torch\": {\n",
    "                \"device\": \"cpu\"\n",
    "            },\n",
    "            \"pyskip\": {\n",
    "                \"num_threads\": 32\n",
    "            }\n",
    "        }\n",
    "    ).run(repeats=3))"
   ]
  },
  {
   "cell_type": "code",
   "execution_count": null,
   "metadata": {},
   "outputs": [],
   "source": [
    "benchmarks.RunLength3DConvolutionBenchmark(\n",
    "    shape=(256, 256, 256),\n",
    "    kernel_width=3,\n",
    "    num_non_zero=100, \n",
    "    run_length=100,\n",
    "    align_inputs=False,\n",
    "    num_inputs=2,\n",
    "    deterministic_run_length=False,\n",
    ").run()"
   ]
  },
  {
   "cell_type": "code",
   "execution_count": null,
   "metadata": {},
   "outputs": [],
   "source": [
    "benchmarks.MNISTConvolutionBenchmark(\n",
    "    mnist_path=\"/home/tdimson/projects/pyskip/projects/pyskip_bench/data/mnist_train.csv.gz\",\n",
    "    kernel_width=5,\n",
    "    num_kernels=1,\n",
    "    suite_kwargs={\"pyskip\": {\"num_threads\": 32}},\n",
    ").run()"
   ]
  },
  {
   "cell_type": "code",
   "execution_count": null,
   "metadata": {},
   "outputs": [],
   "source": [
    "quantized = benchmarks.MNISTConvolutionBenchmark._numpy_from_mnist(\"/home/tdimson/projects/pyskip/projects/pyskip_bench/data/mnist_train.csv.gz\", quantize_buckets=2)"
   ]
  },
  {
   "cell_type": "code",
   "execution_count": null,
   "metadata": {},
   "outputs": [],
   "source": [
    "\n",
    "pyskip_tensor = pyskip.Tensor.from_numpy(quantized)\n",
    "len(pyskip_tensor) / (pyskip_tensor.rle_length() * 2)"
   ]
  },
  {
   "cell_type": "code",
   "execution_count": null,
   "metadata": {},
   "outputs": [],
   "source": []
  },
  {
   "cell_type": "code",
   "execution_count": null,
   "metadata": {},
   "outputs": [],
   "source": []
  },
  {
   "cell_type": "code",
   "execution_count": null,
   "metadata": {},
   "outputs": [],
   "source": [
    "import pandas as pd\n",
    "csv = pd.read_csv(\"/home/tdimson/projects/pyskip/projects/pyskip_bench/data/mnist_train.csv.gz\")\n",
    "data_columns = [e for e in csv.columns if e != \"label\"]\n",
    "np_mnist = csv[data_columns].to_numpy()\n",
    "batch_size, example_size = np_mnist.shape\n",
    "digit_size = 28\n",
    "layout = np_mnist.reshape(digit_size, digit_size * batch_size)\n",
    "tensor = pyskip.Tensor.from_numpy(layout)"
   ]
  },
  {
   "cell_type": "code",
   "execution_count": null,
   "metadata": {},
   "outputs": [],
   "source": [
    "quantized = layout // 1\n",
    "tensor = pyskip.Tensor.from_numpy(quantized)\n",
    "len(tensor) / (2 * tensor.rle_length())"
   ]
  },
  {
   "cell_type": "code",
   "execution_count": null,
   "metadata": {},
   "outputs": [],
   "source": [
    "layout.size"
   ]
  }
 ],
 "metadata": {
  "kernelspec": {
   "display_name": "Python 3",
   "language": "python",
   "name": "python3"
  },
  "language_info": {
   "codemirror_mode": {
    "name": "ipython",
    "version": 3
   },
   "file_extension": ".py",
   "mimetype": "text/x-python",
   "name": "python",
   "nbconvert_exporter": "python",
   "pygments_lexer": "ipython3",
   "version": "3.7.6"
  }
 },
 "nbformat": 4,
 "nbformat_minor": 4
}
