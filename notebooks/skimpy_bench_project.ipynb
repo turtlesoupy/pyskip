{
 "cells": [
  {
   "cell_type": "code",
   "execution_count": 3,
   "metadata": {},
   "outputs": [
    {
     "name": "stdout",
     "output_type": "stream",
     "text": [
      "The autoreload extension is already loaded. To reload it, use:\n",
      "  %reload_ext autoreload\n"
     ]
    }
   ],
   "source": [
    "%load_ext autoreload\n",
    "%autoreload 2\n",
    "import sys\n",
    "sys.path.insert(0, \"../src/\")\n",
    "sys.path.insert(0, \"../projects/skimpy_bench/src/\")\n",
    "sys.path.insert(0, \"../projects/skimpy_blox/\")"
   ]
  },
  {
   "cell_type": "code",
   "execution_count": 4,
   "metadata": {},
   "outputs": [],
   "source": [
    "import math\n",
    "import functools\n",
    "import seaborn as sns\n",
    "import matplotlib\n",
    "import matplotlib.pyplot as plt\n",
    "import numpy as np\n",
    "import pandas as pd\n",
    "from pathlib import Path\n",
    "\n",
    "import skimpy\n",
    "import _skimpy_cpp_ext\n",
    "import _skimpy_bench_cpp_ext\n",
    "from skimpy import config as skimpy_config\n",
    "from skimpy_bench import benchmarks\n",
    "from skimpy_blox.minecraft import SkimpyMinecraftLevel\n",
    "\n",
    "sns.set()"
   ]
  },
  {
   "cell_type": "code",
   "execution_count": 5,
   "metadata": {},
   "outputs": [],
   "source": [
    "NUM_REPEATS = 1\n",
    "BYTES_PER_INT = 4\n",
    "MEGABYTES = 1024 * 1024\n",
    "\n",
    "def log_2_elements_space(start_size_bytes, end_size_bytes, num):\n",
    "    return np.logspace(math.log2(start_size_bytes // BYTES_PER_INT), math.log2(end_size_bytes // BYTES_PER_INT), base=2, num=num).astype(int)\n",
    "\n",
    "def line_plot(\n",
    "    xs,\n",
    "    ys_dict,\n",
    "    xlabel=None,\n",
    "    ylabel=None,\n",
    "    title=None,\n",
    "    output_path=None,\n",
    "):\n",
    "    fig, ax = plt.subplots(figsize=(8, 6))\n",
    "    \n",
    "    for legend_name, vals in ys_dict.items():\n",
    "        ax.plot(xs, vals, label=legend_name)\n",
    "        \n",
    "    if title:\n",
    "        plt.title(title)\n",
    "    if ylabel:\n",
    "        plt.ylabel(ylabel)\n",
    "    if xlabel:\n",
    "        plt.xlabel(xlabel)\n",
    "    #plt.xscale(\"log\")\n",
    "    plt.yscale(\"log\")\n",
    "    ax.get_yaxis().set_major_formatter(matplotlib.ticker.FuncFormatter(lambda x, p: f\"{x:.1f}\" if x < 1 else f\"{x:.0f}\"))\n",
    "    #ax1.get_xaxis().set_major_formatter(matplotlib.ticker.ScalarFormatter())\n",
    "    ax.get_xaxis().set_major_formatter(matplotlib.ticker.FuncFormatter(lambda x, p: format(int(x), ',')))\n",
    "    plt.legend()\n",
    "    \n",
    "    if output_path:\n",
    "        plt.tight_layout()\n",
    "        plt.savefig(output_path, dpi=300)\n",
    "    plt.show()"
   ]
  },
  {
   "cell_type": "code",
   "execution_count": null,
   "metadata": {},
   "outputs": [],
   "source": [
    "array_lengths = log_2_elements_space(256, 1000 * MEGABYTES, num=10)\n",
    "vals = benchmarks.DenseArrayBenchmark.run_against_axis(\n",
    "    'array_length', array_lengths,\n",
    "    repeats=NUM_REPEATS,\n",
    "    num_inputs=4,\n",
    ")"
   ]
  },
  {
   "cell_type": "code",
   "execution_count": null,
   "metadata": {},
   "outputs": [],
   "source": [
    "line_plot(\n",
    "    array_lengths, \n",
    "    vals, \n",
    "    xlabel=\"Array Length (int32s)\", \n",
    "    ylabel=\"Wall Time (ms)\",\n",
    "    title=\"Dense Performance - 4-way Array Add\"\n",
    ")"
   ]
  }
 ],
 "metadata": {
  "kernelspec": {
   "display_name": "Python 3",
   "language": "python",
   "name": "python3"
  },
  "language_info": {
   "codemirror_mode": {
    "name": "ipython",
    "version": 3
   },
   "file_extension": ".py",
   "mimetype": "text/x-python",
   "name": "python",
   "nbconvert_exporter": "python",
   "pygments_lexer": "ipython3",
   "version": "3.7.6"
  }
 },
 "nbformat": 4,
 "nbformat_minor": 4
}
